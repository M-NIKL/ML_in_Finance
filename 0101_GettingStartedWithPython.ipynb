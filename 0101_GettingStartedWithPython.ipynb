{
 "cells": [
  {
   "cell_type": "markdown",
   "metadata": {},
   "source": [
    "\n",
    "# Getting Started With Python\n",
    "\n",
    "## Installation\n",
    "\n",
    "There are various ways to install Python. Assuming the reader is not (yet) well versed in programming, I suggest to download the Anaconda distribution, which works for all major operating systems (Mac OS X, Windows, Linux) and provides a fully fledged Python installation including necessary libraries and Jupyter notebooks. \n",
    "\n",
    "* Go to https://www.anaconda.com/distribution/#download-section\n",
    "* Download latest version corresponding to your OS\n",
    "* Run .exe/.pkg file. \n",
    "  - Make sure to set flag \"Add Anaconda to my PATH environment variable\" and \n",
    "  - \"Register Anaconda as my default Python 3.x\"\n",
    "\n",
    "Be sure to download the latest Python 3.x version (not 2.x; this older Python version should by now no longer be a topic and backward compability is anyway no longer given!). \n",
    "\n",
    "The installation should not cause any problems. If you wisch a step-by-step guide (incl. some further insights) see [Cyrille Rossants excellent notebook](http://nbviewer.jupyter.org/github/ipython-books/minibook-2nd-code/blob/master/chapter1/12-installation.ipynb) or simply the [Jupyter Documentation](https://jupyter.org/documentation) on the topic."
   ]
  },
  {
   "cell_type": "markdown",
   "metadata": {},
   "source": [
    "## IPyton / Jupyter Notebooks\n",
    "\n",
    "What you see here is a so called Jupyter notebook. It makes it possible to interactively combine code with output (results, graphics), markdown text and LaTeX (for mathematical expressions). All codes discussed in this course will be provided through such notebooks and you soon will understand and appreciate the functionality they provide.\n",
    "\n",
    "* The basic markdown commands are well summarized [here](http://jupyter-notebook.readthedocs.io/en/latest/examples/Notebook/Working%20With%20Markdown%20Cells.html). \n",
    "* LaTeX is a typesetting language with extensive capabilities to typeset math. For a basic introductin to math in LaTeX see sections 3.3 - 3.4 (p. 22 - 33) of *More Math into LaTeX* by Grätzer (2007), [available as pdf here](http://static.latexstudio.net/wp-content/uploads/2014/09/math.into_.Latex_.4ed.pdf). Also very insightful are the video tutorials by Dr. Trefor Bazett on YouTube, see e.g. [here](https://www.youtube.com/watch?v=Jp0lPj2-DQA&ab_channel=Dr.TreforBazett).\n",
    "\n",
    "If you are keen on learning more about IPython/Jupyter, consider [this notebook](http://nbviewer.jupyter.org/github/ipython-books/minibook-2nd-code/blob/master/chapter1/13-nbui.ipynb) - a well written introduction by Cyrille Rossant. A more comprehensive intro can be found [here](https://www.youtube.com/watch?v=1A7tea9LSEk&ab_channel=Influxity) and a short video-intro is provided below."
   ]
  },
  {
   "cell_type": "code",
   "execution_count": 1,
   "metadata": {},
   "outputs": [
    {
     "data": {
      "image/jpeg": "[encoded data removed]",
      "text/html": [
       "\n",
       "        <iframe\n",
       "            width=\"400\"\n",
       "            height=\"300\"\n",
       "            src=\"https://www.youtube.com/embed/jZ952vChhuI\"\n",
       "            frameborder=\"0\"\n",
       "            allowfullscreen\n",
       "            \n",
       "        ></iframe>\n",
       "        "
      ],
      "text/plain": [
       "<IPython.lib.display.YouTubeVideo at 0x10db1eb71f0>"
      ]
     },
     "execution_count": 1,
     "metadata": {},
     "output_type": "execute_result"
    }
   ],
   "source": [
    "from IPython.display import YouTubeVideo\n",
    "from datetime import timedelta\n",
    "\n",
    "YouTubeVideo('jZ952vChhuI')"
   ]
  },
  {
   "cell_type": "markdown",
   "metadata": {},
   "source": [
    "## Data Types in Python\n",
    "\n",
    "### Building Blocks\n",
    "\n",
    "To analyze data in Python, data has to be stored as some kind of data type. These data types form the structure of the data and make data easily accessible. Python's basic building blocks are:\n",
    "* Numbers (integer, floating point, and complex)\n",
    "* Booleans (true/false)\n",
    "* Strings\n",
    "* Lists\n",
    "* Dictionaries\n",
    "* Tuples\n",
    "\n",
    "We will discuss the first four data types above as these are relevant for us.\n",
    "\n",
    "Python is a dynamically typed language, meaning that - unlike in static languages such as VBA, C, Java etc. - you do not explicitly need to assign a data type to a variable. Python will do that for you. A few examples will explain this best: "
   ]
  },
  {
   "cell_type": "code",
   "execution_count": 2,
   "metadata": {},
   "outputs": [
    {
     "name": "stdout",
     "output_type": "stream",
     "text": [
      "a:  42\n",
      "b:  <class 'float'>\n",
      "c:  <class 'str'>\n",
      "d:  <class 'bool'>\n"
     ]
    }
   ],
   "source": [
    "a = 42       # In VBA you would first have to define data type, only then the value: Dim a as integer; a = 42\n",
    "b = 10.3     # VBA: Dim b as Double; b = 10.3\n",
    "c = 'hello'  # VBA: Dim c as String; c = \"hello\"\n",
    "d = True     # VBA: Dim d as Boolean; d = True\n",
    "\n",
    "print('a: ', (a))\n",
    "print('b: ', type(b))\n",
    "print('c: ', type(c))\n",
    "print('d: ', type(d))"
   ]
  },
  {
   "cell_type": "markdown",
   "metadata": {},
   "source": [
    "### Running Code in Jupyter\n",
    "\n",
    "How did I execute this code section? If I only want to run a code cell, I select the cell and hit `ctrl + enter`. If you wish to run the entire notebook, go to Kernel (dropdown menu) and select \"Restart & Run All\". There are lots of shortcuts that let you handle a Jupyter notebook just from the keyboard. Press `H` on your keyboard (or go to Help/Keyboard Shortcuts) to see all of the shortcuts. "
   ]
  },
  {
   "cell_type": "markdown",
   "metadata": {},
   "source": [
    "### Simple Arithmetics\n",
    "Simple arithmetic operations are straight forward:"
   ]
  },
  {
   "cell_type": "code",
   "execution_count": 3,
   "metadata": {
    "scrolled": true
   },
   "outputs": [
    {
     "name": "stdout",
     "output_type": "stream",
     "text": [
      " a = -2 \n",
      " b = 12.0 \n",
      " c = 1.4142135623730951 \n",
      " d = 1 \n",
      " e = 3\n"
     ]
    }
   ],
   "source": [
    "a = 2 + 4 - 8      # Addition & Subtraction\n",
    "b = 6 * 7 / 3 - 2  # Multiplication & Division\n",
    "c = 2**(1/2)       # Exponents & Square root\n",
    "d = 10 % 3         # Modulus\n",
    "e = 10 // 3        # Floor division\n",
    "\n",
    "print(' a =', a, '\\n',\n",
    "      'b =', b, '\\n',\n",
    "      'c =', c, '\\n',\n",
    "      'd =', d, '\\n',\n",
    "      'e =', e)"
   ]
  },
  {
   "cell_type": "markdown",
   "metadata": {},
   "source": [
    "We can even use arithmetic operators to concatenate strings:"
   ]
  },
  {
   "cell_type": "code",
   "execution_count": 4,
   "metadata": {},
   "outputs": [
    {
     "name": "stdout",
     "output_type": "stream",
     "text": [
      "Hello World!\n",
      "HelloHelloHello\n"
     ]
    }
   ],
   "source": [
    "a = 'Hello'\n",
    "b = 'World!'\n",
    "print(a + ' ' + b)\n",
    "\n",
    "print(a * 3)"
   ]
  },
  {
   "cell_type": "markdown",
   "metadata": {},
   "source": [
    "### Lists\n",
    "Now let's look at lists. Lists are capable of combining multiple data types."
   ]
  },
  {
   "cell_type": "code",
   "execution_count": 5,
   "metadata": {},
   "outputs": [
    {
     "name": "stdout",
     "output_type": "stream",
     "text": [
      "e:  <class 'list'>\n",
      "[<class 'str'>, <class 'str'>, <class 'str'>, <class 'float'>, <class 'int'>]\n"
     ]
    }
   ],
   "source": [
    "e = ['Calynn', 'Dillon', '10.3', c, d]\n",
    "print('e: ', type(e))\n",
    "print([type(item) for item in e])"
   ]
  },
  {
   "cell_type": "markdown",
   "metadata": {},
   "source": [
    "Note that the third element in list `e` is set in quotation marks and thus Python interprets this as string."
   ]
  },
  {
   "cell_type": "markdown",
   "metadata": {},
   "source": [
    "## NumPy Arrays\n",
    "\n",
    "### NumPy Arrays from Lists\n",
    "\n",
    "For as useful list appear, its flexibility come at a high cost. Because each element contains not only the value itself but also information about the data type, storing data in list consumes a lot of memory. For this reason the Python community introduced NumPy (short for Numerical Python). Among other things, this package provides **fixed-type arrays** which are more efficient to store and operate on dense data than simple lists. \n",
    "\n",
    "Fixed-type arrays are dense arrays of uniform type. Uniform here means that all entries of the array have the same data type, e.g. all are floating point numbers. We start by importing the NumPy package (following general convention we import this package under the alias name `np`) and create some simple NumPy arrays form Python lists."
   ]
  },
  {
   "cell_type": "code",
   "execution_count": 6,
   "metadata": {
    "scrolled": true
   },
   "outputs": [
    {
     "data": {
      "text/plain": [
       "array([ 3, 18, 12])"
      ]
     },
     "execution_count": 6,
     "metadata": {},
     "output_type": "execute_result"
    }
   ],
   "source": [
    "import numpy as np\n",
    "\n",
    "# Integer array\n",
    "np.array([3, 18, 12])"
   ]
  },
  {
   "cell_type": "code",
   "execution_count": 7,
   "metadata": {},
   "outputs": [
    {
     "data": {
      "text/plain": [
       "array([ 3., 18., 12.])"
      ]
     },
     "execution_count": 7,
     "metadata": {},
     "output_type": "execute_result"
    }
   ],
   "source": [
    "# Floating point array\n",
    "np.array([3., 18, 12])"
   ]
  },
  {
   "cell_type": "markdown",
   "metadata": {},
   "source": [
    "Similarly, we can explicitly set the data type:"
   ]
  },
  {
   "cell_type": "code",
   "execution_count": 8,
   "metadata": {},
   "outputs": [
    {
     "data": {
      "text/plain": [
       "array([ 3., 18., 12.], dtype=float32)"
      ]
     },
     "execution_count": 8,
     "metadata": {},
     "output_type": "execute_result"
    }
   ],
   "source": [
    "np.array([3, 18, 12], dtype='float32') "
   ]
  },
  {
   "cell_type": "code",
   "execution_count": 9,
   "metadata": {},
   "outputs": [
    {
     "data": {
      "text/plain": [
       "array([[1, 2, 3],\n",
       "       [2, 3, 4],\n",
       "       [3, 4, 5]])"
      ]
     },
     "execution_count": 9,
     "metadata": {},
     "output_type": "execute_result"
    }
   ],
   "source": [
    "# Multidimensional arrays\n",
    "np.array([range(i, i + 3) for i in [1, 2, 3]])"
   ]
  },
  {
   "cell_type": "markdown",
   "metadata": {},
   "source": [
    "We've seen above that we can define the data type for NumPy arrays. A list of available data types can be found in the [NumPy documentation](https://docs.scipy.org/doc/numpy/user/basics.types.html).\n"
   ]
  },
  {
   "cell_type": "markdown",
   "metadata": {},
   "source": [
    "### NumPy Arrays from Scratch\n",
    "Sometimes it is helpful to create arrays from scratch. Here are some examples:"
   ]
  },
  {
   "cell_type": "code",
   "execution_count": 10,
   "metadata": {},
   "outputs": [
    {
     "data": {
      "text/plain": [
       "array([0, 0, 0, 0, 0, 0, 0, 0])"
      ]
     },
     "execution_count": 10,
     "metadata": {},
     "output_type": "execute_result"
    }
   ],
   "source": [
    "# Integer array with 8 zeros \n",
    "np.zeros(shape=8, dtype='int')"
   ]
  },
  {
   "cell_type": "code",
   "execution_count": 11,
   "metadata": {
    "scrolled": true
   },
   "outputs": [
    {
     "data": {
      "text/plain": [
       "array([[1., 1., 1.],\n",
       "       [1., 1., 1.]], dtype=float32)"
      ]
     },
     "execution_count": 11,
     "metadata": {},
     "output_type": "execute_result"
    }
   ],
   "source": [
    "# 2x3 floating-point array filled with 1s\n",
    "np.ones((2, 3), 'float32')"
   ]
  },
  {
   "cell_type": "markdown",
   "metadata": {},
   "source": [
    "Note that I do not need to use `np.ones(shape=(2, 3), dtype='float32')` to define the shape. It's ok to go with the short version as long as the order is correct, Python will understand. However, going with the explicit version helps to make your code more readable and I encourage students to follow this advice.\n",
    "\n",
    "Each predefined function is documented in a help page. One can search for it by calling `?np.ones`, `np.ones?` or `help(np.ones)`. If it is not clear how the function is precisely called, it is best to use * (wildcard character) - as in `np.*ne*?`. This will list all functions in the NumPy library which contain 'ne' in their name. In our example `np.ones?` shows the following details:"
   ]
  },
  {
   "cell_type": "code",
   "execution_count": 12,
   "metadata": {},
   "outputs": [],
   "source": [
    "#np.one?"
   ]
  },
  {
   "cell_type": "markdown",
   "metadata": {},
   "source": [
    "The function description also shows examples of how the function can be used. Often this is very helpful, but for the sake of brevity, these are omitted here.\n",
    "\n",
    "In the function description we see that the order of arguments is `shape, dtype, order`. If our inputs are in this order, one does not need to specify the argument. Furthermore, we see that `dtype` and `order` is optional, meaning that if left undefined, Python will simply use the default argument. This makes for a very short code. However, going with the longer explicit version helps to make your code more readable and I encourage students to follow this advice."
   ]
  },
  {
   "cell_type": "code",
   "execution_count": 13,
   "metadata": {},
   "outputs": [
    {
     "data": {
      "text/plain": [
       "array([[2.71, 2.71],\n",
       "       [2.71, 2.71],\n",
       "       [2.71, 2.71]])"
      ]
     },
     "execution_count": 13,
     "metadata": {},
     "output_type": "execute_result"
    }
   ],
   "source": [
    "# 3x2 array filled with 2.71\n",
    "np.full(shape=(3, 2), fill_value=2.71)"
   ]
  },
  {
   "cell_type": "code",
   "execution_count": 14,
   "metadata": {},
   "outputs": [
    {
     "data": {
      "text/plain": [
       "array([[ True,  True],\n",
       "       [ True,  True]])"
      ]
     },
     "execution_count": 14,
     "metadata": {},
     "output_type": "execute_result"
    }
   ],
   "source": [
    "# 3x3 boolean array filled with 'True'\n",
    "np.full((2, 2), 1, bool)"
   ]
  },
  {
   "cell_type": "code",
   "execution_count": 15,
   "metadata": {},
   "outputs": [
    {
     "data": {
      "text/plain": [
       "array([0. , 0.1, 0.2, 0.3, 0.4, 0.5, 0.6, 0.7, 0.8, 0.9])"
      ]
     },
     "execution_count": 15,
     "metadata": {},
     "output_type": "execute_result"
    }
   ],
   "source": [
    "# Array filled with linear sequence\n",
    "np.arange(start = 0, stop = 1, step = 0.1)  # or simply np.arrange(0, 1, 0.1)"
   ]
  },
  {
   "cell_type": "code",
   "execution_count": 16,
   "metadata": {},
   "outputs": [
    {
     "data": {
      "text/plain": [
       "array([0.        , 0.33333333, 0.66666667, 1.        ])"
      ]
     },
     "execution_count": 16,
     "metadata": {},
     "output_type": "execute_result"
    }
   ],
   "source": [
    "# Array of evenly spaced values\n",
    "np.linspace(start = 0, stop = 1, num = 4)"
   ]
  },
  {
   "cell_type": "markdown",
   "metadata": {},
   "source": [
    "Arrays with random variables are easily created. Below three examples. See the [numpy.random documentation page](https://docs.scipy.org/doc/numpy/reference/routines.random.html) for details on how to generate other random variable-arrays."
   ]
  },
  {
   "cell_type": "code",
   "execution_count": 17,
   "metadata": {},
   "outputs": [
    {
     "data": {
      "text/plain": [
       "array([[0.72384969, 0.75558845, 0.43896765, 0.51796104],\n",
       "       [0.93973015, 0.95335858, 0.31814063, 0.4450227 ],\n",
       "       [0.63031166, 0.42601343, 0.99211742, 0.22967725],\n",
       "       [0.24568246, 0.85261188, 0.42802222, 0.77539716]])"
      ]
     },
     "execution_count": 17,
     "metadata": {},
     "output_type": "execute_result"
    }
   ],
   "source": [
    "# 4x4 array of uniformly distributed random variables\n",
    "np.random.random_sample(size = (4, 4))"
   ]
  },
  {
   "cell_type": "code",
   "execution_count": 18,
   "metadata": {},
   "outputs": [
    {
     "data": {
      "text/plain": [
       "array([[ 1.66821039,  8.48679449, 16.01873447],\n",
       "       [ 5.2082683 ,  8.5586136 ,  1.74618651],\n",
       "       [-6.30042556, -2.33825845,  5.27180312]])"
      ]
     },
     "execution_count": 18,
     "metadata": {},
     "output_type": "execute_result"
    }
   ],
   "source": [
    "# 3x3 array of normally distributed random variables (with mean = 4, sd = 6)\n",
    "np.random.normal(loc = 4, scale = 6, size = (3, 3))"
   ]
  },
  {
   "cell_type": "code",
   "execution_count": 19,
   "metadata": {},
   "outputs": [
    {
     "data": {
      "text/plain": [
       "array([[12,  3, 13],\n",
       "       [ 3,  1, 12],\n",
       "       [ 6,  8,  3]])"
      ]
     },
     "execution_count": 19,
     "metadata": {},
     "output_type": "execute_result"
    }
   ],
   "source": [
    "# 3x3 array of random integers in interval [0, 15)\n",
    "np.random.randint(low = 0, high = 15, size = (3, 3))"
   ]
  },
  {
   "cell_type": "code",
   "execution_count": 20,
   "metadata": {},
   "outputs": [
    {
     "data": {
      "text/plain": [
       "array([[1., 0., 0., 0.],\n",
       "       [0., 1., 0., 0.],\n",
       "       [0., 0., 1., 0.],\n",
       "       [0., 0., 0., 1.]])"
      ]
     },
     "execution_count": 20,
     "metadata": {},
     "output_type": "execute_result"
    }
   ],
   "source": [
    "# 4x4 identity matrix\n",
    "np.eye(4)"
   ]
  },
  {
   "cell_type": "markdown",
   "metadata": {},
   "source": [
    "### NumPy Array Attributes\n",
    "Each NumPy array has certain attributes."
   ]
  },
  {
   "cell_type": "markdown",
   "metadata": {},
   "source": [
    "Here are some attributes we can call:\n",
    "\n",
    "| Attribute | Description            |\n",
    "|-----------|------------------------|\n",
    "| `ndim`    | No. of dimensions      |\n",
    "| `shape`   | Size of each dimension |\n",
    "| `size`    | Total size of array    |\n",
    "| `dtype`   | Data type of array     |\n",
    "| `itemsize` | Size (in bytes)       |\n",
    "| `nbytes`   | Total size (in bytes) |\n",
    "\n",
    "To show how one can access them we'll define three arrays."
   ]
  },
  {
   "cell_type": "code",
   "execution_count": 21,
   "metadata": {},
   "outputs": [],
   "source": [
    "np.random.seed(1234)  # Set seed for reproducibility\n",
    "\n",
    "x = np.random.randint(10, size = 6)          # 1-dimensional array (vector)\n",
    "y = np.random.randint(10, size = (3, 4))     # 2-dimensional array (matrix)\n",
    "z = np.random.randint(10, size = (3, 4, 5))  # 3-dimensional array"
   ]
  },
  {
   "cell_type": "markdown",
   "metadata": {},
   "source": [
    "A brief note regarding the setting of the seed: Numpy suggests a new way of setting the seed. Details see [here](https://towardsdatascience.com/stop-using-numpy-random-seed-581a9972805f). This is what is suggested moving forward: "
   ]
  },
  {
   "cell_type": "code",
   "execution_count": 22,
   "metadata": {},
   "outputs": [
    {
     "data": {
      "text/plain": [
       "array([[0.77395605, 0.43887844, 0.85859792],\n",
       "       [0.69736803, 0.09417735, 0.97562235],\n",
       "       [0.7611397 , 0.78606431, 0.12811363]])"
      ]
     },
     "execution_count": 22,
     "metadata": {},
     "output_type": "execute_result"
    }
   ],
   "source": [
    "rng = np.random.default_rng(seed=42)\n",
    "rng.random(size=(3, 3))"
   ]
  },
  {
   "cell_type": "markdown",
   "metadata": {},
   "source": [
    "And here's how we call for these properties:"
   ]
  },
  {
   "cell_type": "code",
   "execution_count": 23,
   "metadata": {},
   "outputs": [
    {
     "name": "stdout",
     "output_type": "stream",
     "text": [
      "  [3 6 5 4 8 9] \n",
      "\n",
      " [[1 7 9 6]\n",
      " [8 0 5 0]\n",
      " [9 6 2 0]] \n",
      "\n",
      " [[[5 2 6 3 7]\n",
      "  [0 9 0 3 2]\n",
      "  [3 1 3 1 3]\n",
      "  [7 1 7 4 0]]\n",
      "\n",
      " [[5 1 5 9 9]\n",
      "  [4 0 9 8 8]\n",
      "  [6 8 6 3 1]\n",
      "  [2 5 2 5 6]]\n",
      "\n",
      " [[7 4 3 5 6]\n",
      "  [4 6 2 4 2]\n",
      "  [7 9 7 7 2]\n",
      "  [9 7 4 9 0]]]\n"
     ]
    }
   ],
   "source": [
    "print(' ', x, '\\n\\n', y, '\\n\\n', z)"
   ]
  },
  {
   "cell_type": "code",
   "execution_count": 24,
   "metadata": {
    "scrolled": true
   },
   "outputs": [
    {
     "name": "stdout",
     "output_type": "stream",
     "text": [
      "ndim:       3\n",
      "shape:      (3, 4, 5)\n",
      "size:       60\n",
      "data type:  int32\n",
      "itemsize:   4\n",
      "nbytes:     240\n"
     ]
    }
   ],
   "source": [
    "print('ndim:      ', z.ndim)\n",
    "print('shape:     ', z.shape)\n",
    "print('size:      ', z.size)\n",
    "print('data type: ', z.dtype)\n",
    "print('itemsize:  ', z.itemsize)\n",
    "print('nbytes:    ', z.nbytes)"
   ]
  },
  {
   "cell_type": "markdown",
   "metadata": {},
   "source": [
    "### Index: How to Access Elements\n",
    "What might be a bit counterintuitive at the beginning is that **Python's indexing starts at 0**. Other than that, accessing the $i$'th element (starting at 0) of a list or a array is straight forward.   "
   ]
  },
  {
   "cell_type": "code",
   "execution_count": 25,
   "metadata": {},
   "outputs": [
    {
     "name": "stdout",
     "output_type": "stream",
     "text": [
      "['Calynn', 'Dillon', '10.3', 1.4142135623730951, 1] \n",
      "\n",
      "[3 6 5 4 8 9] \n",
      "\n",
      "[[1 7 9 6]\n",
      " [8 0 5 0]\n",
      " [9 6 2 0]] \n",
      "\n"
     ]
    }
   ],
   "source": [
    "print(e, '\\n')  # List from above\n",
    "print(x, '\\n')  # One dimensional np array from above\n",
    "print(y, '\\n')  # Two dimensional np array from above"
   ]
  },
  {
   "cell_type": "code",
   "execution_count": 26,
   "metadata": {},
   "outputs": [
    {
     "data": {
      "text/plain": [
       "'10.3'"
      ]
     },
     "execution_count": 26,
     "metadata": {},
     "output_type": "execute_result"
    }
   ],
   "source": [
    "e[2]"
   ]
  },
  {
   "cell_type": "code",
   "execution_count": 27,
   "metadata": {},
   "outputs": [
    {
     "data": {
      "text/plain": [
       "'10.310.3'"
      ]
     },
     "execution_count": 27,
     "metadata": {},
     "output_type": "execute_result"
    }
   ],
   "source": [
    "e[2] * 2"
   ]
  },
  {
   "cell_type": "code",
   "execution_count": 28,
   "metadata": {},
   "outputs": [
    {
     "data": {
      "text/plain": [
       "9"
      ]
     },
     "execution_count": 28,
     "metadata": {},
     "output_type": "execute_result"
    }
   ],
   "source": [
    "x[5]"
   ]
  },
  {
   "cell_type": "code",
   "execution_count": 29,
   "metadata": {},
   "outputs": [
    {
     "data": {
      "text/plain": [
       "9"
      ]
     },
     "execution_count": 29,
     "metadata": {},
     "output_type": "execute_result"
    }
   ],
   "source": [
    "y[2, 0]  # Note again that [m, n] starts counting for both rows (m) as well as columns (n) from 0"
   ]
  },
  {
   "cell_type": "markdown",
   "metadata": {},
   "source": [
    "To access the end of an array, you can also use negative indices:"
   ]
  },
  {
   "cell_type": "code",
   "execution_count": 30,
   "metadata": {},
   "outputs": [
    {
     "data": {
      "text/plain": [
       "1"
      ]
     },
     "execution_count": 30,
     "metadata": {},
     "output_type": "execute_result"
    }
   ],
   "source": [
    "e[-1]"
   ]
  },
  {
   "cell_type": "code",
   "execution_count": 31,
   "metadata": {},
   "outputs": [
    {
     "data": {
      "text/plain": [
       "5"
      ]
     },
     "execution_count": 31,
     "metadata": {},
     "output_type": "execute_result"
    }
   ],
   "source": [
    "y[-2, 2]"
   ]
  },
  {
   "cell_type": "markdown",
   "metadata": {},
   "source": [
    "Arrays are also possible as inputs:"
   ]
  },
  {
   "cell_type": "code",
   "execution_count": 32,
   "metadata": {},
   "outputs": [
    {
     "data": {
      "text/plain": [
       "array([4, 9, 5])"
      ]
     },
     "execution_count": 32,
     "metadata": {},
     "output_type": "execute_result"
    }
   ],
   "source": [
    "ind = [3, 5, -4]\n",
    "x[ind]"
   ]
  },
  {
   "cell_type": "code",
   "execution_count": 33,
   "metadata": {},
   "outputs": [
    {
     "name": "stdout",
     "output_type": "stream",
     "text": [
      "[[ 0  1  2  3]\n",
      " [ 4  5  6  7]\n",
      " [ 8  9 10 11]]\n"
     ]
    },
    {
     "data": {
      "text/plain": [
       "array([ 4, 11])"
      ]
     },
     "execution_count": 33,
     "metadata": {},
     "output_type": "execute_result"
    }
   ],
   "source": [
    "x = np.arange(12).reshape((3, 4))\n",
    "print(x)\n",
    "row = np.array([1, 2])\n",
    "col = np.array([0, 3])\n",
    "x[row, col]"
   ]
  },
  {
   "cell_type": "markdown",
   "metadata": {},
   "source": [
    "Knowing the index we can also replace elements of an array:"
   ]
  },
  {
   "cell_type": "code",
   "execution_count": 34,
   "metadata": {},
   "outputs": [
    {
     "data": {
      "text/plain": [
       "array([[99, 99, 99, 99],\n",
       "       [ 4,  5,  6,  7],\n",
       "       [ 8,  9, 10, 11]])"
      ]
     },
     "execution_count": 34,
     "metadata": {},
     "output_type": "execute_result"
    }
   ],
   "source": [
    "x[0] = 99\n",
    "x"
   ]
  },
  {
   "cell_type": "markdown",
   "metadata": {},
   "source": [
    "**IMPORTANT NOTE:**\n",
    "\n",
    "**NumPy arrays have a fixed type. This means that e.g. if you insert a floating-point value to an integer array, the value will be truncated!**\n"
   ]
  },
  {
   "cell_type": "code",
   "execution_count": 35,
   "metadata": {},
   "outputs": [
    {
     "data": {
      "text/plain": [
       "array([[ 3,  3,  3,  3],\n",
       "       [ 4,  5,  6,  7],\n",
       "       [ 8,  9, 10, 11]])"
      ]
     },
     "execution_count": 35,
     "metadata": {},
     "output_type": "execute_result"
    }
   ],
   "source": [
    "x[0] = 3.14159; x"
   ]
  },
  {
   "cell_type": "markdown",
   "metadata": {},
   "source": [
    "### Array Slicing\n",
    "We can also use square brackets to access a subset of the data. The syntax is:\n",
    "\n",
    "`x[start:stop:step]`\n",
    "\n",
    "The default values are: `start=0`, `stop='size of dimension'`, `step=1` "
   ]
  },
  {
   "cell_type": "code",
   "execution_count": 36,
   "metadata": {},
   "outputs": [
    {
     "data": {
      "text/plain": [
       "array([0, 1, 2, 3, 4, 5, 6, 7, 8, 9])"
      ]
     },
     "execution_count": 36,
     "metadata": {},
     "output_type": "execute_result"
    }
   ],
   "source": [
    "x = np.arange(10)\n",
    "x"
   ]
  },
  {
   "cell_type": "code",
   "execution_count": 37,
   "metadata": {
    "scrolled": true
   },
   "outputs": [
    {
     "data": {
      "text/plain": [
       "array([0, 1, 2])"
      ]
     },
     "execution_count": 37,
     "metadata": {},
     "output_type": "execute_result"
    }
   ],
   "source": [
    "x[:3]  # First three elements"
   ]
  },
  {
   "cell_type": "code",
   "execution_count": 38,
   "metadata": {},
   "outputs": [
    {
     "data": {
      "text/plain": [
       "array([7, 8, 9])"
      ]
     },
     "execution_count": 38,
     "metadata": {},
     "output_type": "execute_result"
    }
   ],
   "source": [
    "x[7:]  # Elements AFTER 7th element"
   ]
  },
  {
   "cell_type": "code",
   "execution_count": 39,
   "metadata": {},
   "outputs": [
    {
     "data": {
      "text/plain": [
       "array([4, 5, 6, 7])"
      ]
     },
     "execution_count": 39,
     "metadata": {},
     "output_type": "execute_result"
    }
   ],
   "source": [
    "x[4:8]  # Element 5, 6, 7 and 8"
   ]
  },
  {
   "cell_type": "code",
   "execution_count": 40,
   "metadata": {
    "scrolled": true
   },
   "outputs": [
    {
     "data": {
      "text/plain": [
       "array([0, 2, 4, 6, 8])"
      ]
     },
     "execution_count": 40,
     "metadata": {},
     "output_type": "execute_result"
    }
   ],
   "source": [
    "x[::2]  # Even elements"
   ]
  },
  {
   "cell_type": "code",
   "execution_count": 41,
   "metadata": {},
   "outputs": [
    {
     "data": {
      "text/plain": [
       "array([1, 3, 5, 7, 9])"
      ]
     },
     "execution_count": 41,
     "metadata": {},
     "output_type": "execute_result"
    }
   ],
   "source": [
    "x[1::2]  # Odd elements"
   ]
  },
  {
   "cell_type": "code",
   "execution_count": 42,
   "metadata": {
    "scrolled": true
   },
   "outputs": [
    {
     "data": {
      "text/plain": [
       "array([9, 8, 7, 6, 5, 4, 3, 2, 1, 0])"
      ]
     },
     "execution_count": 42,
     "metadata": {},
     "output_type": "execute_result"
    }
   ],
   "source": [
    "x[::-1]  # All elements reversed"
   ]
  },
  {
   "cell_type": "code",
   "execution_count": 43,
   "metadata": {
    "scrolled": true
   },
   "outputs": [
    {
     "data": {
      "text/plain": [
       "array([9, 7, 5, 3, 1])"
      ]
     },
     "execution_count": 43,
     "metadata": {},
     "output_type": "execute_result"
    }
   ],
   "source": [
    "x[::-2]  # Odd elements reversed"
   ]
  },
  {
   "cell_type": "markdown",
   "metadata": {},
   "source": [
    "Array slicing works the same for multidimensional arrays."
   ]
  },
  {
   "cell_type": "code",
   "execution_count": 44,
   "metadata": {},
   "outputs": [
    {
     "data": {
      "text/plain": [
       "array([[1, 7, 9, 6],\n",
       "       [8, 0, 5, 0],\n",
       "       [9, 6, 2, 0]])"
      ]
     },
     "execution_count": 44,
     "metadata": {},
     "output_type": "execute_result"
    }
   ],
   "source": [
    "y  # from above"
   ]
  },
  {
   "cell_type": "code",
   "execution_count": 45,
   "metadata": {},
   "outputs": [
    {
     "data": {
      "text/plain": [
       "array([[1, 7, 9],\n",
       "       [8, 0, 5]])"
      ]
     },
     "execution_count": 45,
     "metadata": {},
     "output_type": "execute_result"
    }
   ],
   "source": [
    "y[:2, :3]  # Rows 0 and 1, columns 0, 1, 2"
   ]
  },
  {
   "cell_type": "code",
   "execution_count": 46,
   "metadata": {
    "scrolled": true
   },
   "outputs": [
    {
     "data": {
      "text/plain": [
       "array([9, 5, 2])"
      ]
     },
     "execution_count": 46,
     "metadata": {},
     "output_type": "execute_result"
    }
   ],
   "source": [
    "y[:, 2]  # Third column"
   ]
  },
  {
   "cell_type": "code",
   "execution_count": 47,
   "metadata": {},
   "outputs": [
    {
     "data": {
      "text/plain": [
       "array([1, 7, 9, 6])"
      ]
     },
     "execution_count": 47,
     "metadata": {},
     "output_type": "execute_result"
    }
   ],
   "source": [
    "y[0, :]  # First row"
   ]
  },
  {
   "cell_type": "markdown",
   "metadata": {},
   "source": [
    "**IMPORTANT NOTE:**\n",
    "\n",
    "**When slicing and assigning part of an existing array to a new variable, the new variable will only hold a \"view\" but not a copy. This means, that if you change a value in the new array, the original array will also be changed. The idea behind this is to save memory. But fear not: with the \".copy()\" method, you still can get a true copy.**\n",
    "\n",
    "Here a few corresponding examples for better understanding:"
   ]
  },
  {
   "cell_type": "code",
   "execution_count": 48,
   "metadata": {
    "scrolled": true
   },
   "outputs": [
    {
     "name": "stdout",
     "output_type": "stream",
     "text": [
      "[[1 7]\n",
      " [8 0]]\n"
     ]
    }
   ],
   "source": [
    "ySub = y[:2, :2]\n",
    "print(ySub)"
   ]
  },
  {
   "cell_type": "code",
   "execution_count": 49,
   "metadata": {},
   "outputs": [
    {
     "name": "stdout",
     "output_type": "stream",
     "text": [
      "[[99  7]\n",
      " [ 8  0]] \n",
      "\n",
      "[[99  7  9  6]\n",
      " [ 8  0  5  0]\n",
      " [ 9  6  2  0]]\n"
     ]
    }
   ],
   "source": [
    "ySub[0, 0] = 99\n",
    "print(ySub, '\\n')\n",
    "print(y)"
   ]
  },
  {
   "cell_type": "code",
   "execution_count": 50,
   "metadata": {
    "scrolled": true
   },
   "outputs": [
    {
     "name": "stdout",
     "output_type": "stream",
     "text": [
      "[[33  7]\n",
      " [ 8  0]] \n",
      "\n",
      "[[99  7  9  6]\n",
      " [ 8  0  5  0]\n",
      " [ 9  6  2  0]]\n"
     ]
    }
   ],
   "source": [
    "ySubCopy = y[:2, :2].copy()\n",
    "ySubCopy[0, 0] = 33\n",
    "print(ySubCopy, '\\n')\n",
    "print(y)"
   ]
  },
  {
   "cell_type": "markdown",
   "metadata": {},
   "source": [
    "### Concatenating, Stacking and Splitting\n",
    "Often it is useful to combine multiple arrays into one or to split a single array into multiple arrays. To accomplish this, we can use NumPy's `concatenate` and `vstack`/`hstack` function."
   ]
  },
  {
   "cell_type": "code",
   "execution_count": 51,
   "metadata": {},
   "outputs": [
    {
     "data": {
      "text/plain": [
       "array([ 1,  2,  3, 11, 12, 13, 21, 22, 23])"
      ]
     },
     "execution_count": 51,
     "metadata": {},
     "output_type": "execute_result"
    }
   ],
   "source": [
    "x = np.array([1, 2, 3])\n",
    "y = np.array([11, 12, 13])\n",
    "z = np.array([21, 22, 23])\n",
    "np.concatenate([x, y, z])"
   ]
  },
  {
   "cell_type": "code",
   "execution_count": 52,
   "metadata": {},
   "outputs": [
    {
     "data": {
      "text/plain": [
       "array([ 1,  2,  3, 11, 12, 13])"
      ]
     },
     "execution_count": 52,
     "metadata": {},
     "output_type": "execute_result"
    }
   ],
   "source": [
    "# Stack two vectors horizontally\n",
    "np.hstack([x, y])"
   ]
  },
  {
   "cell_type": "code",
   "execution_count": 53,
   "metadata": {},
   "outputs": [
    {
     "data": {
      "text/plain": [
       "array([[ 1,  2,  3],\n",
       "       [11, 12, 13]])"
      ]
     },
     "execution_count": 53,
     "metadata": {},
     "output_type": "execute_result"
    }
   ],
   "source": [
    "# Stack two vectors vertically\n",
    "np.vstack([x, y])"
   ]
  },
  {
   "cell_type": "code",
   "execution_count": 54,
   "metadata": {},
   "outputs": [
    {
     "data": {
      "text/plain": [
       "array([[ 0,  1,  2],\n",
       "       [ 3,  4,  5],\n",
       "       [ 6,  7,  8],\n",
       "       [21, 22, 23]])"
      ]
     },
     "execution_count": 54,
     "metadata": {},
     "output_type": "execute_result"
    }
   ],
   "source": [
    "# Stack matrix with column vector\n",
    "m = np.arange(0, 9, 1).reshape((3, 3))\n",
    "np.vstack([m, z])"
   ]
  },
  {
   "cell_type": "code",
   "execution_count": 55,
   "metadata": {
    "scrolled": true
   },
   "outputs": [
    {
     "data": {
      "text/plain": [
       "array([[ 0,  1,  2, 21],\n",
       "       [ 3,  4,  5, 22],\n",
       "       [ 6,  7,  8, 23]])"
      ]
     },
     "execution_count": 55,
     "metadata": {},
     "output_type": "execute_result"
    }
   ],
   "source": [
    "# Stack matrix with row vector\n",
    "np.hstack([m, z.reshape(3, 1)])"
   ]
  },
  {
   "cell_type": "markdown",
   "metadata": {},
   "source": [
    "The opposite of concatenating is splitting. Numpy has `np.split`, `np.hsplit` and `np.vsplit` functions. Each of these takes a list of indices, giving the split points, as input."
   ]
  },
  {
   "cell_type": "code",
   "execution_count": 56,
   "metadata": {
    "scrolled": true
   },
   "outputs": [
    {
     "name": "stdout",
     "output_type": "stream",
     "text": [
      "[0. 1. 2.] [3. 4.] [5. 6. 7.]\n"
     ]
    }
   ],
   "source": [
    "x = np.arange(8.0)\n",
    "a, b, c = np.split(x, [3, 5])\n",
    "print(a, b, c)"
   ]
  },
  {
   "cell_type": "code",
   "execution_count": 57,
   "metadata": {},
   "outputs": [
    {
     "name": "stdout",
     "output_type": "stream",
     "text": [
      "[[ 0  1  2  3]\n",
      " [ 4  5  6  7]\n",
      " [ 8  9 10 11]] \n",
      "\n",
      " [[12 13 14 15]]\n"
     ]
    }
   ],
   "source": [
    "x = np.arange(16).reshape(4, 4)\n",
    "upper, lower = np.vsplit(x, [3])\n",
    "print(upper, '\\n\\n', lower)"
   ]
  },
  {
   "cell_type": "code",
   "execution_count": 58,
   "metadata": {},
   "outputs": [
    {
     "name": "stdout",
     "output_type": "stream",
     "text": [
      "[[ 0  1]\n",
      " [ 4  5]\n",
      " [ 8  9]\n",
      " [12 13]] \n",
      "\n",
      " [[ 2  3]\n",
      " [ 6  7]\n",
      " [10 11]\n",
      " [14 15]]\n"
     ]
    }
   ],
   "source": [
    "left, right = np.hsplit(x, [2])\n",
    "print(left, '\\n\\n', right)"
   ]
  },
  {
   "cell_type": "markdown",
   "metadata": {},
   "source": [
    "## Conditions\n",
    "\n",
    "### Boolean Operators\n",
    "\n",
    "Boolean operators check an input and return either `True` (equals 1 as value) or `False` (equals 0). This is often very helpful if one wants to check for conditions or sort out part of a data set which meet a certain condition. Here are the common comparison operators:\n",
    "\n",
    "| **Operator** | **Description**            |\n",
    "|:------------:|----------------------------|\n",
    "| ==           | equal ($=$)                |\n",
    "| !=           | not equal ($\\neq$)         |\n",
    "| <            | less than ($<$)            |\n",
    "| <=           | less or equal ($\\leq$)     |\n",
    "| >            | greater ($>$)              |\n",
    "| >=           | greater or equal ($\\geq$)  |\n",
    "| &            | Mathematical AND ($\\land$) |\n",
    "| &#124;       | Mathematical OR ($\\lor$)   |\n",
    "| `in`         | element of ($\\in$)         |\n",
    "\n",
    "The following sections give a glimpse of how these operators can be used."
   ]
  },
  {
   "cell_type": "code",
   "execution_count": 59,
   "metadata": {
    "scrolled": true
   },
   "outputs": [
    {
     "name": "stdout",
     "output_type": "stream",
     "text": [
      "[0 1 2 3 4 5 6 7]\n",
      "[False False  True False False False False False]\n",
      "[ True  True  True False  True  True  True  True]\n",
      "[ True  True False False False False False  True]\n"
     ]
    }
   ],
   "source": [
    "x = np.arange(start=0, stop=8, step=1)\n",
    "print(x)\n",
    "print(x == 2)\n",
    "print(x != 3)\n",
    "print((x < 2) | (x > 6))"
   ]
  },
  {
   "cell_type": "code",
   "execution_count": 60,
   "metadata": {},
   "outputs": [
    {
     "name": "stdout",
     "output_type": "stream",
     "text": [
      "[0 1 2 3 4]\n",
      "[ True  True  True  True  True False False False]\n"
     ]
    }
   ],
   "source": [
    "# Notice the difference\n",
    "print(x[x <= 4])\n",
    "print(x <= 4)"
   ]
  },
  {
   "cell_type": "markdown",
   "metadata": {},
   "source": [
    "#### If ... else statements\n",
    "\n",
    "These statements check a given condition and depending on the result (`True`, `False`) execute a subsequent code. As usual, an example will do. Notice that indentation is necessary for Python to correctly compile the code. "
   ]
  },
  {
   "cell_type": "code",
   "execution_count": 61,
   "metadata": {},
   "outputs": [
    {
     "name": "stdout",
     "output_type": "stream",
     "text": [
      "4 is an even number\n"
     ]
    }
   ],
   "source": [
    "x = 4\n",
    "\n",
    "if x%2 == 0:\n",
    "    print(x, 'is an even number')\n",
    "else:\n",
    "    print(x, 'is an odd number')\n",
    "        "
   ]
  },
  {
   "cell_type": "markdown",
   "metadata": {},
   "source": [
    "It is also possible to have more than one condition as the next example shows."
   ]
  },
  {
   "cell_type": "code",
   "execution_count": 62,
   "metadata": {
    "scrolled": true
   },
   "outputs": [
    {
     "name": "stdout",
     "output_type": "stream",
     "text": [
      "20 is positive\n"
     ]
    }
   ],
   "source": [
    "x = 20\n",
    "\n",
    "if x > 0:\n",
    "    print(x, 'is positive')\n",
    "elif x < 0:\n",
    "    print(x, 'is negative')\n",
    "else:\n",
    "    print(x, 'is neither strictly positive nor strictly negative')"
   ]
  },
  {
   "cell_type": "markdown",
   "metadata": {},
   "source": [
    "Combining these two statements would make for a nested if ... else statement."
   ]
  },
  {
   "cell_type": "code",
   "execution_count": 63,
   "metadata": {},
   "outputs": [
    {
     "name": "stdout",
     "output_type": "stream",
     "text": [
      "-3 is negative and odd\n"
     ]
    }
   ],
   "source": [
    "x = -3\n",
    "if x > 0:\n",
    "    if (x%2) == 0:\n",
    "        print(x, 'is positive and even')\n",
    "    else:\n",
    "        print(x, 'is positive and odd')\n",
    "elif x < 0:\n",
    "    if (x%2) == 0:\n",
    "        print(x, 'is negative and even')\n",
    "    else:\n",
    "        print(x, 'is negative and odd')\n",
    "else:\n",
    "    print(x, 'is 0')"
   ]
  },
  {
   "cell_type": "markdown",
   "metadata": {},
   "source": [
    "### Loops\n",
    "\n",
    "#### \"For\" Loops\n",
    "\n",
    "\"For\" loops iterate over a given sequence. They are very easy to implement as the following example shows. We start with an example and give some explanations afterwards. \n",
    "\n",
    "For our example, let's assume you ought to sum up the integer values of a sequence from 10 to 1 with a loop. There are obviously more efficient ways of doing this but this serves well as an introductory example. From primary school we know the result is easily calculated as\n",
    "\n",
    "$$\n",
    "\\begin{equation}\n",
    "    \\sum_{i=1}^n x_i = \\dfrac{n (n+1)}{2} \\qquad -> \\qquad \\dfrac{10 \\cdot 11}{2} = 55\n",
    "\\end{equation}\n",
    "$$"
   ]
  },
  {
   "cell_type": "code",
   "execution_count": 64,
   "metadata": {},
   "outputs": [
    {
     "data": {
      "text/plain": [
       "array([10,  9,  8,  7,  6,  5,  4,  3,  2,  1])"
      ]
     },
     "execution_count": 64,
     "metadata": {},
     "output_type": "execute_result"
    }
   ],
   "source": [
    "seq = np.arange(start=10, stop=0, step=-1)\n",
    "seq"
   ]
  },
  {
   "cell_type": "code",
   "execution_count": 65,
   "metadata": {},
   "outputs": [
    {
     "data": {
      "text/plain": [
       "55"
      ]
     },
     "execution_count": 65,
     "metadata": {},
     "output_type": "execute_result"
    }
   ],
   "source": [
    "seqSum = 0\n",
    "\n",
    "for value in seq:\n",
    "    seqSum = seqSum + value\n",
    "\n",
    "seqSum\n",
    "\n"
   ]
  },
  {
   "cell_type": "markdown",
   "metadata": {},
   "source": [
    "A few imprtant notes:\n",
    "* Indentation is not just here for better readability of the code but it is actually necessary for Python to correctly interpret the code.\n",
    "* Though it is not necessary, we initiate `seqSum = 0` here. Otherwise, if we run the code repeatedly we add to the previous total!\n",
    "* `value` takes on every value in array `seq`. In the first loop `value=10`, second loop `value=9`, etc. "
   ]
  },
  {
   "cell_type": "markdown",
   "metadata": {},
   "source": [
    "Loops can be nested, too. Here's an example."
   ]
  },
  {
   "cell_type": "code",
   "execution_count": 66,
   "metadata": {},
   "outputs": [
    {
     "data": {
      "text/plain": [
       "array([[10,  9,  8,  7,  6],\n",
       "       [ 5,  4,  3,  2,  1]])"
      ]
     },
     "execution_count": 66,
     "metadata": {},
     "output_type": "execute_result"
    }
   ],
   "source": [
    "seq = seq.reshape(2, 5)\n",
    "seq"
   ]
  },
  {
   "cell_type": "code",
   "execution_count": 67,
   "metadata": {},
   "outputs": [],
   "source": [
    "seqSum = 0\n",
    "row = seq.shape[0]\n",
    "col = seq.shape[1]"
   ]
  },
  {
   "cell_type": "code",
   "execution_count": 68,
   "metadata": {},
   "outputs": [
    {
     "data": {
      "text/plain": [
       "55"
      ]
     },
     "execution_count": 68,
     "metadata": {},
     "output_type": "execute_result"
    }
   ],
   "source": [
    "for rowIndex in range(0, row):\n",
    "    for colIndex in range(0, col):\n",
    "        seqSum = seqSum + seq[rowIndex, colIndex]\n",
    "        \n",
    "seqSum"
   ]
  },
  {
   "cell_type": "markdown",
   "metadata": {},
   "source": [
    "#### \"While\" Loops\n",
    "\n",
    "\"While\" loops execute as long as a certain boolean condition is met. Picking up the above example we can formulate the following loop:"
   ]
  },
  {
   "cell_type": "code",
   "execution_count": 69,
   "metadata": {},
   "outputs": [
    {
     "name": "stdout",
     "output_type": "stream",
     "text": [
      "55\n"
     ]
    }
   ],
   "source": [
    "seqSum = 0\n",
    "i = 10\n",
    "while i >= 1:\n",
    "    seqSum = seqSum + i\n",
    "    i = i - 1  # Also: i -= 1\n",
    "    \n",
    "print(seqSum)"
   ]
  },
  {
   "cell_type": "markdown",
   "metadata": {},
   "source": [
    "### Functions\n",
    "\n",
    "Functions come into play when either a task needs to be performed more than once or when it helps to reduce the complexity of a code. \n",
    "\n",
    "Following up on our play examples from above, let us assume we are tasked to write a function which sums up all even and all odd integers of a vector. "
   ]
  },
  {
   "cell_type": "code",
   "execution_count": 70,
   "metadata": {},
   "outputs": [
    {
     "name": "stdout",
     "output_type": "stream",
     "text": [
      "Odd:  2500 ,  Even:  2550\n"
     ]
    }
   ],
   "source": [
    "def sumOddEven(vector):\n",
    "    \"\"\"Calculates sum of odd and even numbers in array.\n",
    "    \n",
    "    Args:\n",
    "        vector: NumPy array of length n\n",
    "        \n",
    "    Returns:\n",
    "        odd: Sum of odd numbers\n",
    "        even: Sum of even numbers\n",
    "    \"\"\"\n",
    "    \n",
    "    # Initiate values\n",
    "    odd = 0\n",
    "    even = 0\n",
    "    \n",
    "    # Loop through values of array; check for each\n",
    "    # value whether it is odd or even and add to \n",
    "    # previous total.\n",
    "    for value in vector:\n",
    "        if (value % 2) == 0:\n",
    "            even = even + value\n",
    "        else:\n",
    "            odd = odd + value\n",
    "    \n",
    "    return odd, even\n",
    "\n",
    "# Initiate array [1, 2, ..., 99, 100]\n",
    "seq = np.arange(1, 101, 1)\n",
    "\n",
    "# Apply function and print results\n",
    "odd, even = sumOddEven(seq)\n",
    "print('Odd: ', odd, ', ', 'Even: ', even)   "
   ]
  },
  {
   "cell_type": "markdown",
   "metadata": {},
   "source": [
    "## Commenting\n",
    "\n",
    "Above code snippet not only shows how functions are set up but also displays the importance of comments. Comments are preceeded by a hash sign (#), such that the interpreter will not parse what follows the hash.  When programming, you should always comment your code to notate your work. This details your steps/thoughts/ideas not only for other developers but also for you when you pick up your code some time after writing it. Good programmers make heavy use of commenting and I strongly encourage the reader to follow this standard. "
   ]
  },
  {
   "cell_type": "markdown",
   "metadata": {},
   "source": [
    "## Slowness of Loops\n",
    "\n",
    "It is at this point important to note that loops should only be used as a last resort. Below we show why. The first code runs our previously defined function. The second code uses NumPy's built-in function. "
   ]
  },
  {
   "cell_type": "code",
   "execution_count": 71,
   "metadata": {},
   "outputs": [
    {
     "name": "stdout",
     "output_type": "stream",
     "text": [
      "5.42 ms ± 782 µs per loop (mean ± std. dev. of 7 runs, 100 loops each)\n"
     ]
    }
   ],
   "source": [
    "%%timeit\n",
    "seq = np.arange(1,10001, 1)\n",
    "sumOddEven(seq)"
   ]
  },
  {
   "cell_type": "code",
   "execution_count": 72,
   "metadata": {
    "scrolled": true
   },
   "outputs": [
    {
     "name": "stdout",
     "output_type": "stream",
     "text": [
      "13.9 µs ± 940 ns per loop (mean ± std. dev. of 7 runs, 100000 loops each)\n"
     ]
    }
   ],
   "source": [
    "%%timeit\n",
    "seq[(seq % 2) == 0].sum()\n",
    "seq[(seq % 2) == 1].sum()"
   ]
  },
  {
   "cell_type": "markdown",
   "metadata": {},
   "source": [
    "Above timing results show what was hinted before: In 9'999 out of a 10'000 cases it is significantly faster using already built in functions compared to loops. The simple reason is that modules such as NumPy or Pandas use (at their core) optimized compile code to calculate the results and this is most certainly faster than a loop. \n",
    "\n",
    "So in summary: Above examples helped introduce if statements, loops and functions. In real life, however, you should check if Python does not already offer a built-in function for your task. If yes, make sure to use it."
   ]
  },
  {
   "cell_type": "markdown",
   "metadata": {},
   "source": [
    "## Broadcasting\n",
    "\n",
    "### Computations on Arrays\n",
    "\n",
    "In closing this chapter we briefly introduce NumPy's broadcasting functionality. Rules for matrix arithmetic apply to NumPy arrays as one would expect and it is left to the reader to explore it. Broadcasting, however, goes one step further in that it allows for element-by-element operations on arrays (and matrices) of different dimensions - which under normal rules would not be compatible. An example shows this best."
   ]
  },
  {
   "cell_type": "code",
   "execution_count": 73,
   "metadata": {},
   "outputs": [
    {
     "data": {
      "text/plain": [
       "array([[2., 3., 4.],\n",
       "       [2., 3., 4.],\n",
       "       [2., 3., 4.]])"
      ]
     },
     "execution_count": 73,
     "metadata": {},
     "output_type": "execute_result"
    }
   ],
   "source": [
    "M = np.ones(shape=(3, 3))\n",
    "v = np.array([1, 2, 3])\n",
    "M + v"
   ]
  },
  {
   "cell_type": "code",
   "execution_count": 74,
   "metadata": {},
   "outputs": [
    {
     "name": "stdout",
     "output_type": "stream",
     "text": [
      "[2 4 6] \n",
      "\n",
      "[[2 3 4]\n",
      " [3 4 5]\n",
      " [4 5 6]]\n"
     ]
    }
   ],
   "source": [
    "# Notice the difference\n",
    "vecAdd = v + v\n",
    "broadAdd = v.reshape((3, 1)) + v\n",
    "\n",
    "print(vecAdd, '\\n')\n",
    "print(broadAdd)"
   ]
  },
  {
   "cell_type": "markdown",
   "metadata": {},
   "source": [
    "## Further Resources\n",
    "\n",
    "The following ressources, which were consulted to write this notebook, are recommended to better acquaint yourself with Python and NumPy:\n",
    "\n",
    "* Vanderplas, Jake, 2016, *Python Data Science Handbook* (O'Reilly Media, Sebastopol, CA).\n",
    "* Sheppard, Kevin, 2017, Introduction to Python for Econometrics, Statistics and Data Analysis from Website https://www.kevinsheppard.com/images/b/b3/Python_introduction-2016.pdf, 07/07/2017.\n",
    "* Paarsch, Harry J., and Golyaev, Konstantin, 2016, *A Gentle Introduction to Effective Computing in Quantitative Research: What Every Research Assistant Should Know*, MIT Press, Cambridge, MA."
   ]
  }
 ],
 "metadata": {
  "kernelspec": {
   "display_name": "Python 3 (ipykernel)",
   "language": "python",
   "name": "python3"
  },
  "language_info": {
   "codemirror_mode": {
    "name": "ipython",
    "version": 3
   },
   "file_extension": ".py",
   "mimetype": "text/x-python",
   "name": "python",
   "nbconvert_exporter": "python",
   "pygments_lexer": "ipython3",
   "version": "3.9.7"
  }
 },
 "nbformat": 4,
 "nbformat_minor": 4
}

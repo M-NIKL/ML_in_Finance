{
 "cells": [
  {
   "cell_type": "markdown",
   "metadata": {},
   "source": [
    "# Support Vector Machines\n",
    "\n",
    "## Motivating Support Vector Machines\n",
    "### Developing the Intuition\n",
    "\n",
    "Support vector machines (SVM) are a powerful and flexible class of supervised algorithms. Developed in the 1990s, SVM have shown to perform well in a variety of settings which explains their popularity. Though the underlying mathematics can become somewhat complicated, the basic concept of a SVM is easily understood. Therefore, in what follows we develop an intuition, introduce the mathematical basics of SVM and ultimately look into how we can apply SVM with Python.\n",
    "\n",
    "As an introductory example, borrowed from VanderPlas (2016), consider the following simplified two-dimensional classification task, where the two classes (indicated by the colors) are well separated. "
   ]
  },
  {
   "cell_type": "markdown",
   "metadata": {},
   "source": [
    "<img src=\"Graphics/0211_SVM_Intro1.png\" alt=\"SVM_Intro1\" style=\"width: 1000px;\"/>"
   ]
  },
  {
   "cell_type": "markdown",
   "metadata": {},
   "source": [
    "A linear discriminant classifier as discussed in chapter 8 would attempt to draw a separating hyperplane (which in two dimensions is nothing but a line) in order to distinguish the two classes. For two-dimensional data, we could even do this by hand. However, one problem arises: there are more than one separating hyperplane between the two classes."
   ]
  },
  {
   "cell_type": "markdown",
   "metadata": {},
   "source": [
    "<img src=\"Graphics/0211_SVM_Intro2.png\" alt=\"SVM_Intro2\" style=\"width: 1000px;\"/>"
   ]
  },
  {
   "cell_type": "markdown",
   "metadata": {},
   "source": [
    "There exist an infinite number of possible hyperplanes that perfectly discriminate between the two classes in the training data. In above figure we visualize but three of them. Depending on what hyperplane we choose, a new data point (e.g. the one marked by the red \"X\") will be assigned a different label. Yet, so far we have no decision criteria established to decide which one of the three hyperplanes we should choose. \n",
    "\n",
    "How do we decide which line best separates the two classes? The idea of SVM is to add a margin of some width to both sides of each hyperplane - up to the nearest point. This might look something like this:"
   ]
  },
  {
   "cell_type": "markdown",
   "metadata": {},
   "source": [
    "<img src=\"Graphics/0211_SVM_Intro3.png\" alt=\"SVM_Intro3\" style=\"width: 1000px;\"/>"
   ]
  },
  {
   "cell_type": "markdown",
   "metadata": {},
   "source": [
    "In SVM, the hyperplane that maximizes the margin to the nearest points is the one that is chosen as decision boundary. In other words, the maximum margin estimator is what we are looking for. Below figure shows the optimal solution for a (linear) SVM. Of all possible hyperplanes, the solid line has the largest margins (dashed lines) - measured from the decision boundary (solid line) to the nearest points (circled points). "
   ]
  },
  {
   "cell_type": "markdown",
   "metadata": {},
   "source": [
    "<img src=\"Graphics/0211_SVM_Intro4.png\" alt=\"SVM_Intro4\" style=\"width: 1000px;\"/>"
   ]
  },
  {
   "cell_type": "markdown",
   "metadata": {},
   "source": [
    "### Support Vector\n",
    "\n",
    "The three circled sample points in above figure represent the nearest points. All three lie along the (dashed) margin line and in terms of perpendicular distance are equidistant from the decision boundary (solid line). Together they form the so called **support vector**. The support vector \"supports\" the maximal margin hyperplane in the sense that if one of the observations were moved slightly, the maximal margin hyperplane would move as well. In other words, they dictate slope and intercept of  the hyperplane. Interestingly, any points further from the margin that are on the correct side do not modify the decision boundary. For example points at $(x_1, x_2) = (2.5, 1)$ or $(1, 4.2)$ have no effect on the decision boundary. Technically, this is because these points do not contribute to the loss function used to fit the model, so their position and number do not matter so long as they do not cross the margin (VanderPlas (2016)) . This is an important and helpful property as it simplifies calculations significantly. It is not surprising that computations are a lot faster if a model has only a few data points (in the support vector) to consider (James et al. (2013)). "
   ]
  },
  {
   "cell_type": "markdown",
   "metadata": {},
   "source": [
    "## Developing the Mathematical Intuition\n",
    "### Hyperplanes\n",
    "\n",
    "To start, let us do a brief (and superficial) refresher on hyperplanes. In a $p$-dimensional space, a hyperplane is a flat (affine) subspace of dimension $p - 1$. Affine simply indicates that the subspace need not pass through the origin. As we have seen above, in two dimensions a hyperplane is just a line. In three dimensions it is a plane. For $p > 3$ visualization is hardly possible but the notion applies in similar fashion. Mathematically a $p$-dimensional hyperplane is defined by the expression \n",
    "\n",
    "\\begin{equation}\n",
    "\\beta_0 + \\beta_1 x_1 + \\beta_2 x_2 + \\ldots + \\beta_p x_p = 0\n",
    "\\end{equation}\n"
   ]
  },
  {
   "cell_type": "markdown",
   "metadata": {},
   "source": [
    "If a point $\\mathbf{x}^* = (x^*_1, x^*_2, \\ldots, x^*_p)^T$ (i.e. a vector of length $p$) satisfies the above equation, then $\\mathbf{x}^*$ lies on the hyperplane. If $\\mathbf{x}^{*}$ does not satisfy above equation but yields a value $>0$, that is\n",
    "\n",
    "\\begin{equation}\n",
    "\\beta_0 + \\beta_1 x^*_1 + \\beta_2 x^*_2 + \\ldots + \\beta_p x^*_p > 0\n",
    "\\end{equation}\n",
    "\n",
    "then this tells us that $\\mathbf{x}^*$ lies on one side of the hyperplane. Similarly, "
   ]
  },
  {
   "cell_type": "markdown",
   "metadata": {},
   "source": [
    "\\begin{equation}\n",
    "\\beta_0 + \\beta_1 x^*_1 + \\beta_2 x^*_2 + \\ldots + \\beta_p x^*_p < 0\n",
    "\\end{equation}\n",
    "\n",
    "tells us that $\\mathbf{x}^*$ lies on the other side of the plane. "
   ]
  },
  {
   "cell_type": "markdown",
   "metadata": {},
   "source": [
    "### Separating Hyperplanes\n",
    "\n",
    "Suppose our training sample is a $n \\times p$ data matrix $\\mathbf{X}$ that consists of $n$ observations in $p$-dimensional space, \n",
    "\n",
    "\\begin{equation*}\n",
    "\\mathbf{x}_1 = \n",
    "\\begin{pmatrix}\n",
    "x_{11} \\\\\n",
    "\\vdots \\\\\n",
    "x_{1p}\n",
    "\\end{pmatrix}, \\; \\ldots, \\; \\mathbf{x}_n = \n",
    "\\begin{pmatrix}\n",
    "x_{n1} \\\\\n",
    "\\vdots \\\\\n",
    "x_{np}\n",
    "\\end{pmatrix}\n",
    "\\end{equation*}\n",
    "\n",
    "and each observation falls into one of two classes: $y_1, \\ldots, y_n \\in \\{-1, 1\\}$. Then a separating hyperplane has the helpful property that\n",
    "\n",
    "\\begin{align}\n",
    "f(x) = \\beta_0 + \\beta_1 x_{i1} + \\beta_2 x_{i2} + \\ldots + \\beta_p x_{ip} \\quad \\text{is} \\quad\n",
    "\\begin{cases}\n",
    "> 0 & \\quad \\text{if } y_i =1 \\\\\n",
    "< 0 & \\quad \\text{if } y_i = -1 \n",
    "\\end{cases}\n",
    "\\end{align}"
   ]
  },
  {
   "cell_type": "markdown",
   "metadata": {},
   "source": [
    "Given such a hyperplane exists, it can be used to construct a very intuitive classifier: a test observation is assigned to a class based on the side of the hyperplane it lies. This means we simply calculate $f(x^*)$ and if the result is positive, we assign the test observation to class 1, and to class -1 otherwise."
   ]
  },
  {
   "cell_type": "markdown",
   "metadata": {},
   "source": [
    "### Maximal Margin Classifier\n",
    "\n",
    "If our data can be perfectly separated, then - as alluded to above - there exist an infinite number of separating hyperplanes. Therefore we seek to maximize the margin to the closest training observations (support vector). The result is what we call the *maximal margin hyperplane*. \n",
    "\n",
    "Let us consider how such a maximal margin hyperplane is constructed. We follow Raschka (2015) in deriving the objective function as this approach is appealing to the intuition. For a mathematically more sound derivation, see e.g. Friedman et al. (2001, chapter 4.5). As before we assume to have a set of $n$ training observations $\\mathbf{x}_1, \\mathbf{x}_2, \\ldots, \\mathbf{x}_n \\in \\mathbb{R}^p$ with corresponding class labels $y_1, y_2, \\ldots, y_n \\in \\{-1, 1\\}$. The hyperplane as our decision boundary we have introduced above. Here is the same in vector notation, where $\\mathbf{\\beta}$ and $\\mathbf{x}$ are vector of dimension $[p \\times 1]$:\n",
    "\n",
    "\\begin{equation}\n",
    "\\beta_0 + \\mathbf{\\beta}^T \\mathbf{x}_{\\text{hyper}} = 0\n",
    "\\end{equation}\n",
    "\n",
    "This way of writing is much more concise and therefore we will stick to it moving forward. Let us further define the positive and negative margin hyperplanes, which lie parallel to the decision boundary:\n",
    "\\begin{align}\n",
    "\\beta_0 + \\mathbf{\\beta}^T \\mathbf{x}_{\\text{pos}} &= 1 &\\text{pos. margin} \\\\\n",
    "\\beta_0 + \\mathbf{\\beta}^T \\mathbf{x}_{\\text{neg}} &= -1 &\\text{neg. margin}\n",
    "\\end{align}\n",
    "\n",
    "\n",
    "Below you find a visual representationof the above. Notice that the two margin hyperplanes are parallel and the values for $\\beta_0, \\mathbf{\\beta}$ are identical"
   ]
  },
  {
   "cell_type": "markdown",
   "metadata": {},
   "source": [
    "<img src=\"Graphics/0211_SVM_Intro5.png\" alt=\"SVM_Intro5\" style=\"width: 1000px;\"/>"
   ]
  },
  {
   "cell_type": "markdown",
   "metadata": {},
   "source": [
    "If we subtract the equation for the negative margin from the positive, we get:\n",
    "\n",
    "\\begin{equation}\n",
    "\\mathbf{\\beta}^T (\\mathbf{x}_{\\text{pos}} - \\mathbf{x}_{\\text{neg}}) = 2\n",
    "\\end{equation}\n",
    "\n",
    "Let us normalize both sides of the equation by the length of the vector $\\mathbf{\\beta}$, that is the norm, which is defined as follows:\n",
    "\n",
    "\\begin{equation}\n",
    "\\Vert \\mathbf{\\beta} \\Vert := \\sqrt{\\sum_{i=1}^p \\beta_i^2} = 1\n",
    "\\end{equation}\n",
    "\n",
    "With that we arrive at the following expression:\n",
    "\n",
    "\\begin{equation}\n",
    "\\frac{\\mathbf{\\beta}^T (\\mathbf{x}_{\\text{pos}} - \\mathbf{x}_{\\text{neg}})}{\\Vert \\mathbf{\\beta}\\Vert} = \\frac{2}{\\Vert \\mathbf{\\beta} \\Vert}\n",
    "\\end{equation}\n",
    "\n",
    "The left side of the equation can be interpreted as the normalized distance between the positive (upper) and negative (lower) margin. This distance we aim to maximize. Since maximizing the lefthand side of above expression is similar to maximizing the right hand side, we can summarize this in the following optimization problem:\n",
    "\n",
    "\\begin{equation}\n",
    "\\begin{aligned}\n",
    "& \\underset{\\beta_0, \\beta_1, \\ldots, \\beta_p}{\\text{maximize}}\n",
    "& & \\frac{2}{\\Vert \\mathbf{\\beta} \\Vert} \\\\\n",
    "& \\text{subject to} & & \\beta_0 + \\mathbf{\\beta}^T \\mathbf{x}_{i} \\geq \\;\\; 1 \\quad \\text{if } y_i = 1 \\\\\n",
    "&&& \\beta_0 + \\mathbf{\\beta}^T \\mathbf{x}_{i} \\leq -1 \\quad \\text{if } y_i = -1 \\\\\n",
    "&&& \\text{for } i = 1, \\ldots, N.\n",
    "\\end{aligned}\n",
    "\\end{equation}"
   ]
  },
  {
   "cell_type": "markdown",
   "metadata": {},
   "source": [
    "The two constraints make sure that all positive samples ($y_i = 1$) fall on or above the positive side of the positive margin hyperplane and all negative samples ($y_i = -1$) are on or below the negative margin hyperplane. A few tweaks allow us to write the two constraints as one. We show this by transforming the second constraint, in which case $y_i = -1$:\n",
    "\n",
    "\\begin{align}\n",
    "   \\beta_0 + \\mathbf{\\beta}^T \\mathbf{x}_i &\\leq -1 \\\\\n",
    "   \\Leftrightarrow \\qquad y_i (\\beta_0 + \\mathbf{\\beta}^T \\mathbf{x}_i) &\\geq (-1)y_i \\\\\n",
    "   \\Leftrightarrow \\qquad y_i (\\beta_0 + \\mathbf{\\beta}^T \\mathbf{x}_i) &\\geq 1\n",
    "\\end{align}\n",
    "\n",
    "The same can be done for the first constraint - it will yield the same expression. Therefore, our maximization problem can be restated in a slightly simpler form:\n",
    "\n",
    "\\begin{equation}\n",
    "\\begin{aligned}\n",
    "& \\underset{\\beta_0, \\beta_1, \\ldots, \\beta_p}{\\text{maximize}}\n",
    "& & \\frac{2}{\\Vert \\mathbf{\\beta} \\Vert} \\\\\n",
    "& \\text{subject to} & & y_i(\\beta_0 + \\mathbf{\\beta}^T \\mathbf{x}_{i}) \\geq 1 \\quad \\text{for } i = 1, \\ldots, N.\n",
    "\\end{aligned}\n",
    "\\end{equation}"
   ]
  },
  {
   "cell_type": "markdown",
   "metadata": {},
   "source": [
    "This is a convex optimization problem (quadratic criterion with linear inequality constraints) and can be solved with Lagrange. For details refer to appendix (D1) of the script.\n",
    "\n",
    "Note that in practice it is easier to minimize the reciprocal term of the squared norm of  $\\mathbf{\\beta}$, $\\frac{1}{2} \\Vert\\mathbf{\\beta} \\Vert^2$. Therefore the objective function is often given as\n",
    "\n",
    "\\begin{equation}\n",
    "\\begin{aligned}\n",
    "& \\underset{\\beta_0, \\beta}{\\text{minimize}}\n",
    "& & \\frac{1}{2}\\Vert \\mathbf{\\beta} \\Vert^2 \\\\\n",
    "& \\text{subject to} & & y_i(\\beta_0 + \\mathbf{\\beta}^T \\mathbf{x}_{i}) \\geq 1 \\quad \\text{for } i = 1, \\ldots, N.\n",
    "\\end{aligned}\n",
    "\\end{equation}\n",
    "\n",
    "This transformation does not change the optimization problem yet at the same time is computationally easier to be handled by quadratic programming. A detailed discussion of quadratic programming goes beyond the scope of this course. For details, see e.g. Vapnik (2000) or [Burges (1998)](http://www.cmap.polytechnique.fr/~mallat/papiers/svmtutorial.pdf)."
   ]
  },
  {
   "cell_type": "markdown",
   "metadata": {},
   "source": [
    "## Support Vector Classifier\n",
    "\n",
    "### Non-Separable Data\n",
    "\n",
    "Given our data is separable into two classes, the maximal margin classifier from before seems like a natural approach. However, it is easy to see that **when the data is not clearly discriminable, no separable hyperplane exists and therefore such a classifier does not exist**. In that case the above maximization problem has no solution. What makes the situation even more complicated is that the maximal margin classifier is very sensitive to changes in the support vectors. This means that this classifier might suffer from inappropriate sensitivity to individual observations and thus it has a substantial risk of overfitting the training data. That is why we might be willing to consider a classifier on a hyperplane that does not perfectly separate the two classes but allows for greater robustness to individual observations and better classification of most of the training observations. In other words it could be worthwhile to misclassify a few training observations in order to do a better job in classifying the test data (James et al. (2013)). "
   ]
  },
  {
   "cell_type": "markdown",
   "metadata": {},
   "source": [
    "### Details of the Support Vector Classifier\n",
    "\n",
    "This is where the Support Vector Classifier (SVC) comes into play. It allows a certain number of observations to be on the 'wrong' side of the hyperplane while seeking a solution where the majority of data points are still on the 'correct' side of the hyperplane. The following figure visualizes this."
   ]
  },
  {
   "cell_type": "markdown",
   "metadata": {},
   "source": [
    "<img src=\"Graphics/0211_SVM_Intro6.png\" alt=\"SVM_Intro6\" style=\"width: 1000px;\"/>"
   ]
  },
  {
   "cell_type": "markdown",
   "metadata": {},
   "source": [
    "The SVC still classifies a test observation based on which side of a hyperplane it lies. However, when we train the model, the margins are now somewhat softened. This means that the model allows for a limited number of training observations to be on the wrong side of the margin and hyperplane, respectively. \n",
    "\n",
    "Let us briefly discuss in general terms how the support vector classifier reaches its optimal solution. For this we extend the optimization problem from the maximum margin classifier as follows: \n",
    "\n",
    "\\begin{equation}\n",
    "\\begin{aligned}\n",
    "& \\underset{\\beta_0, \\beta}{\\text{minimize}}\n",
    "& & \\frac{1}{2}\\Vert \\mathbf{\\beta} \\Vert^2 + C \\left(\\sum_{i=1}^n \\epsilon_i \\right) \\\\\n",
    "& \\text{subject to} & & \\beta_0 + \\mathbf{\\beta}^T \\mathbf{x}_{i} \\geq (1-\\epsilon_i) \\quad \\text{for } i = 1, \\ldots, N. \\\\\n",
    "& & & \\epsilon_i \\geq 0 \\quad \\forall i\n",
    "\\end{aligned}\n",
    "\\end{equation}\n",
    "\n",
    "This, again, can be solved with Lagrange similar to the way it is shown for the maximum margin classifier (see appendix (D1)) and it is left to the reader as an exercise to derive the Lagrange (primal and dual) objective function. The impatient reader will find a solution draft in Friedman et al. (2001), section 12.2.1.\n",
    "\n",
    "Let us now focus on the added term $C \\left(\\sum_{i=1}^n \\epsilon_i \\right)$.  Here, $\\epsilon_1, \\epsilon_2, \\ldots, \\epsilon_n$ are slack variables that allow the individual observations to be on the wrong side of the margin or the hyperplane. They contain information on where the $i$th observation is located, relative to the hyperplane and relative to the margin. "
   ]
  },
  {
   "cell_type": "markdown",
   "metadata": {},
   "source": [
    "* If $\\epsilon_i = 0$ then the $i$th observation is on the correct side of the margin, \n",
    "* if $1 \\geq \\epsilon_i > 0$ it is on the wrong side of the margin but correct side of the hyperplane, and \n",
    "* if $\\epsilon_i > 1$ it is on the wrong side of the hyperplane. \n",
    "\n",
    "The tuning parameter $C$ can be interpreted as a penalty factor for misclassification. It is defined by the user. Large values of $C$ correspond to a significant error penalty, whereas small values are used if we are less strict about misclassification errors. By controlling for $C$ we indirectly control for the margin and therefore actively tune the bias-variance trade-off. Decreasing the value of $C$ increases the bias but lowers the variance of the model. \n",
    "\n",
    "Below figure shows how $C$ impacts the decision boundary and its corresponding margin."
   ]
  },
  {
   "cell_type": "markdown",
   "metadata": {},
   "source": [
    "<img src=\"Graphics/0211_SVM_Intro7.png\" alt=\"SVM_Intro7\" style=\"width: 1000px;\"/>"
   ]
  },
  {
   "cell_type": "markdown",
   "metadata": {},
   "source": [
    "### Solving Nonlinear Problems\n",
    "\n",
    "So far we worked with data that is linearly separable. What makes SVM so powerful and popular is that it can be kernelized to solve nonlinear classification problems. We start our discussion again with illustrations to build an intuition."
   ]
  },
  {
   "cell_type": "markdown",
   "metadata": {},
   "source": [
    "<img src=\"Graphics/0211_SVM_kernel1.png\" alt=\"SVM_kernel1\" style=\"width: 1000px;\"/>"
   ]
  },
  {
   "cell_type": "markdown",
   "metadata": {},
   "source": [
    "Clearly the data is not linear and the resulting (linear) decision boundary is useless. How, then, do we deal with this? With mapping functions. The basic idea is to project the data via some mapping function $\\phi$ onto a higher dimension such that a linear separator would be sufficient. The idea is similar to using quadratic and cubic terms of the predictor in linear regression in order to address non-linearity $(y = \\beta_0 + \\beta_1 x_i + \\beta_2 x_i^2 + \\beta_3 x_i^3 + \\ldots)$ . For example, for the data in the preceding figure we could use the following mapping function $\\phi: \\mathbb{R}^2 \\rightarrow \\mathbb{R}^3$.\n",
    "\n",
    "\\begin{equation}\n",
    "\\phi(x_1, x_2) = (z_1, z_2, z_3) = \\left(x_1, x_2, x_1^2 + x_2^2 \\right)\n",
    "\\end{equation}"
   ]
  },
  {
   "cell_type": "markdown",
   "metadata": {},
   "source": [
    "<img src=\"Graphics/0211_SVM_kernel2.png\" alt=\"SVM_kernel2\" style=\"width: 1000px;\"/>"
   ]
  },
  {
   "cell_type": "markdown",
   "metadata": {},
   "source": [
    "Here we enlarge our feature space from $\\mathbb{R}^2 \\rightarrow \\mathbb{R}^3$ in oder to accommodate a non-linear boundary. The transformed data becomes trivially linearly separable. All we have to do is find a plane in $\\mathbb{R}^3$. If we project this decision boundary back onto the original feature space $\\mathbb{R}^2$ (with $\\phi^{-1}$), we have a nonlinear decision boundary. "
   ]
  },
  {
   "cell_type": "markdown",
   "metadata": {},
   "source": [
    "<img src=\"Graphics/0211_SVM_kernel3.png\" alt=\"SVM_kernel3\" style=\"width: 1000px;\"/>"
   ]
  },
  {
   "cell_type": "markdown",
   "metadata": {},
   "source": [
    "Here's an animated visualization of this concept."
   ]
  },
  {
   "cell_type": "code",
   "execution_count": 1,
   "metadata": {},
   "outputs": [
    {
     "data": {
      "image/jpeg": "[encoded data removed]",
      "text/html": [
       "\n",
       "        <iframe\n",
       "            width=\"400\"\n",
       "            height=\"300\"\n",
       "            src=\"https://www.youtube.com/embed/3liCbRZPrZA\"\n",
       "            frameborder=\"0\"\n",
       "            allowfullscreen\n",
       "            \n",
       "        ></iframe>\n",
       "        "
      ],
      "text/plain": [
       "<IPython.lib.display.YouTubeVideo at 0x19ae36d2fd0>"
      ]
     },
     "execution_count": 1,
     "metadata": {},
     "output_type": "execute_result"
    }
   ],
   "source": [
    "from IPython.display import YouTubeVideo\n",
    "YouTubeVideo('3liCbRZPrZA')"
   ]
  },
  {
   "cell_type": "markdown",
   "metadata": {},
   "source": [
    "### The Problem with Mapping Functions\n",
    "One could think that this is the recipe to work with nonlinear data: Transform all training data onto a higher-dimensional feature space via some mapping function $\\phi$ train a linear SVM model and use the same function $\\phi$ to transform new (test) data to classify it. \n",
    "\n",
    "As attractive as this idea seems, it is unfortunately unfeasible because it quickly becomes computationally too expensive. Here is a hands-on example why: Consider for example a degree-2 polynomial (kernel) transformation of the form $\\phi(x_1, x_2) = (x_1^2, x_2^2, \\sqrt{2} x_1 x_2, \\sqrt{2c} x_1, \\sqrt{2c} x_2, c)$. This means that for a dataset in $\\mathbb{R}^2$ the transformation adds four additional dimensions ($\\mathbb{R}^2 \\rightarrow \\mathbb{R}^6$). If we generalize this, it means that a $d$-dimensional polynomial (Kernel) transformation maps from $\\mathbb{R}^p$ to an ${p + d}\\choose{d}$-dimensional space [(Balcan (2011))](http://www.cs.cmu.edu/%7Eninamf/ML11/lect1020.pdf). Thus for datasets with $p$ large, naively performing such transformations will force most computers to its knees. "
   ]
  },
  {
   "cell_type": "markdown",
   "metadata": {},
   "source": [
    "### The Kernel Trick\n",
    "\n",
    "Thankfully, not all is lost. It turns out that one does not need to explicitly work in the higher-dimensional space. One can show that when using Lagrange to solve our optimization problem, the training samples are only used to compute the pair-wise dot products $\\langle x_i, x_{j}\\rangle$ (where $x_i, x_{j} \\in \\mathbb{R}^{p}$). This is significant because there exist functions that, given two vectors $x_i$ and $x_{j}$ in $\\mathbb{R}^p$, implicitly compute the dot product between the two vectors in a higher-dimension $\\mathbb{R}^q$ (with $q > p$) without explicitly transforming $x_i, x_{j}$ onto a higher dimension $\\mathbb{R}^q$. Such functions are called **Kernel** functions, written $K(x_i, x_{j})$ [(Kim (2013))](http://www.eric-kim.net/eric-kim-net/posts/1/kernel_trick_blog_ekim_12_20_2017.pdf). \n",
    "\n",
    "Let us show an example of such a Kernel function (following [Hofmann (2006)](http://www.cogsys.wiai.uni-bamberg.de/teaching/ss06/hs_svm/slides/SVM_Seminarbericht_Hofmann.pdf)). For ease of reading we use $x = (x_1, x_2)$ and $z=(z_1, z_2)$ instead of $x_i$ and $x_{j}$. Consider the Kernel function $K(x, z) = (x^T z)^2$ and the mapping function $\\phi(x) = (x_1^2, \\sqrt{2}x_1 x_2, x_2^2)$. If we were to solve our optimization problem from above with Lagrange, the mapping function appears in the form $\\phi(x)^T \\phi(z)$."
   ]
  },
  {
   "cell_type": "markdown",
   "metadata": {},
   "source": [
    "\\begin{align}\n",
    "\\phi(x)^T \\phi(z) &= (x_1^2, \\sqrt{2}x_1 x_2, x_2^2)^T (z_1^2, \\sqrt{2}z_1 z_2, z_2^2) \\\\\n",
    "  &= x_1^2 z_1^2 + 2x_1 z_1 x_2 z_2 + x_2^2 z_2^2 \\\\\n",
    "  &= (x_1 z_1 + x_2 z_2)^2 \\\\\n",
    "  &= (x^T z)^2 \\\\\n",
    "  &= K(x, z)\n",
    "\\end{align}"
   ]
  },
  {
   "cell_type": "markdown",
   "metadata": {},
   "source": [
    "The mapping function would have transformed the data from $\\mathbb{R}^2 \\rightarrow \\mathbb{R}^3$ and back. The Kernel function, however, stays in $\\mathbb{R}^2$. This is of course only one (toy) example and far away from a proper proof but it provides the intuition of what can be generalized: that by using a Kernel function, e.g. where $K(x_i, x_j) = (x^T z)^2 = \\phi(x_i)^T \\phi(x_j)$, we implicitly transform our data to a higher-dimension without having to explicitly apply a mapping function $\\phi$. This so called \"Kernel Trick\" allows us to efficiently learn nonlinear decision boundaries for SVM. "
   ]
  },
  {
   "cell_type": "markdown",
   "metadata": {},
   "source": [
    "### Popular Kernel Functions\n",
    "Not every random mapping function is also a Kernel function. For a function to be a Kernel function, it needs to have certain properties (see e.g. [Balcan (2011)](http://www.cogsys.wiai.uni-bamberg.de/teaching/ss06/hs_svm/slides/SVM_Seminarbericht_Hofmann.pdf) or [Hofmann (2006)](http://www.cogsys.wiai.uni-bamberg.de/teaching/ss06/hs_svm/slides/SVM_Seminarbericht_Hofmann.pdf) for a discussion). In SVM literature, the following three Kernel functions have emerged as popular choices (Friedman et al. (2001)):\n",
    "\n",
    "\\begin{align}\n",
    "d\\text{th-Degree polynomial} \\qquad K(x_i, x_j) &= (r + \\gamma \\langle x_i, x_j \\rangle)^d \\\\\n",
    "\\text{Radial Basis (RBF)} \\qquad K(x_i, x_j) &= \\exp(-\\gamma \\Vert x_i - x_j \\Vert^2) \\\\\n",
    "\\text{Sigmoid} \\qquad K(x_i, x_j) &= \\tanh(\\gamma \\langle x_i, x_j \\rangle + r)\n",
    "\\end{align}"
   ]
  },
  {
   "cell_type": "markdown",
   "metadata": {},
   "source": [
    "In general there is no \"best choice\". With each Kernel having some degree of variability, one has to find the optimal solution by experimenting with different Kernels and playing with their parameter ($\\gamma, r, d$). "
   ]
  },
  {
   "cell_type": "markdown",
   "metadata": {},
   "source": [
    "### Optimization with Lagrange\n",
    "\n",
    "We have mentioned before that the optimization problem of the maximum margin classifier and support vector classifier can be solved with Lagrange. The details of which are beyond the scope of this notebook. However, the interested reader is encouraged to learn the details in the appendix of the script (and the recommended reference sources) as these are crucial in understanding the mathematics/core of SVM and the application of Kernel functions."
   ]
  },
  {
   "cell_type": "markdown",
   "metadata": {},
   "source": [
    "## SVM with Scikit-Learn\n",
    "### Preparing the Data\n",
    "\n",
    "Having build an intuition of how SVM work, let us now see this algorithm applied in Python. We will again use the Scikit-learn package that has an optimized class implemented. The data we will work with is called \"Polish Companies Bankruptcy Data Set\" and was used in Zieba et al. (2014). The full set comprises of five data files. Each file contains 64 features plus a class label. The features are ratios derived from the financial statements of the more than 10'000 manufacturing companies considered during the period of 2000 - 2013 (from EBITDA margin to equity ratio to liquidity ratios (quick ratio) etc.. The five files differ in that the first contains data with companies that defaulted/were still running **five** years down the road ('1year.csv'), the second **four** years down the road ('2year.csv') etc. Details can be found in the original publication (Zikeba et al. (2016)) or in the [description provided on the UCI Machine Learning Repository site](https://archive.ics.uci.edu/ml/datasets/Polish+companies+bankruptcy+data) where the data was downloaded from. For our purposes we will use the '5year.csv' file where we should predict defaults within the next year. "
   ]
  },
  {
   "cell_type": "code",
   "execution_count": 2,
   "metadata": {},
   "outputs": [],
   "source": [
    "%matplotlib inline\n",
    "import pandas as pd\n",
    "import numpy as np\n",
    "import matplotlib.pyplot as plt\n",
    "plt.style.use('seaborn-whitegrid')\n",
    "plt.rcParams['font.size'] = 14"
   ]
  },
  {
   "cell_type": "code",
   "execution_count": 3,
   "metadata": {},
   "outputs": [
    {
     "data": {
      "text/html": [
       "<div>\n",
       "<style scoped>\n",
       "    .dataframe tbody tr th:only-of-type {\n",
       "        vertical-align: middle;\n",
       "    }\n",
       "\n",
       "    .dataframe tbody tr th {\n",
       "        vertical-align: top;\n",
       "    }\n",
       "\n",
       "    .dataframe thead th {\n",
       "        text-align: right;\n",
       "    }\n",
       "</style>\n",
       "<table border=\"1\" class=\"dataframe\">\n",
       "  <thead>\n",
       "    <tr style=\"text-align: right;\">\n",
       "      <th></th>\n",
       "      <th>Attr1</th>\n",
       "      <th>Attr2</th>\n",
       "      <th>Attr3</th>\n",
       "      <th>Attr4</th>\n",
       "      <th>Attr5</th>\n",
       "      <th>Attr6</th>\n",
       "      <th>Attr7</th>\n",
       "      <th>Attr8</th>\n",
       "      <th>Attr9</th>\n",
       "      <th>Attr10</th>\n",
       "      <th>...</th>\n",
       "      <th>Attr56</th>\n",
       "      <th>Attr57</th>\n",
       "      <th>Attr58</th>\n",
       "      <th>Attr59</th>\n",
       "      <th>Attr60</th>\n",
       "      <th>Attr61</th>\n",
       "      <th>Attr62</th>\n",
       "      <th>Attr63</th>\n",
       "      <th>Attr64</th>\n",
       "      <th>class</th>\n",
       "    </tr>\n",
       "  </thead>\n",
       "  <tbody>\n",
       "    <tr>\n",
       "      <th>0</th>\n",
       "      <td>0.088238</td>\n",
       "      <td>0.55472</td>\n",
       "      <td>0.01134</td>\n",
       "      <td>1.0205</td>\n",
       "      <td>-66.5200</td>\n",
       "      <td>0.342040</td>\n",
       "      <td>0.109490</td>\n",
       "      <td>0.57752</td>\n",
       "      <td>1.0881</td>\n",
       "      <td>0.32036</td>\n",
       "      <td>...</td>\n",
       "      <td>0.080955</td>\n",
       "      <td>0.275430</td>\n",
       "      <td>0.91905</td>\n",
       "      <td>0.002024</td>\n",
       "      <td>7.2711</td>\n",
       "      <td>4.7343</td>\n",
       "      <td>142.760</td>\n",
       "      <td>2.5568</td>\n",
       "      <td>3.2597</td>\n",
       "      <td>0</td>\n",
       "    </tr>\n",
       "    <tr>\n",
       "      <th>1</th>\n",
       "      <td>-0.006202</td>\n",
       "      <td>0.48465</td>\n",
       "      <td>0.23298</td>\n",
       "      <td>1.5998</td>\n",
       "      <td>6.1825</td>\n",
       "      <td>0.000000</td>\n",
       "      <td>-0.006202</td>\n",
       "      <td>1.06340</td>\n",
       "      <td>1.2757</td>\n",
       "      <td>0.51535</td>\n",
       "      <td>...</td>\n",
       "      <td>-0.028591</td>\n",
       "      <td>-0.012035</td>\n",
       "      <td>1.00470</td>\n",
       "      <td>0.152220</td>\n",
       "      <td>6.0911</td>\n",
       "      <td>3.2749</td>\n",
       "      <td>111.140</td>\n",
       "      <td>3.2841</td>\n",
       "      <td>3.3700</td>\n",
       "      <td>0</td>\n",
       "    </tr>\n",
       "    <tr>\n",
       "      <th>2</th>\n",
       "      <td>0.130240</td>\n",
       "      <td>0.22142</td>\n",
       "      <td>0.57751</td>\n",
       "      <td>3.6082</td>\n",
       "      <td>120.0400</td>\n",
       "      <td>0.187640</td>\n",
       "      <td>0.162120</td>\n",
       "      <td>3.05900</td>\n",
       "      <td>1.1415</td>\n",
       "      <td>0.67731</td>\n",
       "      <td>...</td>\n",
       "      <td>0.123960</td>\n",
       "      <td>0.192290</td>\n",
       "      <td>0.87604</td>\n",
       "      <td>0.000000</td>\n",
       "      <td>8.7934</td>\n",
       "      <td>2.9870</td>\n",
       "      <td>71.531</td>\n",
       "      <td>5.1027</td>\n",
       "      <td>5.6188</td>\n",
       "      <td>0</td>\n",
       "    </tr>\n",
       "    <tr>\n",
       "      <th>3</th>\n",
       "      <td>-0.089951</td>\n",
       "      <td>0.88700</td>\n",
       "      <td>0.26927</td>\n",
       "      <td>1.5222</td>\n",
       "      <td>-55.9920</td>\n",
       "      <td>-0.073957</td>\n",
       "      <td>-0.089951</td>\n",
       "      <td>0.12740</td>\n",
       "      <td>1.2754</td>\n",
       "      <td>0.11300</td>\n",
       "      <td>...</td>\n",
       "      <td>0.418840</td>\n",
       "      <td>-0.796020</td>\n",
       "      <td>0.59074</td>\n",
       "      <td>2.878700</td>\n",
       "      <td>7.6524</td>\n",
       "      <td>3.3302</td>\n",
       "      <td>147.560</td>\n",
       "      <td>2.4735</td>\n",
       "      <td>5.9299</td>\n",
       "      <td>0</td>\n",
       "    </tr>\n",
       "    <tr>\n",
       "      <th>4</th>\n",
       "      <td>0.048179</td>\n",
       "      <td>0.55041</td>\n",
       "      <td>0.10765</td>\n",
       "      <td>1.2437</td>\n",
       "      <td>-22.9590</td>\n",
       "      <td>0.000000</td>\n",
       "      <td>0.059280</td>\n",
       "      <td>0.81682</td>\n",
       "      <td>1.5150</td>\n",
       "      <td>0.44959</td>\n",
       "      <td>...</td>\n",
       "      <td>0.240400</td>\n",
       "      <td>0.107160</td>\n",
       "      <td>0.77048</td>\n",
       "      <td>0.139380</td>\n",
       "      <td>10.1180</td>\n",
       "      <td>4.0950</td>\n",
       "      <td>106.430</td>\n",
       "      <td>3.4294</td>\n",
       "      <td>3.3622</td>\n",
       "      <td>0</td>\n",
       "    </tr>\n",
       "  </tbody>\n",
       "</table>\n",
       "<p>5 rows × 65 columns</p>\n",
       "</div>"
      ],
      "text/plain": [
       "      Attr1    Attr2    Attr3   Attr4     Attr5     Attr6     Attr7    Attr8  \\\n",
       "0  0.088238  0.55472  0.01134  1.0205  -66.5200  0.342040  0.109490  0.57752   \n",
       "1 -0.006202  0.48465  0.23298  1.5998    6.1825  0.000000 -0.006202  1.06340   \n",
       "2  0.130240  0.22142  0.57751  3.6082  120.0400  0.187640  0.162120  3.05900   \n",
       "3 -0.089951  0.88700  0.26927  1.5222  -55.9920 -0.073957 -0.089951  0.12740   \n",
       "4  0.048179  0.55041  0.10765  1.2437  -22.9590  0.000000  0.059280  0.81682   \n",
       "\n",
       "    Attr9   Attr10  ...    Attr56    Attr57   Attr58    Attr59   Attr60  \\\n",
       "0  1.0881  0.32036  ...  0.080955  0.275430  0.91905  0.002024   7.2711   \n",
       "1  1.2757  0.51535  ... -0.028591 -0.012035  1.00470  0.152220   6.0911   \n",
       "2  1.1415  0.67731  ...  0.123960  0.192290  0.87604  0.000000   8.7934   \n",
       "3  1.2754  0.11300  ...  0.418840 -0.796020  0.59074  2.878700   7.6524   \n",
       "4  1.5150  0.44959  ...  0.240400  0.107160  0.77048  0.139380  10.1180   \n",
       "\n",
       "   Attr61   Attr62  Attr63  Attr64  class  \n",
       "0  4.7343  142.760  2.5568  3.2597      0  \n",
       "1  3.2749  111.140  3.2841  3.3700      0  \n",
       "2  2.9870   71.531  5.1027  5.6188      0  \n",
       "3  3.3302  147.560  2.4735  5.9299      0  \n",
       "4  4.0950  106.430  3.4294  3.3622      0  \n",
       "\n",
       "[5 rows x 65 columns]"
      ]
     },
     "execution_count": 3,
     "metadata": {},
     "output_type": "execute_result"
    }
   ],
   "source": [
    "# Load data\n",
    "df = pd.read_csv('Data/5year.csv', sep=',')\n",
    "df.head()"
   ]
  },
  {
   "cell_type": "code",
   "execution_count": 4,
   "metadata": {
    "scrolled": true
   },
   "outputs": [
    {
     "data": {
      "text/plain": [
       "Attr1       3\n",
       "Attr2       3\n",
       "Attr3       3\n",
       "Attr4      21\n",
       "Attr5      11\n",
       "         ... \n",
       "Attr61     15\n",
       "Attr62      0\n",
       "Attr63     21\n",
       "Attr64    107\n",
       "class       0\n",
       "Length: 65, dtype: int64"
      ]
     },
     "execution_count": 4,
     "metadata": {},
     "output_type": "execute_result"
    }
   ],
   "source": [
    "# Check for NA values\n",
    "df.isnull().sum()"
   ]
  },
  {
   "cell_type": "code",
   "execution_count": 5,
   "metadata": {},
   "outputs": [
    {
     "data": {
      "text/plain": [
       "0.4311336717428088"
      ]
     },
     "execution_count": 5,
     "metadata": {},
     "output_type": "execute_result"
    }
   ],
   "source": [
    "# Calculate % of missing values for 'Attr37'\n",
    "df['Attr37'].isnull().sum()  / (len(df))"
   ]
  },
  {
   "cell_type": "markdown",
   "metadata": {},
   "source": [
    "Attribute 37 sticks out with 2'548 of 5'910 (43.1%) missing values. This attribute considers \"(current assets - inventories) / long-term liabilities\". Due to the many missing values we can not use a fill method so let us drop this feature column. "
   ]
  },
  {
   "cell_type": "code",
   "execution_count": 6,
   "metadata": {},
   "outputs": [
    {
     "data": {
      "text/html": [
       "<div>\n",
       "<style scoped>\n",
       "    .dataframe tbody tr th:only-of-type {\n",
       "        vertical-align: middle;\n",
       "    }\n",
       "\n",
       "    .dataframe tbody tr th {\n",
       "        vertical-align: top;\n",
       "    }\n",
       "\n",
       "    .dataframe thead th {\n",
       "        text-align: right;\n",
       "    }\n",
       "</style>\n",
       "<table border=\"1\" class=\"dataframe\">\n",
       "  <thead>\n",
       "    <tr style=\"text-align: right;\">\n",
       "      <th></th>\n",
       "      <th>Attr31</th>\n",
       "      <th>Attr32</th>\n",
       "      <th>Attr33</th>\n",
       "      <th>Attr34</th>\n",
       "      <th>Attr35</th>\n",
       "      <th>Attr36</th>\n",
       "      <th>Attr38</th>\n",
       "      <th>Attr39</th>\n",
       "    </tr>\n",
       "  </thead>\n",
       "  <tbody>\n",
       "    <tr>\n",
       "      <th>0</th>\n",
       "      <td>0.077287</td>\n",
       "      <td>155.330</td>\n",
       "      <td>2.3498</td>\n",
       "      <td>0.24377</td>\n",
       "      <td>0.135230</td>\n",
       "      <td>1.4493</td>\n",
       "      <td>0.32101</td>\n",
       "      <td>0.095457</td>\n",
       "    </tr>\n",
       "    <tr>\n",
       "      <th>1</th>\n",
       "      <td>0.000778</td>\n",
       "      <td>108.050</td>\n",
       "      <td>3.3779</td>\n",
       "      <td>2.70750</td>\n",
       "      <td>-0.036475</td>\n",
       "      <td>1.2757</td>\n",
       "      <td>0.59380</td>\n",
       "      <td>-0.028591</td>\n",
       "    </tr>\n",
       "    <tr>\n",
       "      <th>2</th>\n",
       "      <td>0.143490</td>\n",
       "      <td>81.653</td>\n",
       "      <td>4.4701</td>\n",
       "      <td>0.65878</td>\n",
       "      <td>0.145860</td>\n",
       "      <td>1.1698</td>\n",
       "      <td>0.67731</td>\n",
       "      <td>0.129100</td>\n",
       "    </tr>\n",
       "    <tr>\n",
       "      <th>3</th>\n",
       "      <td>-0.138650</td>\n",
       "      <td>253.910</td>\n",
       "      <td>1.4375</td>\n",
       "      <td>0.83567</td>\n",
       "      <td>0.014027</td>\n",
       "      <td>1.2754</td>\n",
       "      <td>0.43830</td>\n",
       "      <td>0.010998</td>\n",
       "    </tr>\n",
       "    <tr>\n",
       "      <th>4</th>\n",
       "      <td>0.039129</td>\n",
       "      <td>140.120</td>\n",
       "      <td>2.6583</td>\n",
       "      <td>2.13360</td>\n",
       "      <td>0.364200</td>\n",
       "      <td>1.5150</td>\n",
       "      <td>0.51225</td>\n",
       "      <td>0.240400</td>\n",
       "    </tr>\n",
       "  </tbody>\n",
       "</table>\n",
       "</div>"
      ],
      "text/plain": [
       "     Attr31   Attr32  Attr33   Attr34    Attr35  Attr36   Attr38    Attr39\n",
       "0  0.077287  155.330  2.3498  0.24377  0.135230  1.4493  0.32101  0.095457\n",
       "1  0.000778  108.050  3.3779  2.70750 -0.036475  1.2757  0.59380 -0.028591\n",
       "2  0.143490   81.653  4.4701  0.65878  0.145860  1.1698  0.67731  0.129100\n",
       "3 -0.138650  253.910  1.4375  0.83567  0.014027  1.2754  0.43830  0.010998\n",
       "4  0.039129  140.120  2.6583  2.13360  0.364200  1.5150  0.51225  0.240400"
      ]
     },
     "execution_count": 6,
     "metadata": {},
     "output_type": "execute_result"
    }
   ],
   "source": [
    "# Drop column with 'Attr37'. \n",
    "# Notice that as of Pandas version 0.21.0 you can simply use df.drop(columns=['Attr37'])\n",
    "df = df.drop('Attr37', axis=1)\n",
    "df.iloc[:, 30:38].head()"
   ]
  },
  {
   "cell_type": "markdown",
   "metadata": {},
   "source": [
    "As for the other missing values we are left to decide whether we want to remove the corresponding observations (rows) or apply a filling method. The problem with dropping all rows with missing values is that we might lose a lot of valuable information. Therefore in this case we prefer to use a common interpolation technique and impute `NaN` values with the corresponging feature mean. Alternatively we could use '`median`' or '`most_frequent`' as strategy. A convenient way to achieve this imputation is to use the `Imputer` class from `sklearn`.\n",
    "\n",
    "Notice that as of `sklearn` version 0.20.2 Scikit-learn has [relabeled function `Imputer` to `SimpleImputer()`](https://scikit-learn.org/stable/modules/impute.html). Furthermore, with version 0.22.1 other imputers were introduced, such as a `KNNImputer` or a `IterativeImputer`. It is up to the reader to familiarize her-/himself with the available options for imputing. [See Scikit-learn's guide for details](https://scikit-learn.org/stable/modules/impute.html). To check for the Sklearn version you currently run hit `!pip list` in your shell.  "
   ]
  },
  {
   "cell_type": "code",
   "execution_count": 7,
   "metadata": {
    "scrolled": true
   },
   "outputs": [
    {
     "data": {
      "text/plain": [
       "0"
      ]
     },
     "execution_count": 7,
     "metadata": {},
     "output_type": "execute_result"
    }
   ],
   "source": [
    "from sklearn.impute import SimpleImputer\n",
    "\n",
    "# Impute missing values by mean (axis=0 --> along columns; \n",
    "# Notice that argument 'axis=' has been removed as of version 0.20.2)\n",
    "ipr = SimpleImputer(missing_values=np.nan, strategy='mean')\n",
    "ipr = ipr.fit(df.values)\n",
    "imputed_data = ipr.transform(df.values)\n",
    "\n",
    "# Assign imputed values to 'df' and check for 'NaN' values\n",
    "df = pd.DataFrame(imputed_data, columns=df.columns)\n",
    "df.isnull().sum().sum()"
   ]
  },
  {
   "cell_type": "markdown",
   "metadata": {},
   "source": [
    "Now let us check if we have some categorical features that we need to transform. For this we compare the number of cells in the dataframe with the sum of numeric values (`np.isreal()`). If the result is 0, we do not need to apply a One-Hot-Encoding or LabelEncoding procedure. "
   ]
  },
  {
   "cell_type": "code",
   "execution_count": 8,
   "metadata": {},
   "outputs": [
    {
     "data": {
      "text/plain": [
       "0"
      ]
     },
     "execution_count": 8,
     "metadata": {},
     "output_type": "execute_result"
    }
   ],
   "source": [
    "df.shape[0] * df.shape[1] - df.applymap(np.isreal).sum().sum()"
   ]
  },
  {
   "cell_type": "markdown",
   "metadata": {},
   "source": [
    "As we see, the dataframe only consists of real values. Therefore, we can proceed by assigning columns 1-63 to variable `X` and column 64 to `y`."
   ]
  },
  {
   "cell_type": "code",
   "execution_count": 9,
   "metadata": {},
   "outputs": [],
   "source": [
    "X = df.iloc[:, :-1].values\n",
    "y = df.iloc[:, -1].values"
   ]
  },
  {
   "cell_type": "markdown",
   "metadata": {},
   "source": [
    "### Applying SVM\n",
    "\n",
    "Having assigned the data to `X` and `y` we are now ready to divide the dataset into separate training and test sets."
   ]
  },
  {
   "cell_type": "code",
   "execution_count": 10,
   "metadata": {},
   "outputs": [],
   "source": [
    "from sklearn.model_selection import train_test_split\n",
    "\n",
    "X_train, X_test, y_train, y_test = train_test_split(X, y, \n",
    "                                                    test_size=0.2, \n",
    "                                                    random_state=0, \n",
    "                                                    stratify=y)"
   ]
  },
  {
   "cell_type": "markdown",
   "metadata": {},
   "source": [
    "Unlike e.g. decision tree algorithms SVM are sensitive to the magnitude of the data. Therefore scaling our data is recommended. "
   ]
  },
  {
   "cell_type": "code",
   "execution_count": 11,
   "metadata": {},
   "outputs": [],
   "source": [
    "from sklearn.preprocessing import StandardScaler\n",
    "\n",
    "# Create StandardScaler object\n",
    "sc = StandardScaler()\n",
    "\n",
    "# Standardize features; equal results as if done in two\n",
    "# separate steps (first .fit() and then .transform())\n",
    "X_train_std = sc.fit_transform(X_train)\n",
    "\n",
    "# Transform test set\n",
    "X_test_std = sc.transform(X_test)"
   ]
  },
  {
   "cell_type": "markdown",
   "metadata": {},
   "source": [
    "With the data standardized, we can finally apply a SVM on the data. We import the `SVC` (for Support Vector Classifier) from the Scikit-learn toolbox and create a `svm_linear` object that represents a linear SVM with `C=1`. Recall that `C` helps us control the penalty for misclassification. Large values of `C` correspond to large error penalties and vice-versa. More parameter can be specified. Details are best explained in the function's [documentation page](http://scikit-learn.org/stable/modules/generated/sklearn.svm.SVC.html)."
   ]
  },
  {
   "cell_type": "code",
   "execution_count": 12,
   "metadata": {
    "scrolled": true
   },
   "outputs": [
    {
     "data": {
      "text/plain": [
       "SVC(kernel='linear')"
      ]
     },
     "execution_count": 12,
     "metadata": {},
     "output_type": "execute_result"
    }
   ],
   "source": [
    "from sklearn.svm import SVC\n",
    "from sklearn import metrics\n",
    "import matplotlib.pyplot as plt\n",
    "\n",
    "# Create object\n",
    "svm_linear = SVC(kernel='linear', C=1.0)\n",
    "svm_linear"
   ]
  },
  {
   "cell_type": "markdown",
   "metadata": {},
   "source": [
    "With the `svm_linear` object ready we can now fit the object to the training data and check for the model's accuracy."
   ]
  },
  {
   "cell_type": "code",
   "execution_count": 13,
   "metadata": {},
   "outputs": [
    {
     "name": "stdout",
     "output_type": "stream",
     "text": [
      "Observed probability of non-default: 0.93\n",
      "Train score: 0.93\n",
      "Test score:  0.93\n"
     ]
    }
   ],
   "source": [
    "# Fit linear SVM to standardized training set\n",
    "svm_linear.fit(X_train_std, y_train)\n",
    "\n",
    "# Print results\n",
    "print(\"Observed probability of non-default: {:.2f}\".format(np.count_nonzero(y_train==0) / len(y_train)))\n",
    "print(\"Train score: {:.2f}\".format(svm_linear.score(X_train_std, y_train)))\n",
    "print(\"Test score:  {:.2f}\".format(svm_linear.score(X_test_std, y_test)))"
   ]
  },
  {
   "cell_type": "code",
   "execution_count": 14,
   "metadata": {},
   "outputs": [
    {
     "name": "stdout",
     "output_type": "stream",
     "text": [
      "Predicted    Non-Default  Default\n",
      "True                             \n",
      "Non-Default       1096.0      4.0\n",
      "Default             82.0      NaN\n"
     ]
    }
   ],
   "source": [
    "# Predict classes\n",
    "y_pred = svm_linear.predict(X_test_std)\n",
    "\n",
    "# Manual confusion matrix as pandas DataFrame\n",
    "confm = pd.DataFrame({'Predicted': y_pred,\n",
    "                      'True': y_test})\n",
    "confm.replace(to_replace={0:'Non-Default', 1:'Default'}, inplace=True)\n",
    "print(confm.groupby(['True','Predicted'], sort=False).size().unstack('Predicted'))"
   ]
  },
  {
   "cell_type": "markdown",
   "metadata": {},
   "source": [
    "In the same way we can run a Kernel SVM on the data. We have four Kernel options: one linear as introduced above and three non-linear. All of them have hyperparameter available. If these are not specified, default values are taken. [Check the documentation for details](http://scikit-learn.org/stable/modules/generated/sklearn.svm.SVC.html).\n",
    "\n",
    "* `linear`: linear SVM as shown above with `C` as hyperparameter\n",
    "* `rbf`: Radial basis function Kernel with `C, gamma` as hyperparameter\n",
    "* `poly`: Polynomial Kernel with `C, degree, gamma, coef0` as hyperparameter\n",
    "* `sigmoid`: Sigmoid Kernel with `C, gamma, coef0` as hyperparameter\n",
    "\n",
    "Let us apply a polynomial Kernel as example."
   ]
  },
  {
   "cell_type": "code",
   "execution_count": 15,
   "metadata": {},
   "outputs": [
    {
     "data": {
      "text/plain": [
       "SVC(kernel='poly', random_state=1)"
      ]
     },
     "execution_count": 15,
     "metadata": {},
     "output_type": "execute_result"
    }
   ],
   "source": [
    "svm_poly = SVC(kernel='poly', random_state=1)\n",
    "svm_poly"
   ]
  },
  {
   "cell_type": "markdown",
   "metadata": {},
   "source": [
    "Not having specified hyperparameter `C, degree, gamma`, and `coef0` the algorithm has taken default values. For `C` it is equal to 1, default `degree` is 3, `gamma=auto` means that the value will be calculated as $1/n_{\\text{features}}$, and `coef0` is set to 0 as default. "
   ]
  },
  {
   "cell_type": "code",
   "execution_count": 16,
   "metadata": {
    "scrolled": true
   },
   "outputs": [
    {
     "name": "stdout",
     "output_type": "stream",
     "text": [
      "Observed probability of non-default: 0.93\n",
      "Train score: 0.94\n",
      "Test score:  0.93\n"
     ]
    }
   ],
   "source": [
    "# Fit polynomial SVM to standardized training set\n",
    "svm_poly.fit(X_train_std, y_train)\n",
    "\n",
    "# Print results\n",
    "print(\"Observed probability of non-default: {:.2f}\".format(np.count_nonzero(y_train==0) / len(y_train)))\n",
    "print(\"Train score: {:.2f}\".format(svm_poly.score(X_train_std, y_train)))\n",
    "print(\"Test score:  {:.2f}\".format(svm_poly.score(X_test_std, y_test)))"
   ]
  },
  {
   "cell_type": "code",
   "execution_count": 17,
   "metadata": {},
   "outputs": [
    {
     "name": "stdout",
     "output_type": "stream",
     "text": [
      "Predicted    Non-Default  Default\n",
      "True                             \n",
      "Non-Default         1096        4\n",
      "Default               81        1\n"
     ]
    }
   ],
   "source": [
    "# Predict classes\n",
    "y_pred = svm_poly.predict(X_test_std)\n",
    "\n",
    "# Manual confusion matrix as pandas DataFrame\n",
    "confm = pd.DataFrame({'Predicted': y_pred,\n",
    "                      'True': y_test})\n",
    "confm.replace(to_replace={0:'Non-Default', 1:'Default'}, inplace=True)\n",
    "print(confm.groupby(['True','Predicted'], sort=False).size().unstack('Predicted'))"
   ]
  },
  {
   "cell_type": "markdown",
   "metadata": {},
   "source": [
    "As it looks linear and polynomial SVM yield similar results. What is clearly unsatisfactory is the number of true defaults that the SVM missed to detect. Both linear as well as non linear SVM miss to label $\\geq$ 80 defaults [sic]. From a financial perspective, this is unacceptable and raises questions regarding\n",
    "* Class imbalance\n",
    "* Hyperparameter fine-tuning through cross validation and grid search\n",
    "* Feature selection\n",
    "* Noise & dimension reduction\n",
    "\n",
    "which we want to address in the next section."
   ]
  },
  {
   "cell_type": "markdown",
   "metadata": {},
   "source": [
    "## Dealing with Class Imbalance\n",
    "\n",
    "When we deal with default data sets we observe that the ratio of non-default to default records is heavily skewed towards non-default. This is a common problem in real-world data set: Samples from one class or multiple classes dominate the data set. For the present data set we are talking 93% non-defaults vs. 7% defaults. Having an algorithm that predicts non-default 100 out of a 100 times is right in 93% of the cases. Therefore, training a model on such a data set that achieves the same 93% test accuracy (as our SVM above) means nothing else than our model hasn't learned anything informative from the features provided in this data set. Thus, when assessing a classifier on an imbalanced data set we have learned that other metrics such as precision, recall, ROC curve etc. might be more informative. \n",
    "\n",
    "Having said that, what we have to consider is that a class imbalance might influences a learning algorithm during the model fitting itself. Machine learning algorithms typically optimize a reward or cost function. This means that an algorithm implicitly learns the model that optimizes the predictions based on the most abundant class in the dataset in order to minimize the cost or maximize the reward during the training phase. And this in turn might yield skewed results in case of imbalanced data sets.\n",
    "\n",
    "There are several options to deal with class imbalance, we will discuss two of them. The first option is to set the `class_weight` parameter to `class_weight='balanced'`. Most classifier have this option implemented (of the introduced classifiers, KNN, LDA and QDA lack such a parameter). **This will assign a larger penalty to wrong predictions on the minority class.**"
   ]
  },
  {
   "cell_type": "code",
   "execution_count": 18,
   "metadata": {},
   "outputs": [
    {
     "name": "stdout",
     "output_type": "stream",
     "text": [
      "              precision    recall  f1-score   support\n",
      "\n",
      "         0.0       0.93      0.99      0.96      1100\n",
      "         1.0       0.12      0.02      0.04        82\n",
      "\n",
      "    accuracy                           0.92      1182\n",
      "   macro avg       0.53      0.51      0.50      1182\n",
      "weighted avg       0.88      0.92      0.89      1182\n",
      "\n",
      "[[1086   14]\n",
      " [  80    2]]\n",
      "Test score: 0.92\n"
     ]
    }
   ],
   "source": [
    "# Initiate and fit a polynomial SVM to training set\n",
    "svm_poly = SVC(kernel='poly', random_state=1, class_weight='balanced')\n",
    "svm_poly.fit(X_train_std, y_train)\n",
    "\n",
    "# Predict classes and print results\n",
    "y_pred = svm_poly.predict(X_test_std)\n",
    "print(metrics.classification_report(y_test, y_pred))\n",
    "print(metrics.confusion_matrix(y_test, y_pred))\n",
    "print(\"Test score: {:.2f}\".format(svm_poly.score(X_test_std, y_test)))"
   ]
  },
  {
   "cell_type": "markdown",
   "metadata": {},
   "source": [
    "The second option we want to discuss is up- & downsampling of the minority/majority class. Both up- and downsampling are implemented in Scikit-learn through the `resample` function and depending on the data and given the task at hand, one might be better suited than the other. For the upsampling, scikit-learn will apply a bootstrapping to draw new samples from the datasets with replacement. This means that the function will repeatedly draw new samples from the minority class until it contains the number of samples we define. Here's a code example:"
   ]
  },
  {
   "cell_type": "code",
   "execution_count": 19,
   "metadata": {},
   "outputs": [
    {
     "data": {
      "text/plain": [
       "(410, 63)"
      ]
     },
     "execution_count": 19,
     "metadata": {},
     "output_type": "execute_result"
    }
   ],
   "source": [
    "pd.DataFrame(X[y==1]).shape"
   ]
  },
  {
   "cell_type": "code",
   "execution_count": 20,
   "metadata": {},
   "outputs": [
    {
     "data": {
      "text/plain": [
       "(5500, 63)"
      ]
     },
     "execution_count": 20,
     "metadata": {},
     "output_type": "execute_result"
    }
   ],
   "source": [
    "X[y==0].shape"
   ]
  },
  {
   "cell_type": "code",
   "execution_count": 21,
   "metadata": {},
   "outputs": [
    {
     "name": "stdout",
     "output_type": "stream",
     "text": [
      "No. of default samples BEFORE upsampling:  410\n",
      "No. of default samples AFTER upsampling:  5500\n"
     ]
    }
   ],
   "source": [
    "from sklearn.utils import resample\n",
    "\n",
    "# Upsampling: define which rows you want to upsample \n",
    "# (i.e. all columns of X where value in corresponding y vector is equal to 1: X[y==1], \n",
    "# and similar for y[y==1]. Then define how many samples should be generated through\n",
    "# bootstrapping (here: X[y==0].shape[0] = 5'500))\n",
    "X_upsampled, y_upsampled = resample(X[y==1], y[y==1],\n",
    "                                    replace=True,\n",
    "                                    n_samples=X[y==0].shape[0],\n",
    "                                    random_state=1)\n",
    "print('No. of default samples BEFORE upsampling:  {:.0f}'.format(y.sum()))\n",
    "print('No. of default samples AFTER upsampling:  {:.0f}'.format(y_upsampled.sum()))"
   ]
  },
  {
   "cell_type": "markdown",
   "metadata": {},
   "source": [
    "Downsampling works in similar fashion. "
   ]
  },
  {
   "cell_type": "code",
   "execution_count": 22,
   "metadata": {},
   "outputs": [],
   "source": [
    "# Downsampling\n",
    "X_dnsampled, y_dnsampled = resample(X[y==0], y[y==0],\n",
    "                                    replace=False,\n",
    "                                    n_samples=X[y==1].shape[0],\n",
    "                                    random_state=1)"
   ]
  },
  {
   "cell_type": "markdown",
   "metadata": {},
   "source": [
    "Running the SVM algorighm on the balanced dataset works now as you would expect:"
   ]
  },
  {
   "cell_type": "code",
   "execution_count": 23,
   "metadata": {},
   "outputs": [
    {
     "name": "stdout",
     "output_type": "stream",
     "text": [
      "              precision    recall  f1-score   support\n",
      "\n",
      "         0.0       0.51      1.00      0.68        82\n",
      "         1.0       1.00      0.05      0.09        82\n",
      "\n",
      "    accuracy                           0.52       164\n",
      "   macro avg       0.76      0.52      0.39       164\n",
      "weighted avg       0.76      0.52      0.39       164\n",
      "\n",
      "[[82  0]\n",
      " [78  4]]\n",
      "Test score: 0.52\n"
     ]
    }
   ],
   "source": [
    "# Combine datasets\n",
    "X_bal = np.vstack((X[y==1], X_dnsampled))\n",
    "y_bal = np.hstack((y[y==1], y_dnsampled))\n",
    "\n",
    "# Train test split\n",
    "X_train_bal, X_test_bal, y_train_bal, y_test_bal = \\\n",
    "    train_test_split(X_bal, y_bal, \n",
    "                     test_size=0.2, \n",
    "                     random_state=0, \n",
    "                     stratify=y_bal)\n",
    "    \n",
    "# Standardize features; equal results as if done in two\n",
    "# separate steps (first .fit() and then .transform())\n",
    "X_train_bal_std = sc.fit_transform(X_train_bal)\n",
    "\n",
    "# Transform test set\n",
    "X_test_bal_std = sc.transform(X_test_bal)\n",
    "\n",
    "# Initiate and fit a polynomial SVM to training set\n",
    "svm_poly_bal = SVC(kernel='poly', random_state=1)\n",
    "svm_poly_bal.fit(X_train_bal_std, y_train_bal)\n",
    "\n",
    "\n",
    "# Predict classes and print results\n",
    "y_pred_bal = svm_poly_bal.predict(X_test_bal_std)\n",
    "print(metrics.classification_report(y_test_bal, y_pred_bal))\n",
    "print(metrics.confusion_matrix(y_test_bal, y_pred_bal))\n",
    "print(\"Test score: {:.2f}\".format(svm_poly_bal.score(X_test_bal_std, y_test_bal)))"
   ]
  },
  {
   "cell_type": "markdown",
   "metadata": {},
   "source": [
    "By applying a SVM to a balanced set of data we improve our model slightly. Yet there remains some work to be done. The polynomial SVM still misses out on 95.1% (=78/82) of the default cases. \n",
    "\n",
    "It should be said that in general using an upsampled set is to be preferred over a downsampled set. However, here we are talking 11'000 observations times 63 features for the upsampled set and this can easily take quite some time to run models on, especially if we compute a grid search as in the next section. For this reason the downsampled set was used."
   ]
  },
  {
   "cell_type": "markdown",
   "metadata": {},
   "source": [
    "## Hyperparameter Fine-Tuning\n",
    "### Pipelines\n",
    "\n",
    "Another tool that is of help in optimizing our model is the `GridSearchCV` function introduced in the previous chapter that finds the best hyperparameter through a brute-force (cross validation) approach. Yet before we simply copy-past the code from the last chapter we ought to address a subtle yet important difference between the decision tree and SVM (or most other ML) algorithms that has implications on the application: Decision tree algorithms are of the few models where data scaling is not necessary. SVM on the other hand are (as most ML algorithms) fairly sensitive to the magnitude of the data. Now you might say that this is precisely why we standardized the data at the very beginning and with that we are good to go. In principle, this is correct. However, if we are precise, we commit a subtle yet possibly significant thought error. \n",
    "\n",
    "If we decide to apply a grid search using cross validation to find the optimal hyperparameter for e.g. a SVM we unfortunately can not just scale the full data set at the very beginning and then be good for the rest of the process. Conceptually it is important to understand why. Assume we have a data set. As we learned in the chapter on feature scaling and cross validation, applying a scaling on the combined data set and splitting the set into training and holdout set after the scaling is wrong. The reason is that information from the test set found its way into the model and distorts the results. The training set is scaled  not only based on information from that set but also based on information from the test set. \n",
    "\n",
    "Now the same is true if we apply a gridsearch process with cross validation on a training set. For each fold in the CV, some part of the training set will be declared as the training part, and some the test part. The test part within this split is used to measure the performance of our model trained on the training part. However, if we simply scale the training set and then apply gridsearch-CV on the scaled training set we would commit the same thought error as if we simply scale the full set at the very beginning. The test fold (of the CV split) would no longer be independent but implicitly already be part of the training set we used to fit the model. This is fundamentally different from how new data looks to the model. The test data within each cross validation split would no longer correctly mirrors how new data would look to the modeling process. Information already leaked from the test data into our modeling process. This would lead to overly optimistic results during cross validation, and possibly the selection of suboptimal parameter (Müller & Guido (2017)).\n",
    "\n",
    "We have not addressed this problem in the chapter on cross validation because so far we have not introduced the tool to deal with it. Furthermore, if our data set is homogeneous and of some size, this is less of an issue. Yet as Scikit-learn provides a fantastic tool to deal with this (and many other) issue(s), we want to introduce it here. The tool is called **pipelines** and allows to combine multiple processing steps in a very convenient and proper way. Let us look at how we can use the `Pipeline` class to express the end-to-end workflow. First we build a pipeline object. This object is provided a list of steps. Each step is a tuple containing a name (you define) and an instance of an estimator. "
   ]
  },
  {
   "cell_type": "code",
   "execution_count": 24,
   "metadata": {},
   "outputs": [],
   "source": [
    "from sklearn.pipeline import Pipeline\n",
    "\n",
    "# Create pipeline object with standard scaler and SVC estimator\n",
    "pipe = Pipeline([('scaler', StandardScaler()), \n",
    "                 ('svm_poly', SVC(kernel='poly', random_state=0))])"
   ]
  },
  {
   "cell_type": "markdown",
   "metadata": {},
   "source": [
    "Next we define a parameter grid to search over and construct a `GridSearchCV` from the pipeline and the parameter grid. Notice that we have to specify for each parameter which step of the pipeline it belongs to. This is done by calling the name we gave this step, followed by a double underscore and the parameter name. For the present example, let us compare different degrees, and `C` values."
   ]
  },
  {
   "cell_type": "code",
   "execution_count": 25,
   "metadata": {},
   "outputs": [],
   "source": [
    "# Define parameter grid\n",
    "param_grid = {'svm_poly__C': [0.1, 1, 10, 100],\n",
    "              'svm_poly__degree': [1, 2, 3, 5, 7]}"
   ]
  },
  {
   "cell_type": "markdown",
   "metadata": {},
   "source": [
    "With that we can run a `GridSearchCV` as usual."
   ]
  },
  {
   "cell_type": "code",
   "execution_count": 26,
   "metadata": {
    "scrolled": true
   },
   "outputs": [
    {
     "name": "stdout",
     "output_type": "stream",
     "text": [
      "Best CV accuracy: 0.73\n",
      "Test score:       0.78\n",
      "Best parameters: {'svm_poly__C': 100, 'svm_poly__degree': 1}\n"
     ]
    }
   ],
   "source": [
    "from sklearn.model_selection import GridSearchCV\n",
    "\n",
    "# Run grid search\n",
    "grid = GridSearchCV(pipe, param_grid=param_grid, cv=5, n_jobs=-1)\n",
    "grid.fit(X_train_bal, y_train_bal)\n",
    "\n",
    "# Print results\n",
    "print('Best CV accuracy: {:.2f}'.format(grid.best_score_))\n",
    "print('Test score:       {:.2f}'.format(grid.score(X_test_bal, y_test_bal)))\n",
    "print('Best parameters: {}'.format(grid.best_params_))"
   ]
  },
  {
   "cell_type": "markdown",
   "metadata": {},
   "source": [
    "Notice that thanks to the pipeline object, now for each split in the cross validation the `StandardScaler` is refit with only the training splits and no information is leaked from the test split into the parameter search. \n",
    "\n",
    "Depending on the grid you search, computations might take quite some time. One way to improve speed is by reducing the feature space; that is reducing the number of features. We will discuss feature selection and dimension reduction options in the next section but for the moment, let us just apply a method called Principal Component Analysis (PCA). PCA effectively transforms the feature space from $\\mathbb{R}^{p} \\rightarrow \\mathbb{R}^{q}$ with $q$ being a user specified value (but usually $q < < p$). PCA is similar to other preprocessing steps and can be included in pipelines as e.g. `StandardScaler`. \n",
    "\n",
    "Here we reduce the feature space from $\\mathbb{R}^{63}$ (i.e. $p=63$ features) to $\\mathbb{R}^{2}$. This will make the fitting process faster. However, this comes at a cost: by reducing the feature space we might not only get rid of noise but also lose part of the information available in the full dataset. Our model accuracy might suffer as a consequence. Furthermore, the speed that we gain by fitting a model to a smaller subset can be set off by the additional computations it takes to calculate the PCA. In the example of the upsampled data set we would be talking of an $[11'000 \\cdot 0.8 \\cdot 0.8 \\times 63]$ matrix (0.8 for the train/test-split and each cv fold) for which eigenvector and eigenvalues need to be calculated. This means up to 63 eigenvalues per grid search loop. "
   ]
  },
  {
   "cell_type": "code",
   "execution_count": 27,
   "metadata": {},
   "outputs": [
    {
     "name": "stdout",
     "output_type": "stream",
     "text": [
      "Best CV accuracy: 0.62\n",
      "Test score:       0.76\n",
      "Best parameters: {'svm_poly__C': 100, 'svm_poly__degree': 1}\n"
     ]
    }
   ],
   "source": [
    "from sklearn.decomposition import PCA\n",
    "\n",
    "# Create pipeline object with standard scaler, PCA and SVC estimator\n",
    "pipe = Pipeline([('scaler', StandardScaler()), \n",
    "                 ('pca', PCA(n_components=2)),\n",
    "                 ('svm_poly', SVC(kernel='poly', random_state=0))])\n",
    "\n",
    "# Define parameter grid\n",
    "param_grid = {'svm_poly__C': [100],\n",
    "              'svm_poly__degree': [1, 2, 3]}\n",
    "\n",
    "# Run grid search\n",
    "grid = GridSearchCV(pipe, param_grid=param_grid, cv=5, n_jobs=-1)\n",
    "grid.fit(X_train_bal, y_train_bal)\n",
    "\n",
    "# Print results\n",
    "print('Best CV accuracy: {:.2f}'.format(grid.best_score_))\n",
    "print('Test score:       {:.2f}'.format(grid.score(X_test_bal, y_test_bal)))\n",
    "print('Best parameters: {}'.format(grid.best_params_))"
   ]
  },
  {
   "cell_type": "markdown",
   "metadata": {},
   "source": [
    "Other so called preprocessing steps can be included in the pipeline too. This shows how seamless such workflows can be steered through pipelines. We can even combine multiple models as we show in the next code snippet. By now you are probably aware that trying all possible solutions is not a viable machine learning strategy. Computational power is certainly going to be an issue. Nevertheless, for the record we provide below an example where we apply logistic regression and a SVM with RBF kernel to find the best solution (details see section on PCA below). "
   ]
  },
  {
   "cell_type": "code",
   "execution_count": 28,
   "metadata": {
    "scrolled": true
   },
   "outputs": [
    {
     "name": "stdout",
     "output_type": "stream",
     "text": [
      "Best CV accuracy: 0.75\n",
      "Test score:       0.76\n",
      "Best parameters: {'classifier': SVC(C=100, gamma=1), 'classifier__C': 100, 'classifier__gamma': 1, 'scaler': StandardScaler()}\n"
     ]
    }
   ],
   "source": [
    "from sklearn.linear_model import LogisticRegression\n",
    "\n",
    "# Create pipeline object with standard scaler, PCA and SVC estimator\n",
    "pipe = Pipeline([('scaler', StandardScaler()), \n",
    "                 ('classifier', SVC(random_state=0))])\n",
    "\n",
    "# Define parameter grid\n",
    "param_grid = [{'scaler': [StandardScaler()],\n",
    "               'classifier': [SVC(kernel='rbf')],\n",
    "               'classifier__gamma': [1, 10],\n",
    "               'classifier__C': [10, 100]},\n",
    "              {'scaler': [StandardScaler(), None],\n",
    "               'classifier': [LogisticRegression(max_iter=1000)],\n",
    "               'classifier__C': [10, 100]}]\n",
    "\n",
    "# Run grid search\n",
    "grid = GridSearchCV(pipe, param_grid, cv=5, n_jobs=-1)\n",
    "grid.fit(X_train_bal, y_train_bal)\n",
    "\n",
    "# Print results\n",
    "print('Best CV accuracy: {:.2f}'.format(grid.best_score_))\n",
    "print('Test score:       {:.2f}'.format(grid.score(X_test_bal, y_test_bal)))\n",
    "print('Best parameters: {}'.format(grid.best_params_))"
   ]
  },
  {
   "cell_type": "markdown",
   "metadata": {},
   "source": [
    "From the above output we see that the SVC yields the best accuracy."
   ]
  },
  {
   "cell_type": "markdown",
   "metadata": {},
   "source": [
    "## Feature Selection and Dimensionality Reduction\n",
    "### Complexity and the Curse of Overfitting\n",
    "\n",
    "If we observe that a model performs much better on training than on test data, we have an indication that the model suffers from overfitting. The reason for the overfitting is most probably that our model is too complex for the given training data. Common solutions to reduce the generalization error are (Raschka (2015)):\n",
    "* Collect more (training) data\n",
    "* Introduce a penalty for complexity via regularization\n",
    "* Choose a simpler model with fewer parameter\n",
    "* Reduce the dimensionality of the data\n",
    "\n",
    "Collecting more data is self explanatory but often not applicable. Regularization via a complexity penalty term is a technique that is primarily applicable to regression settings (e.g. logistic regression). We will not discuss it here but the interested reader will easily find helpful information in e.g. James et al. (2013) chapter 6 or Raschka (2015) chapter 4. Here we will look at one commonly used solution to reduce overfitting: dimensionality reduction via feature selection. \n"
   ]
  },
  {
   "cell_type": "markdown",
   "metadata": {},
   "source": [
    "### Feature Selection\n",
    "\n",
    "A useful approach to select relevant features from a data set is to use information from the random forest algorithm we introduced in the previous chapter. There we elaborated how decision trees rank the feature importance based on a impurity decrease. Conveniently, we can access this feature importance rank directly from the `RandomForestClassifier` object. By executing below code - following the example in Raschka (2015) - we will train a random forest model on the balanced default data set (from before) and rank the features by their respective importance measure."
   ]
  },
  {
   "cell_type": "code",
   "execution_count": 29,
   "metadata": {},
   "outputs": [],
   "source": [
    "from sklearn.ensemble import RandomForestClassifier\n",
    "\n",
    "# Extract feature labels\n",
    "feat_labels = df.columns[:-1]\n",
    "\n",
    "# Create Random Forest object, fit data and\n",
    "# extract feature importance attributes\n",
    "forest = RandomForestClassifier(random_state=1)\n",
    "forest.fit(X_train_bal, y_train_bal)\n",
    "importances = forest.feature_importances_"
   ]
  },
  {
   "cell_type": "code",
   "execution_count": 30,
   "metadata": {},
   "outputs": [
    {
     "name": "stdout",
     "output_type": "stream",
     "text": [
      " 1) Attr27  0.0531\n",
      " 2) Attr26  0.0374\n",
      " 3) Attr16  0.0369\n",
      " 4) Attr21  0.0354\n",
      " 5) Attr39  0.0339\n",
      " 6) Attr13  0.0336\n",
      " 7) Attr35  0.0313\n",
      " 8) Attr29  0.0268\n",
      " 9) Attr42  0.0261\n",
      "10) Attr41  0.0238\n",
      "11) Attr25  0.0227\n",
      "12) Attr15  0.0220\n",
      "13) Attr7   0.0219\n",
      "14) Attr46  0.0209\n",
      "15) Attr11  0.0207\n"
     ]
    }
   ],
   "source": [
    "# Sort output (by relative importance) and \n",
    "# print top 15 features\n",
    "indices = np.argsort(importances)[::-1]\n",
    "n = 15\n",
    "for i in range(n):\n",
    "    print('{0:2d}) {1:7s} {2:6.4f}'.format(i + 1, \n",
    "                                           feat_labels[indices[i]],\n",
    "                                           importances[indices[i]]))"
   ]
  },
  {
   "cell_type": "markdown",
   "metadata": {},
   "source": [
    "The value in decimal is the relative importance for the respective feature. We can also plot this result to have a better overview. Below code shows one way of doing it."
   ]
  },
  {
   "cell_type": "code",
   "execution_count": 31,
   "metadata": {
    "scrolled": true
   },
   "outputs": [],
   "source": [
    "# Get cumsum of the n most important features\n",
    "feat_imp = np.sort(importances)[::-1]\n",
    "sum_feat_imp = np.cumsum(feat_imp)[:n]"
   ]
  },
  {
   "cell_type": "code",
   "execution_count": 32,
   "metadata": {},
   "outputs": [
    {
     "data": {
      "image/png": "[encoded data removed]",
      "text/plain": [
       "<Figure size 864x576 with 1 Axes>"
      ]
     },
     "metadata": {},
     "output_type": "display_data"
    }
   ],
   "source": [
    "# Plot Feature Importance (both cumul., individual)\n",
    "plt.figure(figsize=(12, 8))\n",
    "plt.bar(range(n), importances[indices[:n]], align='center')\n",
    "plt.xticks(range(n), feat_labels[indices[:n]], rotation=90)\n",
    "plt.xlim([-1, n])\n",
    "plt.xlabel('Feature')\n",
    "plt.ylabel('Rel. Feature Importance')\n",
    "plt.step(range(n), sum_feat_imp, where='mid', \n",
    "         label='Cumulative importance')\n",
    "plt.tight_layout();"
   ]
  },
  {
   "cell_type": "markdown",
   "metadata": {},
   "source": [
    "Executing the code will rank the different features according to their relative importance. The definition of each `AttrXX` we would have to [look up in the data description](https://archive.ics.uci.edu/ml/datasets/Polish+companies+bankruptcy+data). Note that the feature importance values are normalized such that they sum up to 1.\n",
    "\n",
    "Feature selection in the way shown in the preceding code snippets will not work in combination with a `pipeline` object. However, Scikit-learn has implemented such a function that could be used in a preprocessing step. Its name is `SelectFromModel` and details can be found [here](http://scikit-learn.org/stable/modules/feature_selection.html#feature-selection-using-selectfrommodel). Instead of selecting the top $n$ features you define a threshold, which selects those features whose combined importance is greater or equal to said threshold (e.g. mean, median etc.). For reference, below it is shown how the function is applied inside a pipeline."
   ]
  },
  {
   "cell_type": "code",
   "execution_count": 33,
   "metadata": {},
   "outputs": [
    {
     "data": {
      "text/plain": [
       "0.8048780487804879"
      ]
     },
     "execution_count": 33,
     "metadata": {},
     "output_type": "execute_result"
    }
   ],
   "source": [
    "from sklearn.feature_selection import SelectFromModel\n",
    "\n",
    "pipe = Pipeline([('feature_selection', SelectFromModel(RandomForestClassifier(), threshold='median')),\n",
    "                 ('scaler', StandardScaler()),\n",
    "                 ('classification', SVC())])\n",
    "pipe.fit(X_train_bal, y_train_bal).score(X_test_bal, y_test_bal)"
   ]
  },
  {
   "cell_type": "markdown",
   "metadata": {},
   "source": [
    "### Principal Component Analysis\n",
    "\n",
    "In the previous section you learned an approach for reducing the dimensionality of a data set through feature selection. An alternative to feature selection is feature extraction, of which Principal Component Analysis (PCA) is the best known and most popular approach. It is an unsupervised method that aims to summarize the information content of a data set by transforming it onto a new feature subspace of lower dimensionality than the original one. With the rise of big data, this is a field that is gaining importance by the day. PCA is widely used in a variety of field - e.g. in finance to de-noise signals in stock market trading, create factor models, for feature selection in bankruptcy prediction, dimensionality reduction of high frequency data etc.. Unfortunately, the scope of this course does not allow us to discuss PCA in great detail. Nevertheless the fundamentals shall be addressed here briefly so that the reader has a good understanding of how PCA helps in reducing dimensionality. \n",
    "\n",
    "To build an intuition for PCA we quote the excellent James et al. (2013, p. 375): \"*PCA finds a low-dimensional representation of a dataset that contains as much as possible of the **variation**. The idea is that each of the $n$ observations lives in $p$-dimensional space, but not all of these dimensions are equally interesting. PCA seeks a small number of dimensions that are as interesting as possible, where the concept of interesting is measured by the amount that the observation vary along each dimension. Each of the dimensions found by PCA is a linear combination of the $p$ features.*\" Since each principal component is required to be orthogonal to all other principal components, we basically take correlated original variables (features) and replace them with a small set of principal components that capture their joint variation. \n",
    "\n",
    "Below figures aim at visualizing the idea of principal components. In both figures we see the same two-dimensional dataset. PCA searches for the principal axis along which the data varies most. These principal axis measure the variance of the data when projected onto that axis. The two vectors (arrows) in the left plot visualize this. Notice that given an $[n \\times p]$ feature matrix $\\mathbf{X}$ there are at most $\\min(n-1, p)$ principal components. The figure on the right-hand side displays the projection of the data points projected onto the first principal axis. In this way we have reduced the dimensionality from $\\mathbf{R}^2$ to $\\mathbf{R}^1$. In practice, PCA is of course primarily used for datasets with $p$ large and the selected number of principal components $q$ is usually much smaller than the dimension of the original dataset ($q << p)$."
   ]
  },
  {
   "cell_type": "markdown",
   "metadata": {},
   "source": [
    "<img src=\"Graphics/0211_PCA1.png\" alt=\"PCA1\" style=\"width: 1000px;\"/>"
   ]
  },
  {
   "cell_type": "markdown",
   "metadata": {},
   "source": [
    "The first principal component is the direction in space along which (orthogonal) projections have the largest variance. The second principal component is the direction which maximizes variance among all directions while being orthogonal to the first. The $k^{\\text{th}}$ component is the variance-maximizing direction orthogonal to the previous $k-1$ components.  \n",
    "\n",
    "How do we express this in mathematical terms? Let $\\mathbf{X}$ be an $n \\times p$ dataset and let it be centered (i.e. each column mean is zero; notice that standardization is very important in PCA). The $p \\times p$ variance-covariance matrix $\\mathbf{C}$ is then equal to $\\mathbf{C} = \\frac{1}{n} \\mathbf{X}^T \\mathbf{X}$. Additionally, let $\\mathbf{\\phi}$ be a unit $p$-dimensional vector, i.e. $\\phi \\in \\mathbb{R}^p$ and let $\\sum_{i=1}^p \\phi_{i1}^2 = \\mathbf{\\phi}^T \\mathbf{\\phi} = 1$.\n",
    "\n",
    "The projections of the individual data points onto the principal axis are given by the linear combination of the form \n",
    "\n",
    "\\begin{equation}\n",
    "Z_{i} = \\phi_{1i} X_{1} + \\phi_{2i} X_{2} + \\ldots + \\phi_{pi} X_{p}.\n",
    "\\end{equation}"
   ]
  },
  {
   "cell_type": "markdown",
   "metadata": {},
   "source": [
    "In matrix notation we write\n",
    "\n",
    "\\begin{equation}\n",
    "\\mathbf{Z} = \\mathbf{X \\phi}\n",
    "\\end{equation}"
   ]
  },
  {
   "cell_type": "markdown",
   "metadata": {},
   "source": [
    "Since each column vector $X_i$ is standardized, i.e. $\\frac{1}{n} \\sum_{i=1}^n x_{ip} = 0$, the average of $Z_i$ (the column vector for feature $i$) will be zero as well. With that, the variance of $\\mathbf{Z}$ is \n",
    "\n",
    "\\begin{align}\n",
    "\\text{Var}(\\mathbf{Z}) &=  \\frac{1}{n} (\\mathbf{X \\phi})^T (\\mathbf{X \\phi}) \\\\\n",
    "  &= \\frac{1}{n} \\mathbf{\\phi}^T \\mathbf{X}^T \\mathbf{X \\phi} \\\\\n",
    "  &= \\mathbf{\\phi}^T \\frac{\\mathbf{X}^T \\mathbf{X}}{n} \\mathbf{\\phi} \\\\\n",
    "  &= \\mathbf{\\phi}^T \\mathbf{C} \\mathbf{\\phi}\n",
    "\\end{align}\n",
    "\n",
    "Note that it is common standard to use the population estimation of variance (division by $n$) instead of the sample variance (division by $n-1$). "
   ]
  },
  {
   "cell_type": "markdown",
   "metadata": {},
   "source": [
    "Now, PCA seeks to solve a sequence of optimization problems:\n",
    "\n",
    "\\begin{equation}\n",
    "\\begin{aligned}\n",
    "& \\underset{\\mathbf{\\phi}}{\\text{maximize}} & & \\text{Var}(\\mathbf{Z})\\\\\n",
    "& \\text{subject to} & & \\mathbf{\\phi}^T \\mathbf{\\phi}=1, \\quad \\phi \\in \\mathbb{R}^p \\\\\n",
    "&&& \\mathbf{Z}^T \\mathbf{Z} = \\mathbf{ZZ}^T = \\mathbf{I}.\n",
    "\\end{aligned}\n",
    "\\end{equation}\n",
    "\n",
    "Looking at the above term it should be clear why we haver restricted vector $\\mathbf{\\phi}$ to be a unit vector. If not, we could simply increase $\\mathbf{\\phi}$ - which is not what we want. This problem can be solved with Lagrange and via an eigen decomposition (a standard technique in linear algebra). The details of which are explained in the appendix of the script. "
   ]
  },
  {
   "cell_type": "markdown",
   "metadata": {},
   "source": [
    "How we apply PCA within a pipeline workflow we have shown above. A more general setup is shown in below code snippet. We again make use of the polish bankruptcy set introduced above."
   ]
  },
  {
   "cell_type": "code",
   "execution_count": 34,
   "metadata": {},
   "outputs": [
    {
     "data": {
      "text/plain": [
       "PCA(n_components=10)"
      ]
     },
     "execution_count": 34,
     "metadata": {},
     "output_type": "execute_result"
    }
   ],
   "source": [
    "from sklearn.decomposition import PCA\n",
    "\n",
    "# Define no. of PC\n",
    "q = 10\n",
    "\n",
    "# Create PCA object and fit to find  \n",
    "# first q principal components\n",
    "pca = PCA(n_components=q)\n",
    "pca.fit(X_train_bal)\n",
    "pca"
   ]
  },
  {
   "cell_type": "markdown",
   "metadata": {},
   "source": [
    "To close, one last code snippet is provided. Running it will visualize the cumulative explained variance ratio as a function of the number of components. (Mathematically, the explained variance ratio is the ratio of the eigenvalue of principal component $i$ to the sum of the eigenvalues, $\\frac{\\lambda_i}{\\sum_{i}^p \\lambda_i}$. See the appendix in the script to better understand the meaning of eigenvalues in this context.) In practice, this might be helpful in deciding on the number of principal components $q$ to use."
   ]
  },
  {
   "cell_type": "code",
   "execution_count": 35,
   "metadata": {},
   "outputs": [],
   "source": [
    "# Run PCA for all possible PCs\n",
    "pca = PCA().fit(X_train_bal)\n",
    "\n",
    "# Define max no. of PC\n",
    "q = X_train_bal.shape[1]\n",
    "\n",
    "# Get cumsum of the PC 1-q\n",
    "expl_var = pca.explained_variance_ratio_\n",
    "sum_expl_var = np.cumsum(expl_var)[:q]"
   ]
  },
  {
   "cell_type": "code",
   "execution_count": 36,
   "metadata": {},
   "outputs": [
    {
     "data": {
      "image/png": "[encoded data removed]",
      "text/plain": [
       "<Figure size 864x432 with 1 Axes>"
      ]
     },
     "metadata": {},
     "output_type": "display_data"
    }
   ],
   "source": [
    "# Plot Feature Importance (both cumul., individual)\n",
    "plt.figure(figsize=(12, 6))\n",
    "plt.bar(range(1, q + 1), expl_var, align='center')\n",
    "plt.xticks(range(1, q + 1, 5))\n",
    "plt.xlim([0, q + 1])\n",
    "plt.xlabel('Principal Components')\n",
    "plt.ylabel('Explained Variance Ratio')\n",
    "plt.step(range(1, 1 + q), sum_expl_var, where='mid')\n",
    "plt.tight_layout();"
   ]
  },
  {
   "cell_type": "markdown",
   "metadata": {},
   "source": [
    "This shows us that the first 5 principal components explain basically all variation in the data. Therefore we could focus to work with only these. "
   ]
  },
  {
   "cell_type": "markdown",
   "metadata": {},
   "source": [
    "# Further Ressources\n",
    "\n",
    "\n",
    "In writing this notebook, many ressources were consulted. For internet ressources the links are provided within the textflow above and will therefore not be listed again. Beyond these links, the following ressources were consulted and are recommended as further reading on the discussed topics:\n",
    "\n",
    "* Burges, Christopher J.C., 1998, A tutorial on support vector machines for pattern recognition, Data mining and knowledge discovery 2.2, 121-167.\n",
    "* Friedman, Jerome, Trevor Hastie, and Robert Tibshirani, 2001, *The Elements of Statistical Learning* (Springer, New York, NY).\n",
    "* James, Gareth, Daniela Witten, Trevor Hastie, and Robert Tibshirani, 2013, *An Introduction to Statistical Learning: With Applications in R* (Springer Science & Business Media, New York, NY).\n",
    "* Müller, Andreas C., and Sarah Guido, 2017, *Introduction to Machine Learning with Python* (O’Reilly Media, Sebastopol, CA).\n",
    "* Raschka, Sebastian, 2015, *Python Machine Learning* (Packt Publishing Ltd., Birmingham, UK).\n",
    "* Shalizi, Cosma Rohilla, 2017, Advanced Data Analysis from an Elementary Point of View from website, http://www.stat.cmu.edu/~cshalizi/ADAfaEPoV/ADAfaEPoV.pdf, 08/24/17.\n",
    "* VanderPlas, Jake, 2016, *Python Data Science Handbook* (O'Reilly Media, Sebastopol, CA).\n",
    "* Vapnik, Vladimir N., 2013, *The Nature of Statistical Learning* (Springer, New York, NY).\n",
    "\n"
   ]
  }
 ],
 "metadata": {
  "kernelspec": {
   "display_name": "Python 3 (ipykernel)",
   "language": "python",
   "name": "python3"
  },
  "language_info": {
   "codemirror_mode": {
    "name": "ipython",
    "version": 3
   },
   "file_extension": ".py",
   "mimetype": "text/x-python",
   "name": "python",
   "nbconvert_exporter": "python",
   "pygments_lexer": "ipython3",
   "version": "3.9.7"
  }
 },
 "nbformat": 4,
 "nbformat_minor": 4
}

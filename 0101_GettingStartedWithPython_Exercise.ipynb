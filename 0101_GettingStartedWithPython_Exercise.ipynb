{
 "cells": [
  {
   "cell_type": "markdown",
   "id": "a6c1d4f2",
   "metadata": {},
   "source": [
    "# Getting Started With Python: Exercise\n",
    "\n",
    "This is an exercise that is intended to complement the script. Idea is that students go through the script and then try to apply the learned content. \n",
    "\n",
    "Though one possible solution will be provided it is important to note that there might be multiple approaches to achieve the same. "
   ]
  },
  {
   "cell_type": "markdown",
   "id": "53e262b5",
   "metadata": {},
   "source": [
    "## Intro to Numpy\n",
    "\n",
    "### Import Packages\n",
    "\n",
    "Import the 'numpy' package."
   ]
  },
  {
   "cell_type": "code",
   "execution_count": 1,
   "id": "94f006df",
   "metadata": {},
   "outputs": [],
   "source": [
    "# from IPython.core.display import HTML\n",
    "# HTML('<style>.input, .jp-InputArea {display: none !important}</style>')"
   ]
  },
  {
   "cell_type": "code",
   "execution_count": 2,
   "id": "fd6f1f74",
   "metadata": {},
   "outputs": [],
   "source": [
    "import numpy as np"
   ]
  },
  {
   "cell_type": "markdown",
   "id": "b339f535",
   "metadata": {},
   "source": [
    "## Creation of and Operations on Arrays & Matrices\n",
    "   \n",
    "Create an array `a` of lenght 1000 that contains normally distributed random variables with `mu = 0` and `sigma = 10`. Use random seed 4329. Print the first 10 values of the resulting vector."
   ]
  },
  {
   "cell_type": "code",
   "execution_count": 3,
   "id": "dcbe57a6",
   "metadata": {
    "scrolled": true
   },
   "outputs": [
    {
     "data": {
      "text/plain": [
       "array([ -0.98308828,   0.994633  , -10.62536709, -17.77979447,\n",
       "         4.13825502, -17.60218969,   2.82872567,   0.38042963,\n",
       "        -1.7835402 ,  -1.19595573])"
      ]
     },
     "execution_count": 3,
     "metadata": {},
     "output_type": "execute_result"
    }
   ],
   "source": [
    "rng = np.random.default_rng(seed=4329)\n",
    "mu, sigma = 0, 10\n",
    "n = 1000\n",
    "\n",
    "a = rng.normal(loc = mu, scale = sigma, size = n)\n",
    "a[:10]"
   ]
  },
  {
   "cell_type": "markdown",
   "id": "adc263d9",
   "metadata": {},
   "source": [
    "Calculate mean `mu_hat` and standard deviation `sd_hat` of your sample."
   ]
  },
  {
   "cell_type": "code",
   "execution_count": 4,
   "id": "991c14d3",
   "metadata": {},
   "outputs": [
    {
     "name": "stdout",
     "output_type": "stream",
     "text": [
      "Mean =  -0.007348838752939457 Stdev = 10.132668374424657\n"
     ]
    }
   ],
   "source": [
    "mu_hat = np.mean(a)\n",
    "sd_hat = np.std(a, ddof=1)\n",
    "print('Mean = ', mu_hat, 'Stdev =', sd_hat)"
   ]
  },
  {
   "cell_type": "markdown",
   "id": "da063348",
   "metadata": {},
   "source": [
    "Asymptotically `mu_hat` and `sd_hat` converge to the given `mu` and `sigma`. Use a 'while'-loop to find out how big your sample `n` would have to be such that `sd_hat` deviates less than 0.0001 from `sigma`."
   ]
  },
  {
   "cell_type": "code",
   "execution_count": 5,
   "id": "e9fbb6fc",
   "metadata": {},
   "outputs": [
    {
     "name": "stdout",
     "output_type": "stream",
     "text": [
      "0.1326683744246573\n"
     ]
    }
   ],
   "source": [
    "rng = np.random.default_rng(seed=4329)\n",
    "print(np.abs(sigma - np.std(rng.normal(loc = mu, scale = sigma, size = n), ddof=1)))"
   ]
  },
  {
   "cell_type": "code",
   "execution_count": 24,
   "id": "69a50b69",
   "metadata": {},
   "outputs": [
    {
     "name": "stdout",
     "output_type": "stream",
     "text": [
      "2146\n"
     ]
    }
   ],
   "source": [
    "#rng = np.random.default_rng(seed=4329)\n",
    "n = 1000 \n",
    "\n",
    "while np.abs(sigma - np.std(rng.normal(loc = mu, scale = sigma, size = n), ddof=1)) > 0.0001:\n",
    "    n = n + 1\n",
    "    \n",
    "print(n)"
   ]
  },
  {
   "cell_type": "markdown",
   "id": "a66c1b78",
   "metadata": {},
   "source": [
    "Create a separate variable `b` that converts the vector `a` to a 250 x 4 matrix."
   ]
  },
  {
   "cell_type": "code",
   "execution_count": 25,
   "id": "a07c2fda",
   "metadata": {},
   "outputs": [],
   "source": [
    "b = a.reshape(250, 4)"
   ]
  },
  {
   "cell_type": "markdown",
   "id": "292b49f0",
   "metadata": {},
   "source": [
    "What is the dimension (shape) of your variables `a` and `b`?"
   ]
  },
  {
   "cell_type": "code",
   "execution_count": 26,
   "id": "8950903b",
   "metadata": {},
   "outputs": [
    {
     "data": {
      "text/plain": [
       "(250, 4)"
      ]
     },
     "execution_count": 26,
     "metadata": {},
     "output_type": "execute_result"
    }
   ],
   "source": [
    "b.shape"
   ]
  },
  {
   "cell_type": "markdown",
   "id": "3530e5ba",
   "metadata": {},
   "source": [
    "What is the median of each column?"
   ]
  },
  {
   "cell_type": "code",
   "execution_count": 28,
   "id": "dc318bf2",
   "metadata": {},
   "outputs": [
    {
     "data": {
      "text/plain": [
       "array([-1.20315815,  1.48084031, -0.70702757,  0.52725635])"
      ]
     },
     "execution_count": 28,
     "metadata": {},
     "output_type": "execute_result"
    }
   ],
   "source": [
    "np.median(b, axis=0)"
   ]
  },
  {
   "cell_type": "markdown",
   "id": "15fa4be9",
   "metadata": {},
   "source": [
    "Multiply each column with a scalar, e.g. Pi."
   ]
  },
  {
   "cell_type": "code",
   "execution_count": 11,
   "id": "f3088682",
   "metadata": {},
   "outputs": [],
   "source": [
    "b = b * np.pi"
   ]
  },
  {
   "cell_type": "markdown",
   "id": "40bee550",
   "metadata": {},
   "source": [
    "Print the last 4 rows of each column."
   ]
  },
  {
   "cell_type": "code",
   "execution_count": 12,
   "id": "63713bbe",
   "metadata": {},
   "outputs": [
    {
     "data": {
      "text/plain": [
       "array([[ -6.80861626,   3.19712079,  98.19659032, -22.13501388],\n",
       "       [ 52.69035853,  29.08471655, -21.39664212,  58.94496849],\n",
       "       [-16.61629536,  -9.44389968, -30.40952862,  -3.61023502],\n",
       "       [ -4.97294506, -59.48014459,  17.40591375, -24.96893206]])"
      ]
     },
     "execution_count": 12,
     "metadata": {},
     "output_type": "execute_result"
    }
   ],
   "source": [
    "b[-4:, :]"
   ]
  },
  {
   "cell_type": "markdown",
   "id": "07c19574",
   "metadata": {},
   "source": [
    "Create a boolean variable `c` corresponding to variable `b` that is `True` if the value is > 0 and `false` if not."
   ]
  },
  {
   "cell_type": "code",
   "execution_count": 13,
   "id": "8b677746",
   "metadata": {
    "scrolled": true
   },
   "outputs": [
    {
     "data": {
      "text/plain": [
       "array([[ True, False,  True,  True],\n",
       "       [False,  True, False, False],\n",
       "       [ True,  True,  True, False],\n",
       "       [ True, False,  True, False],\n",
       "       [False, False,  True, False],\n",
       "       [ True, False,  True, False],\n",
       "       [ True,  True, False,  True],\n",
       "       [False, False, False, False],\n",
       "       [ True, False,  True,  True],\n",
       "       [False,  True,  True,  True],\n",
       "       [ True, False, False, False],\n",
       "       [False, False, False,  True],\n",
       "       [ True, False,  True, False],\n",
       "       [ True, False,  True, False],\n",
       "       [False, False, False, False],\n",
       "       [False, False,  True,  True],\n",
       "       [ True,  True, False,  True],\n",
       "       [ True, False,  True, False],\n",
       "       [False, False, False, False],\n",
       "       [ True, False, False,  True],\n",
       "       [False,  True, False,  True],\n",
       "       [ True, False, False, False],\n",
       "       [ True, False, False,  True],\n",
       "       [False, False,  True,  True],\n",
       "       [ True,  True,  True, False],\n",
       "       [False,  True,  True,  True],\n",
       "       [ True,  True, False, False],\n",
       "       [False, False,  True, False],\n",
       "       [False,  True,  True, False],\n",
       "       [False, False, False,  True],\n",
       "       [ True, False, False, False],\n",
       "       [False,  True,  True, False],\n",
       "       [ True, False,  True, False],\n",
       "       [ True, False,  True,  True],\n",
       "       [ True, False, False, False],\n",
       "       [False, False,  True,  True],\n",
       "       [ True,  True, False,  True],\n",
       "       [ True,  True, False,  True],\n",
       "       [False, False,  True,  True],\n",
       "       [False, False, False, False],\n",
       "       [False,  True,  True,  True],\n",
       "       [ True,  True, False, False],\n",
       "       [ True, False,  True, False],\n",
       "       [ True,  True,  True,  True],\n",
       "       [ True,  True,  True, False],\n",
       "       [False,  True,  True, False],\n",
       "       [ True,  True, False,  True],\n",
       "       [ True,  True, False,  True],\n",
       "       [ True,  True, False, False],\n",
       "       [False, False, False,  True],\n",
       "       [ True, False,  True, False],\n",
       "       [False,  True, False,  True],\n",
       "       [False, False,  True,  True],\n",
       "       [ True, False, False,  True],\n",
       "       [False, False,  True, False],\n",
       "       [False,  True,  True,  True],\n",
       "       [False, False, False, False],\n",
       "       [ True, False, False,  True],\n",
       "       [ True,  True,  True,  True],\n",
       "       [ True,  True, False,  True],\n",
       "       [ True, False,  True, False],\n",
       "       [ True, False, False, False],\n",
       "       [ True,  True, False, False],\n",
       "       [ True,  True,  True, False],\n",
       "       [ True,  True, False,  True],\n",
       "       [False, False,  True,  True],\n",
       "       [ True, False,  True, False],\n",
       "       [ True,  True,  True,  True],\n",
       "       [ True, False,  True,  True],\n",
       "       [ True, False, False,  True],\n",
       "       [False, False,  True,  True],\n",
       "       [ True, False,  True,  True],\n",
       "       [False, False, False, False],\n",
       "       [False,  True, False, False],\n",
       "       [False, False,  True, False],\n",
       "       [ True,  True, False,  True],\n",
       "       [False, False, False,  True],\n",
       "       [False,  True,  True, False],\n",
       "       [False,  True,  True,  True],\n",
       "       [ True, False, False,  True],\n",
       "       [False, False, False,  True],\n",
       "       [ True,  True,  True, False],\n",
       "       [ True, False,  True,  True],\n",
       "       [ True, False,  True,  True],\n",
       "       [False,  True,  True,  True],\n",
       "       [ True, False, False, False],\n",
       "       [ True,  True, False, False],\n",
       "       [False, False,  True, False],\n",
       "       [False,  True,  True,  True],\n",
       "       [ True, False,  True, False],\n",
       "       [False, False, False,  True],\n",
       "       [ True,  True, False,  True],\n",
       "       [ True,  True, False, False],\n",
       "       [False,  True, False,  True],\n",
       "       [False, False,  True, False],\n",
       "       [ True,  True, False, False],\n",
       "       [False,  True,  True,  True],\n",
       "       [ True,  True,  True,  True],\n",
       "       [False,  True, False,  True],\n",
       "       [ True,  True,  True, False],\n",
       "       [False,  True, False,  True],\n",
       "       [False, False,  True, False],\n",
       "       [ True, False, False, False],\n",
       "       [ True,  True,  True,  True],\n",
       "       [False, False,  True, False],\n",
       "       [False, False, False,  True],\n",
       "       [False, False,  True,  True],\n",
       "       [ True, False, False,  True],\n",
       "       [False,  True,  True,  True],\n",
       "       [False,  True, False,  True],\n",
       "       [ True,  True, False, False],\n",
       "       [ True,  True, False,  True],\n",
       "       [False,  True,  True, False],\n",
       "       [ True, False,  True,  True],\n",
       "       [ True, False, False,  True],\n",
       "       [ True, False, False, False],\n",
       "       [ True,  True, False, False],\n",
       "       [ True, False,  True,  True],\n",
       "       [ True, False,  True,  True],\n",
       "       [ True,  True,  True, False],\n",
       "       [False,  True, False, False],\n",
       "       [ True,  True, False,  True],\n",
       "       [False, False,  True,  True],\n",
       "       [ True,  True,  True, False],\n",
       "       [False, False, False,  True],\n",
       "       [ True,  True, False,  True],\n",
       "       [ True, False, False,  True],\n",
       "       [ True,  True, False,  True],\n",
       "       [False,  True,  True, False],\n",
       "       [False, False,  True, False],\n",
       "       [False,  True, False, False],\n",
       "       [ True, False,  True, False],\n",
       "       [ True, False, False,  True],\n",
       "       [ True, False, False, False],\n",
       "       [False,  True,  True,  True],\n",
       "       [False,  True,  True,  True],\n",
       "       [ True, False, False, False],\n",
       "       [ True, False, False, False],\n",
       "       [False, False, False, False],\n",
       "       [False, False, False, False],\n",
       "       [False, False, False, False],\n",
       "       [False,  True, False,  True],\n",
       "       [ True,  True,  True,  True],\n",
       "       [ True, False,  True, False],\n",
       "       [False,  True,  True, False],\n",
       "       [ True,  True,  True, False],\n",
       "       [False, False,  True, False],\n",
       "       [ True,  True,  True,  True],\n",
       "       [ True, False,  True, False],\n",
       "       [False,  True,  True,  True],\n",
       "       [ True,  True,  True,  True],\n",
       "       [ True,  True, False,  True],\n",
       "       [ True, False, False, False],\n",
       "       [False, False,  True, False],\n",
       "       [False, False,  True,  True],\n",
       "       [ True,  True,  True,  True],\n",
       "       [False, False, False,  True],\n",
       "       [ True, False, False,  True],\n",
       "       [False,  True, False,  True],\n",
       "       [ True, False, False,  True],\n",
       "       [ True,  True,  True, False],\n",
       "       [ True,  True, False, False],\n",
       "       [ True, False, False, False],\n",
       "       [False,  True, False, False],\n",
       "       [False, False, False, False],\n",
       "       [False, False, False,  True],\n",
       "       [False,  True, False, False],\n",
       "       [ True, False,  True,  True],\n",
       "       [ True, False,  True, False],\n",
       "       [ True, False, False,  True],\n",
       "       [False, False, False,  True],\n",
       "       [ True, False,  True, False],\n",
       "       [ True,  True, False, False],\n",
       "       [False, False, False, False],\n",
       "       [ True,  True, False, False],\n",
       "       [ True,  True,  True, False],\n",
       "       [ True, False,  True,  True],\n",
       "       [ True,  True, False, False],\n",
       "       [False, False,  True, False],\n",
       "       [False,  True, False, False],\n",
       "       [ True, False,  True,  True],\n",
       "       [ True,  True, False, False],\n",
       "       [False,  True, False, False],\n",
       "       [False, False, False, False],\n",
       "       [False, False, False, False],\n",
       "       [False, False,  True, False],\n",
       "       [ True,  True,  True, False],\n",
       "       [ True, False, False,  True],\n",
       "       [ True,  True,  True, False],\n",
       "       [ True, False, False,  True],\n",
       "       [False,  True,  True,  True],\n",
       "       [False,  True, False,  True],\n",
       "       [False, False, False, False],\n",
       "       [False, False, False, False],\n",
       "       [ True, False,  True,  True],\n",
       "       [False, False, False, False],\n",
       "       [ True,  True,  True, False],\n",
       "       [False,  True, False, False],\n",
       "       [ True,  True, False, False],\n",
       "       [False,  True,  True, False],\n",
       "       [ True, False,  True, False],\n",
       "       [ True,  True, False, False],\n",
       "       [False, False, False,  True],\n",
       "       [False,  True,  True,  True],\n",
       "       [ True, False,  True, False],\n",
       "       [ True,  True, False, False],\n",
       "       [False,  True,  True, False],\n",
       "       [ True,  True,  True,  True],\n",
       "       [False, False,  True,  True],\n",
       "       [ True, False, False, False],\n",
       "       [ True,  True, False,  True],\n",
       "       [False,  True, False,  True],\n",
       "       [ True,  True,  True, False],\n",
       "       [ True, False,  True, False],\n",
       "       [ True, False,  True, False],\n",
       "       [ True,  True,  True, False],\n",
       "       [False,  True, False, False],\n",
       "       [False, False,  True,  True],\n",
       "       [False, False, False,  True],\n",
       "       [ True,  True,  True,  True],\n",
       "       [False,  True, False,  True],\n",
       "       [False,  True,  True, False],\n",
       "       [ True, False, False,  True],\n",
       "       [False, False,  True,  True],\n",
       "       [False,  True,  True, False],\n",
       "       [False, False, False, False],\n",
       "       [ True,  True,  True,  True],\n",
       "       [ True,  True,  True, False],\n",
       "       [False, False,  True, False],\n",
       "       [ True, False,  True,  True],\n",
       "       [ True,  True,  True,  True],\n",
       "       [False, False, False,  True],\n",
       "       [False, False, False, False],\n",
       "       [False,  True,  True,  True],\n",
       "       [ True, False,  True, False],\n",
       "       [False, False,  True, False],\n",
       "       [False,  True,  True, False],\n",
       "       [ True,  True,  True, False],\n",
       "       [ True, False,  True, False],\n",
       "       [False,  True,  True, False],\n",
       "       [ True, False, False, False],\n",
       "       [False,  True, False,  True],\n",
       "       [ True, False,  True, False],\n",
       "       [False, False,  True,  True],\n",
       "       [ True, False,  True, False],\n",
       "       [False, False,  True,  True],\n",
       "       [ True, False, False,  True],\n",
       "       [False, False,  True, False],\n",
       "       [ True,  True,  True,  True],\n",
       "       [ True,  True, False,  True]])"
      ]
     },
     "execution_count": 13,
     "metadata": {},
     "output_type": "execute_result"
    }
   ],
   "source": [
    "c = b < 0\n",
    "c"
   ]
  },
  {
   "cell_type": "markdown",
   "id": "5739a21f",
   "metadata": {},
   "source": [
    "Count the number of `True`s and `False`s for each column and overall. print the result."
   ]
  },
  {
   "cell_type": "code",
   "execution_count": 14,
   "id": "2d57dd2d",
   "metadata": {},
   "outputs": [
    {
     "name": "stdout",
     "output_type": "stream",
     "text": [
      "[137 116 130 119]\n",
      "502\n"
     ]
    }
   ],
   "source": [
    "print(c.sum(axis=0))\n",
    "print(c.sum())"
   ]
  },
  {
   "cell_type": "markdown",
   "id": "b667893d",
   "metadata": {},
   "source": [
    "Take variable `a` again. In a new variable `d` select only those values where -5 <= b <= 5"
   ]
  },
  {
   "cell_type": "code",
   "execution_count": 15,
   "id": "ea494108",
   "metadata": {
    "scrolled": true
   },
   "outputs": [
    {
     "name": "stdout",
     "output_type": "stream",
     "text": [
      "[ -0.98308828   0.994633   -10.62536709 -17.77979447   4.13825502\n",
      " -17.60218969   2.82872567   0.38042963  -1.7835402   -1.19595573]\n"
     ]
    },
    {
     "data": {
      "text/plain": [
       "array([-0.98308828,  0.994633  ,  4.13825502,  2.82872567,  0.38042963,\n",
       "       -1.7835402 , -1.19595573,  1.40244037, -1.86012058, -0.20750831,\n",
       "        1.96017992, -0.80212877,  0.491057  ,  4.71468065,  2.45154318,\n",
       "        2.0672081 ,  2.53249191, -0.46259124,  4.81018476,  3.98022299,\n",
       "        3.52281534,  1.4285811 ,  4.50867008, -3.64021672,  1.58357899,\n",
       "       -4.25979143, -2.51831486,  3.85420614,  0.72005045, -2.08324447,\n",
       "        4.44083463,  2.0326465 ,  4.9654048 ,  4.92577822,  0.43589496,\n",
       "       -3.28846427,  4.53439786, -0.22562026, -2.75860272,  3.2529049 ,\n",
       "        0.39418254,  3.92356072, -3.16004817, -4.8479328 , -0.92463817,\n",
       "        3.37773562, -4.05663232,  1.34850477,  0.48016695, -4.43128017,\n",
       "        2.78135132,  3.18817233, -2.51046115, -1.19709486,  0.25417771,\n",
       "        4.09729939,  4.99439674,  3.33765855,  1.37484938,  3.50248541,\n",
       "        0.54399154, -3.56112666,  2.46991138,  2.12572989,  1.56587334,\n",
       "       -4.67371305, -3.77817126,  2.16120132,  2.78430743,  4.41260896,\n",
       "        4.59805463, -2.51070894,  0.70413663, -3.80277555, -4.26667721,\n",
       "        4.5589953 , -1.87572637, -2.18055944, -3.75441564, -2.94715278,\n",
       "       -2.08379569,  4.509643  , -4.16051789, -4.04680563,  0.23011927,\n",
       "       -1.46458917,  2.69548488,  3.346536  , -2.04877534,  1.53309953,\n",
       "        4.66386442,  3.16891293, -4.69959602, -2.35973378, -0.59971543,\n",
       "       -2.84220777, -3.85944837, -1.42992151, -3.8082052 , -3.30448821,\n",
       "        4.73726698, -4.75753442, -0.34295589,  4.93030353,  1.04730427,\n",
       "       -2.8282335 , -4.95920705, -0.95214948,  1.19055107,  2.21857288,\n",
       "       -3.84232651, -3.2539317 , -1.92473404,  4.02052344, -0.96653465,\n",
       "       -3.83180434,  1.62888745, -1.57785889,  4.73180091, -1.33559564,\n",
       "        3.49066676,  0.28123331,  1.53136025,  4.5457925 , -1.29458194,\n",
       "        2.89260425,  1.12481935,  0.72225947, -2.73609336,  0.7806794 ,\n",
       "       -3.4082645 , -2.97537297, -4.01935146,  3.39070471,  0.93354991,\n",
       "        3.32984996, -1.52476052, -4.65784582, -0.38353973, -2.83666558,\n",
       "       -1.33158548, -1.75663429, -1.61908021, -2.62163475, -2.07238693,\n",
       "        0.09666856, -4.87121616,  1.73508173,  1.20709273,  1.19633224,\n",
       "       -2.56816318, -3.25987073,  4.94238447,  3.70722803, -0.73401635,\n",
       "        4.86117322, -1.89772275, -1.20237373, -1.56393269, -1.55811804,\n",
       "       -3.59742196, -4.73680911, -4.38443541,  2.65263476,  4.67778378,\n",
       "        2.56099489, -4.80429619,  3.85795747, -1.25217614, -4.22114425,\n",
       "       -2.6260252 ,  4.97096745,  3.12805361, -3.45597447, -1.51772029,\n",
       "       -4.77927745, -2.65164635,  4.22233493,  1.15755861, -4.46931811,\n",
       "       -4.68191423, -0.39632122, -1.08578195, -1.51366538,  1.0612278 ,\n",
       "        3.7573425 , -4.50893961, -1.44122111,  1.06373866, -3.60470807,\n",
       "        1.12684964, -0.86346052,  2.2520096 ,  2.55994945, -1.95123219,\n",
       "       -1.43952025,  4.25843814, -1.60610839, -4.87909445,  1.64239103,\n",
       "       -0.23519999,  0.05263994,  3.08381248,  4.80287389,  1.34361683,\n",
       "        2.76200242,  3.22231312, -1.44041633,  2.95672588, -3.45777271,\n",
       "       -3.00203426,  1.55017805, -2.54372274,  1.91456819,  4.25654856,\n",
       "        2.80815842,  3.02165821,  3.69209444, -2.79078398, -2.11578997,\n",
       "        3.44674832,  2.91233929, -4.36177053,  2.566343  , -4.04572578,\n",
       "       -1.47350033, -0.28717367,  4.09289917, -4.12166563, -4.59258652,\n",
       "       -4.41881246, -0.83576857, -2.41611215,  3.57105042,  3.69408115,\n",
       "       -4.69661165,  2.00773097,  4.45696033,  3.75507939, -4.99225816,\n",
       "       -1.9895819 , -3.46423932,  2.03971691, -3.60392564, -0.85631473,\n",
       "        4.18214728,  3.42225523, -1.008963  , -0.75818569, -0.29032588,\n",
       "        4.66665941,  0.30470115,  4.30744677,  2.72426903,  1.27382785,\n",
       "       -2.70229437, -4.36837263,  2.88014767,  3.40049521,  0.10934279,\n",
       "       -1.20445852,  3.61282611, -3.92246276,  3.08851542, -0.85330753,\n",
       "       -3.23025232, -1.64251468, -0.65586946,  1.54796183, -1.36258916,\n",
       "        2.09136135, -1.77700923,  4.72314696,  1.29385247, -4.87648706,\n",
       "       -1.28751612, -0.33469913,  3.54970975,  2.85663503,  2.7207373 ,\n",
       "        4.53446417,  2.88007933,  0.51052117,  2.4517955 ,  1.60566806,\n",
       "        0.16898868, -0.24925388,  1.08979488, -3.80263561, -1.28128601,\n",
       "        0.85323262, -4.97023144,  1.28258478, -3.55749621, -1.80800066,\n",
       "        1.65826055, -1.08633434, -0.1139079 ,  0.71472788,  2.31371598,\n",
       "        2.06691215, -3.6506859 , -4.72172258,  3.53818988,  4.53201364,\n",
       "       -1.7233471 ,  4.13608006, -1.20185778, -0.80588593,  2.58244108,\n",
       "       -0.98211566, -2.72404402, -1.07457242,  3.57346496,  2.21928219,\n",
       "        2.21156115,  4.38572327, -1.41378071, -3.58523013,  4.58936595,\n",
       "        1.5638453 , -4.29428737,  0.65564439, -3.26533375,  1.64311986,\n",
       "        0.1752705 ,  1.03999413, -4.2236543 ,  1.75572988, -1.13851547,\n",
       "        2.16887023,  1.56427528,  0.15309536, -0.24535669,  4.19360167,\n",
       "       -3.58503274,  4.95242717, -0.08599783, -2.00007172, -3.46599675,\n",
       "       -4.12473346,  4.7845418 , -1.3486517 , -2.13135095, -1.94229461,\n",
       "        1.78481705,  4.08446858, -2.30541497,  4.60748643,  1.77022602,\n",
       "       -2.79502247, -1.08628563,  0.95798499,  3.92793095, -0.70605653,\n",
       "       -0.20132415,  1.0045176 ,  2.71079383,  4.5359125 ,  4.31398861,\n",
       "        1.20220724, -0.0394799 , -2.16724987,  1.01767516, -3.00608663,\n",
       "       -1.1491735 , -1.58293757])"
      ]
     },
     "execution_count": 15,
     "metadata": {},
     "output_type": "execute_result"
    }
   ],
   "source": [
    "print(a[:10])\n",
    "d = a[np.abs(a) < 5]\n",
    "d"
   ]
  },
  {
   "cell_type": "markdown",
   "id": "13f588b2",
   "metadata": {},
   "source": [
    "Divide any value in vector `a` that is <= -10 by  `np.e`. Do this either by using a loop or - better - by applying the function `np.where`. "
   ]
  },
  {
   "cell_type": "code",
   "execution_count": null,
   "id": "375c26bf",
   "metadata": {},
   "outputs": [],
   "source": [
    "np.sum()"
   ]
  },
  {
   "cell_type": "code",
   "execution_count": 16,
   "id": "a786b159",
   "metadata": {},
   "outputs": [
    {
     "data": {
      "text/plain": [
       "array([ -0.98308828,   0.994633  ,  -3.90885411,  -6.54082085,\n",
       "         4.13825502,  -6.47548371,   2.82872567,   0.38042963,\n",
       "        -1.7835402 ,  -1.19595573,  -5.22834244,   1.40244037,\n",
       "        -3.99186235,  12.47113973,  -8.11121345,   7.29484145,\n",
       "         9.93970869,   9.42825879,  -1.86012058,   6.39008869,\n",
       "        -6.91617613,  12.13047606,  -0.20750831,   1.96017992,\n",
       "        -8.86856747,  -0.80212877,   0.491057  ,  -8.85047173,\n",
       "         5.82287647,   4.71468065,   2.45154318,   2.0672081 ,\n",
       "        -9.99503369,   5.4304412 ,  -4.45330101,  -4.72192553,\n",
       "         2.53249191,  -4.12708591,  -0.46259124,  -5.59913174,\n",
       "        -3.87298112,   4.81018476,   9.22032903,   3.98022299,\n",
       "         3.52281534,   1.4285811 ,   9.25433533,  -5.60829527,\n",
       "        -4.74343861,   4.50867008,  -3.64021672,   1.58357899,\n",
       "        -4.25979143,  13.62253088,  -2.51831486,   7.44694951,\n",
       "         3.85420614,   6.88920303,   0.72005045,  11.64405088,\n",
       "         7.47758091,   9.49353237,  -7.20420338,  -6.54262626,\n",
       "        -2.08324447,  -6.45309236,  20.00184863,  -6.83522798,\n",
       "        -5.33685837,   4.44083463,  -4.41116099,  10.85836883,\n",
       "         2.0326465 ,  10.07222403,   4.9654048 ,   4.92577822,\n",
       "        -6.75393919,  14.4181937 ,   0.43589496,  -3.28846427,\n",
       "         4.53439786,  -0.22562026,  10.1915066 ,  -6.00394158,\n",
       "        -2.75860272,   3.2529049 ,   8.11199183,   6.86340937,\n",
       "        -5.0575289 ,  12.64590139,   8.58950882,  -6.91582587,\n",
       "         0.39418254,   3.92356072,  -3.16004817,  -4.86306325,\n",
       "        -9.45377785,  -4.8479328 ,  -0.92463817,  17.17958406,\n",
       "         3.37773562,  -5.6791058 ,  -6.39720995,  -5.64573369,\n",
       "        -5.05770084,  -4.05663232,   1.34850477,  14.4178811 ,\n",
       "         0.48016695,   6.7457785 ,  -4.43128017,   2.78135132,\n",
       "         3.18817233,  -2.51046115,  -1.19709486,   8.40715883,\n",
       "         0.25417771,  20.77872572,   4.09729939,  -9.83926457,\n",
       "        -7.87952475,   8.12827826,   4.99439674,   6.77356776,\n",
       "         3.33765855,  -7.27940807,  -8.47226956,   1.37484938,\n",
       "        -7.47624365,   3.50248541,  -5.24254089,   0.54399154,\n",
       "        -5.22348927,  10.34860932,  -9.26655526,  -3.56112666,\n",
       "        -3.87603388,   2.46991138,   2.12572989,  10.04202186,\n",
       "         8.36266618,   1.56587334,  -4.16637971,  -5.38700928,\n",
       "        -4.67371305,  -5.37347673,  15.06157921,  -4.97897707,\n",
       "        -3.77817126,  -4.28691139,   2.16120132,  -8.47461725,\n",
       "        19.24463926,   5.34806031,  -7.54381197,  -5.69975109,\n",
       "         2.78430743,  11.45570007,   4.41260896,   7.3871772 ,\n",
       "         4.59805463,  -6.03401162,  -7.89397206,  -5.67870835,\n",
       "        -5.03875401,  -2.51070894,  13.99522348,  12.76445774,\n",
       "        -6.24596277,   0.70413663,  -5.06245866,  11.77079906,\n",
       "        -7.41563702,  -3.80277555,  -3.85586297,  -9.1519749 ,\n",
       "        -4.26667721,  -7.7850144 ,  -3.88737402,   4.5589953 ,\n",
       "        11.54975152,  -5.5053402 ,  -5.25061599,   7.75427462,\n",
       "        -1.87572637,  -4.73551721,  12.74486842,  -2.18055944,\n",
       "        -3.75441564,  -2.94715278,   6.3819696 ,  -3.81536342,\n",
       "        -2.08379569,  -5.61939396,  17.65678225,   4.509643  ,\n",
       "        24.01046759,   9.34793004,   8.81203219,  -4.16051789,\n",
       "        -4.04680563,  20.16838478,  -7.66391066,   0.23011927,\n",
       "         7.88275936,  -4.29016129,  13.26196143,  -1.46458917,\n",
       "         8.49661391,  16.09335248,  -6.2938981 ,  -5.79111752,\n",
       "        -9.56451086,   2.69548488,   3.346536  ,  -4.71702463,\n",
       "        13.22913697,   8.53756675,  -3.79109908,   8.72014245,\n",
       "        10.99156221,  -5.75042477,  -4.51122159,  -2.04877534,\n",
       "         8.89733542,   1.53309953,   4.66386442,   5.61250596,\n",
       "        -4.87437424,  10.24694885,   3.16891293,  -4.69959602,\n",
       "        -2.35973378,  -0.59971543,  -2.84220777,  -3.85944837,\n",
       "        -8.54782195,  -1.42992151,  11.68777908,  -4.65288045,\n",
       "        -7.83831833,  14.82400906,  -3.8082052 ,   6.88094883,\n",
       "        -3.30448821,   4.73726698,   6.04611528,  19.82661607,\n",
       "        -4.75753442,  -0.34295589,   4.93030353,   1.04730427,\n",
       "        -2.8282335 ,  -4.43635334,  -4.95920705,   9.4038899 ,\n",
       "        -0.95214948,  -6.22865292,   6.45686462,  -5.74466915,\n",
       "         1.19055107,   2.21857288,  -7.53468959,  -3.84232651,\n",
       "        -3.2539317 ,   5.49525427,  -1.92473404,   4.02052344,\n",
       "        -6.83596948, -10.31973489,  -5.56358288,  -0.96653465,\n",
       "        -3.83180434,   1.62888745,  -4.74887449,  -1.57785889,\n",
       "        -8.48346599,   7.0177483 ,   9.73408389,  -5.66880202,\n",
       "        22.45331398,   4.73180091,  -1.33559564,  -8.16910525,\n",
       "        -3.84675698,   3.49066676,  -6.72882479,  -9.441883  ,\n",
       "         9.10366692,   0.28123331,   1.53136025,   4.5457925 ,\n",
       "         6.36954616,  -1.29458194,   2.89260425,   1.12481935,\n",
       "         5.17767993,   0.72225947,  -8.45163345,  17.55096913,\n",
       "        -6.84408575,  -2.73609336,   0.7806794 ,  -6.50651269,\n",
       "        23.929742  ,   7.88420876,   5.74844296,  -3.4082645 ,\n",
       "         8.31412171,  -2.97537297,  -4.01935146,   3.39070471,\n",
       "         5.08960601,  -4.37612975,  -6.39405864,  -5.13695874,\n",
       "        -7.98748103,  25.1564174 ,  19.1906457 ,  -9.61780522,\n",
       "         0.93354991,   3.32984996,  12.01009033,  -1.52476052,\n",
       "        -8.01715442,  -4.65784582,  -0.38353973,   6.49338092,\n",
       "        -5.37036548,   5.99608686,  -2.83666558,  -1.33158548,\n",
       "        -1.75663429,   7.26264531,  -6.51082365,  -3.9819066 ,\n",
       "        22.83618577,  -5.25811651,  -1.61908021,  -2.62163475,\n",
       "        -2.07238693,   0.09666856,  13.68502679,   6.80915635,\n",
       "        -4.87121616,  -3.89219227,  14.76664706,   1.73508173,\n",
       "         5.31956151,   8.34098049,  -9.60934275,   9.22136496,\n",
       "         1.20709273,  -4.2233568 ,  -3.87450894,  -6.39698986,\n",
       "        -9.16940092,   5.10660733,  -8.1007251 ,   8.63071812,\n",
       "         6.1929091 ,  10.6036138 ,   1.19633224,  -2.56816318,\n",
       "        -5.6435521 ,  -8.84268368,  13.23240361,  -4.66618274,\n",
       "        -3.25987073,  -9.5953287 ,  21.13624243,   6.5556391 ,\n",
       "         5.1870335 ,  -5.10524694,   8.03755997, -10.80755253,\n",
       "         4.94238447,  11.66215104,  -7.98820684,   3.70722803,\n",
       "        -0.73401635,  -6.82712727,  10.25387143,  15.83405299,\n",
       "         4.86117322,  -1.89772275,  -4.52403691,  -1.20237373,\n",
       "        -1.56393269,  -1.55811804,  -7.57914683,  -3.59742196,\n",
       "        11.30025488,  -8.34002723,  12.47026762,  -4.73680911,\n",
       "        -4.38443541,  -4.81965236,  -5.76791595,   9.79979687,\n",
       "         2.65263476,  -4.42092016,   4.67778378,  -6.46064302,\n",
       "         2.56099489,  17.11274976,  -8.13733762,   7.24738744,\n",
       "        -4.80429619,   5.63931385,  17.38045712,   3.85795747,\n",
       "        -5.52798676,  -1.25217614,  -4.22114425,  -2.6260252 ,\n",
       "         6.91023278,  14.10530552,  -9.87265733,  15.34091108,\n",
       "         4.97096745,  13.15972544,  13.26269143,  -5.95187694,\n",
       "         9.3998014 ,   3.12805361,  -9.03851445,  -4.0033149 ,\n",
       "        -6.2475011 ,   6.0002573 ,  18.96197747,  -9.26148444,\n",
       "         5.52649954,  -7.14816682,  -3.45597447,  -1.51772029,\n",
       "        30.15353241,  -4.77927745,  25.87738955,  -9.06556501,\n",
       "        -2.65164635,  -7.55286742,   4.22233493,   1.15755861,\n",
       "        -6.49299982,  -4.46931811,  14.65425675,  -4.68191423,\n",
       "         6.14317128,  -5.21083716,  -7.88452299,   5.34829915,\n",
       "        -0.39632122,   9.1884925 ,  -7.17626224,  -7.81783991,\n",
       "        -6.95795686,   7.67128991,  10.98376036,  -1.08578195,\n",
       "        -1.51366538,  12.21018359,   1.0612278 ,  17.48771263,\n",
       "        -6.78323267,  -7.36498796,   7.71629176,   3.7573425 ,\n",
       "        -4.50893961,   5.58556253,  -5.8511458 ,  -1.44122111,\n",
       "       -11.48183849,  10.06999538,  -4.38152878,  -5.00729008,\n",
       "        -5.81730909,  -5.03387413,  -9.0036621 ,  10.48833165,\n",
       "        12.36353123,  -3.79235518,  11.24516992,   1.06373866,\n",
       "        -5.4778217 ,  -3.60470807,   5.39505235,  -6.91735367,\n",
       "         1.12684964,  15.37087947,  -8.79183335,  -3.84846808,\n",
       "        -9.85697977,  -0.86346052,  -5.92634348,   6.95651986,\n",
       "         2.2520096 ,  18.56365751,   2.55994945,  -1.95123219,\n",
       "        -8.22426772,  -7.13253855,   9.71597578,  -8.24447691,\n",
       "        -1.43952025,   4.25843814,   7.39503625,  -1.60610839,\n",
       "        -5.15641022,  -4.87909445,   5.69881605,  -8.01608003,\n",
       "         1.64239103,  -0.23519999,  -5.00514564,   0.05263994,\n",
       "         7.73441459,   3.08381248,  -4.31169885,   4.80287389,\n",
       "        21.75712467,  -9.42421951,  18.55705759,  11.51165496,\n",
       "        -5.65753555,  13.83252251,  -6.62457413,  11.41786535,\n",
       "        -5.85848706,   5.13844229,   5.49614205,  -5.26296709,\n",
       "        -6.39427943,   1.34361683,   2.76200242,   3.22231312,\n",
       "         6.67495897,  -5.52691153,  -6.53765506,  -1.44041633,\n",
       "         2.95672588,  -5.9953397 ,  -5.69197037,  -3.45777271,\n",
       "        -3.00203426,   1.55017805,  15.30486429,  10.37386622,\n",
       "        -2.54372274,  10.78485426,  16.98156502,   1.91456819,\n",
       "         6.05938909,  13.49938306,   9.54947931,   7.47141737,\n",
       "         7.75002311,   5.4638245 ,  14.1539378 ,   4.25654856,\n",
       "         2.80815842,   6.78437601,   8.47878698,  10.66357237,\n",
       "         3.02165821,  -9.95148747,   3.69209444,  -6.12080627,\n",
       "        -7.15967418,  -8.40453775,  -4.51634084,  -3.95074731,\n",
       "        -2.79078398,  16.20944438,  -2.11578997,   3.44674832,\n",
       "         2.91233929,  -8.73527077,  -4.71285081,   5.07221575,\n",
       "        -8.12853961,  -4.36177053,  -7.01416639,   2.566343  ,\n",
       "        24.244234  ,  10.01084649,  -4.04572578,   5.58910743,\n",
       "        -1.47350033,  -4.40341879,  -5.72151798,  -0.28717367,\n",
       "        -8.5227332 ,   4.09289917,  -9.70415924,  13.53821846,\n",
       "        26.57576857,  -8.17754331,  -4.12166563,  -4.59258652,\n",
       "        -4.41881246,  -0.83576857,  -5.58392934,  -2.41611215,\n",
       "        -6.57450273,  -6.06477882,   3.57105042,  -3.98348794,\n",
       "        -7.62749646,   3.69408115,  22.80081285,   8.30510264,\n",
       "         5.99039875,  10.03462866,  -4.69661165,   2.00773097,\n",
       "         4.45696033,   3.75507939,  -4.99225816,  -6.25370233,\n",
       "        -5.83478118,  -3.80963113,  -1.9895819 ,  -3.46423932,\n",
       "        14.87960367,   5.24603527,   2.03971691,  -3.60392564,\n",
       "        -9.64575219,   5.4355832 ,  14.3196245 ,  -5.66662823,\n",
       "        17.1471623 ,  -0.85631473,   4.18214728,  -3.76873746,\n",
       "        -3.87238331,   6.70918466,   3.42225523,  -7.79853638,\n",
       "        -4.9096973 ,  -1.008963  ,  -0.75818569,  12.26791506,\n",
       "        -0.29032588,  -7.00911689,  19.2635065 ,   6.2163566 ,\n",
       "        -6.18756058,   8.35401231,   4.66665941,   0.30470115,\n",
       "         6.62994107,  -7.76456083,  12.69690981,   4.30744677,\n",
       "        10.17564411,  13.22825978,   8.63429558,   8.45206964,\n",
       "         2.72426903,  20.8777892 ,   1.27382785,  -5.42070512,\n",
       "        15.73893509,  -9.56497719,  20.33325609,   5.73418913,\n",
       "        -2.70229437,   5.44250536,  -6.14429932,  -7.89576502,\n",
       "        -6.5152699 ,   9.67599071,  -9.32873844,   7.50452027,\n",
       "        -4.36837263,   2.88014767,   3.40049521,  -4.6314746 ,\n",
       "         0.10934279,   9.09595482,   5.6809085 ,  -3.72855455,\n",
       "        -1.20445852,   3.61282611,  -4.60502487,   7.23057929,\n",
       "        -3.92246276,  -5.83009414,   3.08851542,   7.94137797,\n",
       "         5.09826068,  10.17655241,  13.65176361,  13.61114895,\n",
       "        -0.85330753,  -3.23025232,   8.07797459,   8.85268469,\n",
       "        -7.31410378,  -1.64251468,  -0.65586946,   9.33980259,\n",
       "        -7.79151021,   1.54796183,  -1.36258916,  -5.81155096,\n",
       "        -7.48831267,  -8.38731318,   6.18453695,   9.77134264,\n",
       "        11.48784637,   2.09136135,  -1.77700923,   7.51030485,\n",
       "         4.72314696,  -5.36698441,  19.99002425,   1.29385247,\n",
       "        -4.87648706,  30.10930897,  -1.28751612,  -4.67860542,\n",
       "        -0.33469913,  -9.20119654,   8.79026116,   8.38878552,\n",
       "         3.54970975,  -6.74104848,   2.85663503,   2.7207373 ,\n",
       "         4.53446417,   2.88007933,  12.57024713,   5.01914489,\n",
       "        29.78607956,   7.73783669,  24.48059691,  17.14464526,\n",
       "        13.72469264,   8.07394368,  -3.77130161,   0.51052117,\n",
       "        -5.95876497,  -6.08751981,  -8.06046751,   7.34368154,\n",
       "        -5.30485002,   2.4517955 ,   1.60566806,  -6.757191  ,\n",
       "        -7.34126475,  -7.44649619,  -4.02240849,   0.16898868,\n",
       "        -0.24925388,  14.71368449,   9.36446518,  -6.75938836,\n",
       "         1.08979488,  -3.80263561,  -3.79439763,  -1.28128601,\n",
       "         0.85323262,  -5.20466807,   5.50697435,  -4.97023144,\n",
       "         1.28258478,  12.22734373,  18.39991328,  10.22634087,\n",
       "         8.28428804,   7.91899369,   8.71576351,   5.90091607,\n",
       "        -7.50848426,   8.50999956,  -3.55749621,  -1.80800066,\n",
       "         5.78951079,  12.86138644,   1.65826055,   9.01278514,\n",
       "        -1.08633434,  -0.1139079 ,  -4.63331523,   0.71472788,\n",
       "        12.32073379,  -7.79659763,   2.31371598,   7.01491413,\n",
       "        -5.23437286,  -6.44368612,   2.06691215,  14.51058772,\n",
       "        10.63300321,  -3.6506859 ,  -4.72172258,  16.09305557,\n",
       "        -6.45847201,   5.44987012,  -6.48857882,   5.42527223,\n",
       "        -3.88055339,  -9.81154776,  10.7982383 ,   9.41427058,\n",
       "        14.37917261,   3.53818988,   4.53201364,  -1.7233471 ,\n",
       "         4.13608006,  -6.2519621 ,  -9.58925645,  -8.96038671,\n",
       "        -1.20185778,  28.45458492,  -6.41461984,   7.30634764,\n",
       "        -0.80588593,  -5.94081371,  11.90442347,  14.10616239,\n",
       "         2.58244108,  -6.16872984,  -0.98211566,   5.92777996,\n",
       "        -6.5316148 ,  -2.72404402,  -1.07457242,  -6.16698625,\n",
       "         3.57346496,   2.21928219,  -3.99461021,  -9.59606787,\n",
       "        -5.78811453,   2.21156115,  14.52024863,   4.38572327,\n",
       "        -4.55978925,  -8.79863902,  14.8524638 ,  -1.41378071,\n",
       "        15.58906728,  -3.58523013,   4.58936595,  -7.03364661,\n",
       "        -7.6847231 ,  -9.73296095,  -8.04014433,   1.5638453 ,\n",
       "        -4.29428737,  13.32425992,  -3.90494961,   0.65564439,\n",
       "        -3.26533375,   1.64311986,  -4.47367539,  13.84044675,\n",
       "        -9.44013778,  -4.91232832,  -9.99882278,   6.87771291,\n",
       "         0.1752705 ,  -3.68723269,  17.85119038,   9.61936489,\n",
       "         1.03999413,   7.34230343,  -4.28907428,  -4.2236543 ,\n",
       "         5.93350112,   1.75572988,  13.11378473,  -1.13851547,\n",
       "        -7.9583605 ,  -4.43053377,  -6.9654652 ,  -5.1716805 ,\n",
       "         2.16887023,  -7.98903546,  22.86096398,  -7.13847739,\n",
       "         1.56427528,  -3.83105715,  -6.15477675,  15.52563447,\n",
       "        -6.49125931,  15.34345091,  26.37934377,  -5.37242881,\n",
       "         0.15309536,  18.5380141 ,  -0.24535669,  -7.81118855,\n",
       "         4.19360167,  -7.4055827 ,  -3.58503274,  14.990895  ,\n",
       "        19.49988622,   4.95242717,  22.13781083,  12.02738648,\n",
       "        -0.08599783,  -2.00007172,  -3.46599675,  -3.87306504,\n",
       "        -4.12473346,  -8.08486063,  -9.94248958,   4.7845418 ,\n",
       "         9.06502105,   5.73958411,  -9.05283819,   6.34122665,\n",
       "        -1.3486517 ,   6.12115645,  -6.03932146,  -4.00280638,\n",
       "        -2.13135095,  -6.55405985,  -1.94229461,  -5.2098865 ,\n",
       "        14.17790199,   1.78481705,   8.00052387,  -4.71518257,\n",
       "        11.00691356,  12.83991073,  14.42670384,   7.47497894,\n",
       "         4.08446858,  -6.64362622,  -5.31577507,  -2.30541497,\n",
       "        -7.79865756,  15.82380404,  -5.68112438,  14.84950631,\n",
       "         7.55864916,   4.60748643,  -9.58222307,  17.65146008,\n",
       "         1.77022602,  -2.79502247,  -8.62364072,   7.21233188,\n",
       "        -7.96013774,  -4.69873456,  -3.84168199,   6.58818422,\n",
       "        -4.07522375,  16.72615715,  -9.35924869,   5.7431488 ,\n",
       "        15.05616241,  -1.08628563,  -3.79974974,  15.56723482,\n",
       "        -8.05110583,   5.9710975 ,   0.95798499,  23.120015  ,\n",
       "         3.92793095,  -0.70605653,   8.14746527,  -0.20132415,\n",
       "        -6.2350868 ,   1.0045176 ,  -4.62165544,   2.71079383,\n",
       "         4.5359125 ,   4.31398861,  -4.42856499,  -4.78771382,\n",
       "        -8.66770917,   6.53153871,  -5.59389234,   1.20220724,\n",
       "         7.96220646,  17.17058585,  -9.24512872,  -0.0394799 ,\n",
       "        -2.16724987,   1.01767516,  31.25694549,  -7.04579375,\n",
       "        16.77186203,   9.25795281,  -6.81076272,  18.76276621,\n",
       "        -5.28913109,  -3.00608663,  -9.67965359,  -1.1491735 ,\n",
       "        -1.58293757,  -6.96510489,   5.54047442,  -7.94785792])"
      ]
     },
     "execution_count": 16,
     "metadata": {},
     "output_type": "execute_result"
    }
   ],
   "source": [
    "np.where(a <= -10, a / np.e, a)"
   ]
  }
 ],
 "metadata": {
  "celltoolbar": "Raw Cell Format",
  "kernelspec": {
   "display_name": "Python 3 (ipykernel)",
   "language": "python",
   "name": "python3"
  },
  "language_info": {
   "codemirror_mode": {
    "name": "ipython",
    "version": 3
   },
   "file_extension": ".py",
   "mimetype": "text/x-python",
   "name": "python",
   "nbconvert_exporter": "python",
   "pygments_lexer": "ipython3",
   "version": "3.9.7"
  }
 },
 "nbformat": 4,
 "nbformat_minor": 5
}

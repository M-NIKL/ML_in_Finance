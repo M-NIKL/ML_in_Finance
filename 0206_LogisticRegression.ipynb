{
 "cells": [
  {
   "cell_type": "markdown",
   "metadata": {},
   "source": [
    "# Logistic Regression\n",
    "\n",
    "## From Regression to Classification\n",
    "\n",
    "In the previous chapter we discussed linear regression and its application. It is a very valuable tool because\n",
    "\n",
    "* it is easy to fit\n",
    "* has simple interpretation and \n",
    "* tests of statistical significance can be performed without difficulty.\n",
    "\n",
    "But it has its drawbacks too. For example: it makes quite strong assumptions about the functional form of $f(X)$ and the error terms. Another disadvantage is that linear regression is not suited for classification problems where we deal with qualitative responses. \n",
    "\n",
    "Below figure, where we regress the probability of default onto credit card balance, visualizes the issue. \n",
    "\n",
    "* Linear regression produces negative probabilities for some balances\n",
    "* Due to the large number of non-defaults, the linear regression's probability of default barely rises above 25%. This begs the question where we should set the threshold to qualify a default case. "
   ]
  },
  {
   "cell_type": "markdown",
   "metadata": {},
   "source": [
    "<img src=\"Graphics/0206_LinRegClassification.png\" alt=\"LinearRegClassification\" style=\"width: 800px;\"/>"
   ]
  },
  {
   "cell_type": "markdown",
   "metadata": {},
   "source": [
    "Logistic regression is able to overcome these obstacles. Rather than modelling the default class $y$ (e.g. 0 for non-default, 1 for default) it models the (conditional) probability that $y$ belongs to a certain category, $\\Pr(Y=y|X)$. "
   ]
  },
  {
   "cell_type": "markdown",
   "metadata": {},
   "source": [
    "## Logistic Model\n",
    "\n",
    "In above figure we display our attempt to estimated the probability of default given one feature, i.e. a client's credit card balance. In the same way we could have used a multiple linear regression (with multiple features as input) to estimate the probability. \n",
    "\n",
    "$$\\begin{equation}\n",
    "\\Pr(Y=y|X) = \\beta_0 + \\beta_1 X_1 + \\ldots + \\beta_p X_p\n",
    "\\end{equation}$$\n",
    "\n",
    "But as discussed above for the simple case, this too would yield unbounded probabilities with $y > 1$ and $y<0$ for some $X$ (for convenience let us assume that we are using the generic 0/1 coding for the dependent variable). The question thus is: how could we improve on that model such that we have bounded results with probabilities of default? A well known function which satisfies the inequality $0 \\leq f(x) \\leq 1$ (and is continuous and hence differentiable) is the so called \"Sigmoid\" or \"Logistic\" function which is defined as \n",
    "\n",
    "$$\\begin{equation}\n",
    "S(x) = \\frac{1}{1 + e^{-x}} = \\frac{e^x}{1 + e^x}\n",
    "\\end{equation}$$"
   ]
  },
  {
   "cell_type": "markdown",
   "metadata": {},
   "source": [
    "<img src=\"Graphics/0206_Sigmoid.png\" alt=\"LogisticFunction\" style=\"width: 500px;\"/>"
   ]
  },
  {
   "cell_type": "markdown",
   "metadata": {},
   "source": [
    "Above figure displays the function's shape. Its range is bounded by $[0, 1]$ and its notable \"S\" shape depends on the input parameter $x$. For logistic regression $x$ takes on the known functional form of a linear regression:\n",
    "\n",
    "$$\\begin{equation}\n",
    "\\Pr(Y=y|X) = \\frac{e^{\\beta_0 + \\beta_1 X_1 + \\ldots + \\beta_p X_p}}{1 + e^{\\beta_0 + \\beta_1 X_1 + \\ldots + \\beta_p X_p}}\n",
    "\\end{equation}$$\n",
    "\n",
    "This function is related to the linear model in that by rearranging the equation we arrive at\n",
    "\n",
    "$$\\begin{equation*}\n",
    "\\frac{p(X)}{1 - p(X)} = e^{\\beta_0 + \\beta_1 X_1 + \\ldots + \\beta_p X_p}\n",
    "\\end{equation*}$$\n",
    "\n",
    "Notice that for ease of use we define $p(X)$ as equivalent of $\\Pr(Y=y|X)$. Taking the natural logarithm of above expression yields\n",
    "\n",
    "$$\\begin{equation}\n",
    "\\underbrace{\\log\\left(\\frac{p(X)}{1 - p(X)}\\right)}_{\\textit{Logit}} = \\beta_0 + \\beta_1 X_1 + \\ldots + \\beta_p X_p,\n",
    "\\end{equation}$$\n",
    "\n",
    "a function where the output on the left-hand side, the so called **Logit** or **log-odds**, is linear in $X$."
   ]
  },
  {
   "cell_type": "markdown",
   "metadata": {},
   "source": [
    "## Estimating the Coefficients\n",
    "\n",
    "To run a logistic regression we need to estimate the $\\beta$ coefficients in the following equation: \n",
    "\n",
    "$$\\begin{equation}\n",
    "\\Pr(Y=y|X) = \\frac{e^{\\beta_0 + \\beta_1 X_1 + \\ldots + \\beta_p X_p}}{1 + e^{\\beta_0 + \\beta_1 X_1 + \\ldots + \\beta_p X_p}}\n",
    "\\end{equation}$$\n",
    "\n",
    "In the linear regression setting we used a least squares approach. Here, however, we switch to a method called **maximum likelihood**. This approach is used in many areas of statistics/machine learning to fit models and as such often studied in graduate courses. Here we will restrict ourselves to a very superficial discussion of the intuition. For the interested reader, [Elkan (2014)](http://cseweb.ucsd.edu/~elkan/250B/logreg.pdf) provides an excellent, concise introduction, whereas Bishop (2006) has a more advanced and thorough discussion of the topic. \n",
    "\n",
    "Back to the intuition: maximum likelihood optimizes the above equation to get estimates of $\\beta$ \"such that the predicted probability $\\hat{p}(x_i)$ of default for each individual [$\\ldots$] corresponds as closely as possible to the individual's observed default status. In other words, we try to find $\\hat{\\beta}_0, \\hat{\\beta}_1, \\ldots, \\hat{\\beta}_p$ such that plugging these estimates into the model for $p(X)$ [$\\ldots$] yields a number close to one for all individuals who defaulted, and a number close to zero for all individuals who did not.\" (James et al. (2013, p. 133)). \n",
    "\n",
    "The maximum likelihood function that is used to estimate the $\\beta$ coefficients in the logistic regression model is derived from the probability distribution of the dependent variable $y$. Since $y$ takes on one of two values (in our example $y \\in \\{0, 1\\}$) and assuming the response values are independent of each other, the probability mass function of $Y$ follows a Bernoulli distribution, $Y \\sim Bern(p)$, which is a special case of the Binomial distribution $Bin(n, p)$ with $n=1$. Its probability mass function is \n",
    "\n",
    "\\begin{equation*}\n",
    "f(y;p) = p(Y=y) = p^y (1-p)^{1-y} = \n",
    "\\begin{cases}\n",
    "p & \\text{ if } y=1 \\\\\n",
    "(1-p) & \\text{ if } y=0 \n",
    "\\end{cases}\n",
    "\\end{equation*}\n",
    "\n",
    "The joint probability mass function of $Y$ is \n",
    "\n",
    "\\begin{equation*}\n",
    "f(y | \\beta) = \\prod_{i=1}^N p(x_i)^{y_i} \\, (1-p(x_i))^{1-y_i}\n",
    "\\end{equation*}\n",
    "\n",
    "and describes the values of $y$ as a function of known, fixed values for $\\beta$, where $\\beta$ is related to $y$ through the logistic function. Since we don't know the coefficients $\\beta$ but have measured outcomes for $y$ the likelihood function reverses above joint probability mass function such that it expresses the values of $\\beta$ in terms of known, fixed values for $y$. This is the likelihood function ([Czepiel (2002)](https://czep.net/stat/mlelr.pdf)).\n",
    "\n",
    "\\begin{equation}\n",
    "L(\\beta | y) = \\prod_{i=1}^N p(x_i)^{y_i} \\, (1-p(x_i))^{1-y_i}\n",
    "\\end{equation}\n",
    "\n",
    "The maximum likelihood estimates are now those values for $\\beta$ which maximize the likelihood function $L(\\beta | y)$. Typically, to find the maximum likelihood estimates we would differentiate the (log-) likelihood with respect to the coefficients, set the derivatives equal to zero, and solve. However, there is no closed-form solution for this and thus numerical methods (such as Newton-Raphson, Newton-conjugent gradient etc.) are required to derive a maxima ([Shalizi (2017)](http://www.stat.cmu.edu/~cshalizi/ADAfaEPoV/ADAfaEPoV.pdf)). \n",
    "\n",
    "Below clip I found to be an excellent introduction into the details of how the log-likelihood is derived with maximum likelihood."
   ]
  },
  {
   "cell_type": "code",
   "execution_count": 1,
   "metadata": {},
   "outputs": [
    {
     "data": {
      "image/jpeg": "[encoded data removed]",
      "text/html": [
       "\n",
       "        <iframe\n",
       "            width=\"400\"\n",
       "            height=\"300\"\n",
       "            src=\"https://www.youtube.com/embed/TM1lijyQnaI\"\n",
       "            frameborder=\"0\"\n",
       "            allowfullscreen\n",
       "            \n",
       "        ></iframe>\n",
       "        "
      ],
      "text/plain": [
       "<IPython.lib.display.YouTubeVideo at 0x2715c982f10>"
      ]
     },
     "execution_count": 1,
     "metadata": {},
     "output_type": "execute_result"
    }
   ],
   "source": [
    "from IPython.display import YouTubeVideo\n",
    "\n",
    "YouTubeVideo('TM1lijyQnaI')"
   ]
  },
  {
   "cell_type": "markdown",
   "metadata": {},
   "source": [
    "Thankfully, statistical packages such as Python's `statsmodels` have the necessary tools and functions integrated into the relevant functions such that we do not need to concern ourselves with the details. "
   ]
  },
  {
   "cell_type": "markdown",
   "metadata": {},
   "source": [
    "## Logistic Regression in Python\n",
    "\n",
    "### Package Selection\n",
    "\n",
    "To show how logistic regression is run in Python we will again rely on functions from the `statsmodels` package. The Scikit-learn package `sklearn` contains similar functions. However, when it comes to calling results, the `statsmodels` functions for logistic regression follow those for linear regression which we got to know in the previous chapter. Therefore we will work with this package. \n",
    "\n",
    "### Data Load\n",
    "\n",
    "We will use the generic 'Default' data set from James et al. (2013), which we discussed in this chapter's introduction. It is taken from the book's corresponding `R` package and made available in this course's data folder on GitHub. We start our journey as usual with the initial load of the necessary packages and setting a few options."
   ]
  },
  {
   "cell_type": "code",
   "execution_count": 2,
   "metadata": {},
   "outputs": [],
   "source": [
    "%matplotlib inline\n",
    "import pandas as pd\n",
    "import numpy as np\n",
    "import matplotlib.pyplot as plt\n",
    "import statsmodels.api as sm\n",
    "import statsmodels.formula.api as smf\n",
    "plt.style.use('seaborn-whitegrid')"
   ]
  },
  {
   "cell_type": "code",
   "execution_count": 3,
   "metadata": {
    "scrolled": true
   },
   "outputs": [
    {
     "data": {
      "text/html": [
       "<div>\n",
       "<style scoped>\n",
       "    .dataframe tbody tr th:only-of-type {\n",
       "        vertical-align: middle;\n",
       "    }\n",
       "\n",
       "    .dataframe tbody tr th {\n",
       "        vertical-align: top;\n",
       "    }\n",
       "\n",
       "    .dataframe thead th {\n",
       "        text-align: right;\n",
       "    }\n",
       "</style>\n",
       "<table border=\"1\" class=\"dataframe\">\n",
       "  <thead>\n",
       "    <tr style=\"text-align: right;\">\n",
       "      <th></th>\n",
       "      <th>default</th>\n",
       "      <th>student</th>\n",
       "      <th>balance</th>\n",
       "      <th>income</th>\n",
       "      <th>defaultFac</th>\n",
       "      <th>studentFac</th>\n",
       "    </tr>\n",
       "  </thead>\n",
       "  <tbody>\n",
       "    <tr>\n",
       "      <th>0</th>\n",
       "      <td>No</td>\n",
       "      <td>No</td>\n",
       "      <td>729.526495</td>\n",
       "      <td>44361.625074</td>\n",
       "      <td>0</td>\n",
       "      <td>0</td>\n",
       "    </tr>\n",
       "    <tr>\n",
       "      <th>1</th>\n",
       "      <td>No</td>\n",
       "      <td>Yes</td>\n",
       "      <td>817.180407</td>\n",
       "      <td>12106.134700</td>\n",
       "      <td>0</td>\n",
       "      <td>1</td>\n",
       "    </tr>\n",
       "    <tr>\n",
       "      <th>2</th>\n",
       "      <td>No</td>\n",
       "      <td>No</td>\n",
       "      <td>1073.549164</td>\n",
       "      <td>31767.138947</td>\n",
       "      <td>0</td>\n",
       "      <td>0</td>\n",
       "    </tr>\n",
       "    <tr>\n",
       "      <th>3</th>\n",
       "      <td>No</td>\n",
       "      <td>No</td>\n",
       "      <td>529.250605</td>\n",
       "      <td>35704.493935</td>\n",
       "      <td>0</td>\n",
       "      <td>0</td>\n",
       "    </tr>\n",
       "    <tr>\n",
       "      <th>4</th>\n",
       "      <td>No</td>\n",
       "      <td>No</td>\n",
       "      <td>785.655883</td>\n",
       "      <td>38463.495879</td>\n",
       "      <td>0</td>\n",
       "      <td>0</td>\n",
       "    </tr>\n",
       "  </tbody>\n",
       "</table>\n",
       "</div>"
      ],
      "text/plain": [
       "  default student      balance        income  defaultFac  studentFac\n",
       "0      No      No   729.526495  44361.625074           0           0\n",
       "1      No     Yes   817.180407  12106.134700           0           1\n",
       "2      No      No  1073.549164  31767.138947           0           0\n",
       "3      No      No   529.250605  35704.493935           0           0\n",
       "4      No      No   785.655883  38463.495879           0           0"
      ]
     },
     "execution_count": 3,
     "metadata": {},
     "output_type": "execute_result"
    }
   ],
   "source": [
    "# Default data set is not available online. Data was extracted from R package \"ISLR\"\n",
    "df = pd.read_csv('Data/Default.csv', sep=',')\n",
    "\n",
    "# Factorize 'No' and 'Yes' in columns 'default' and 'student'\n",
    "df['defaultFac'] = df.default.factorize()[0]\n",
    "df['studentFac'] = df.student.factorize()[0]\n",
    "df.head(5)"
   ]
  },
  {
   "cell_type": "markdown",
   "metadata": {},
   "source": [
    "### Simple Logistic Regression\n",
    "\n",
    "Similar to linear regression with `statsmodels` there exist different ways to compute a logistic regression. For reference, we will show three approaches here:\n",
    "\n",
    "1. R-Style: The `statsmodels.formula.api` library has a `glm` function mimicking `R`'s way of running glm regressions\n",
    "2. Classic GLM: Using the `GLM` function from the `statsmodels.api` library \n",
    "3. Logit regression: `statsmodels.api`'s `Logit` function follows the approach we used for OLS case \n",
    "\n",
    "You might ask what GLM/glm means. It stands for *Generlized Linear Models* and as such is a generalization of linear regression approaches (linear, logistic, Poisson regression). There are many good resources available on the web for the interested. A good textbook introducing GLM is Alan Agresti's *Foundations of Linear and Generalized Linear Models* (Agresti (2015))."
   ]
  },
  {
   "cell_type": "markdown",
   "metadata": {},
   "source": [
    "#### R-Style\n",
    "\n",
    "* This method allows for a verbose definition of the regression. \n",
    "* It follows the pattern `y ~ X1 + X2 + ... + Xn` - in words we regress $y$ on $X_1, X_2, \\ldots, X_n$ where $X_i$ is a vector of a particular feature. \n",
    "* By default a constant is added to the regression\n",
    "* `family` is a necessary argument. Remember that above, where we discussed the maximum likelihood approach of estimating the coefficients, we mentioned that the binary response $y$ follows a Bernoulli distribution, which is a special case of a Binomial distribution. Thus we chose `family=sm.families.Binomial()`. \n",
    "* The `.fit()` method runs the maximum likelihood estimation of the coefficients. Default method is 'Newton-Raphson' (method=`newton`) and this fits our needs. Nonetheless, others are available. Use the help function `sm.Logit.fit?` to see what options you have (it's the same for all three approaches).\n",
    "\n",
    "More details can be found [here](http://www.statsmodels.org/dev/example_formulas.html)"
   ]
  },
  {
   "cell_type": "code",
   "execution_count": 4,
   "metadata": {},
   "outputs": [
    {
     "name": "stdout",
     "output_type": "stream",
     "text": [
      "                 Generalized Linear Model Regression Results                  \n",
      "==============================================================================\n",
      "Dep. Variable:             defaultFac   No. Observations:                10000\n",
      "Model:                            GLM   Df Residuals:                     9998\n",
      "Model Family:                Binomial   Df Model:                            1\n",
      "Link Function:                  logit   Scale:                          1.0000\n",
      "Method:                          IRLS   Log-Likelihood:                -798.23\n",
      "Date:                Mon, 21 Feb 2022   Deviance:                       1596.5\n",
      "Time:                        21:15:58   Pearson chi2:                 7.15e+03\n",
      "No. Iterations:                     9                                         \n",
      "Covariance Type:            nonrobust                                         \n",
      "==============================================================================\n",
      "                 coef    std err          z      P>|z|      [0.025      0.975]\n",
      "------------------------------------------------------------------------------\n",
      "Intercept    -10.6513      0.361    -29.491      0.000     -11.359      -9.943\n",
      "balance        0.0055      0.000     24.952      0.000       0.005       0.006\n",
      "==============================================================================\n"
     ]
    }
   ],
   "source": [
    "# 1. R-Style\n",
    "\n",
    "# R-Style formula\n",
    "formula = 'defaultFac ~ balance'\n",
    "\n",
    "# Regress model\n",
    "logReg = smf.glm(formula=formula, data=df, family=sm.families.Binomial()).fit()\n",
    "print(logReg.summary())"
   ]
  },
  {
   "cell_type": "markdown",
   "metadata": {},
   "source": [
    "#### Classic GLM\n",
    "\n",
    "* `endog` = endogenous variable = response = $y$\n",
    "* `exog` = exogenous variable(s) = features = $X$\n",
    "* Notice that a constant needs to be added manually with `sm.add_constant(X)`\n",
    "\n",
    "Function details are described [here](http://www.statsmodels.org/dev/generated/statsmodels.genmod.generalized_linear_model.GLM.html#statsmodels.genmod.generalized_linear_model.GLM)."
   ]
  },
  {
   "cell_type": "code",
   "execution_count": 5,
   "metadata": {},
   "outputs": [
    {
     "name": "stdout",
     "output_type": "stream",
     "text": [
      "                 Generalized Linear Model Regression Results                  \n",
      "==============================================================================\n",
      "Dep. Variable:             defaultFac   No. Observations:                10000\n",
      "Model:                            GLM   Df Residuals:                     9998\n",
      "Model Family:                Binomial   Df Model:                            1\n",
      "Link Function:                  logit   Scale:                          1.0000\n",
      "Method:                          IRLS   Log-Likelihood:                -798.23\n",
      "Date:                Mon, 21 Feb 2022   Deviance:                       1596.5\n",
      "Time:                        21:15:58   Pearson chi2:                 7.15e+03\n",
      "No. Iterations:                     9                                         \n",
      "Covariance Type:            nonrobust                                         \n",
      "==============================================================================\n",
      "                 coef    std err          z      P>|z|      [0.025      0.975]\n",
      "------------------------------------------------------------------------------\n",
      "const        -10.6513      0.361    -29.491      0.000     -11.359      -9.943\n",
      "balance        0.0055      0.000     24.952      0.000       0.005       0.006\n",
      "==============================================================================\n"
     ]
    },
    {
     "name": "stderr",
     "output_type": "stream",
     "text": [
      "C:\\Users\\Ben Zimmermann\\anaconda3\\lib\\site-packages\\statsmodels\\tsa\\tsatools.py:142: FutureWarning: In a future version of pandas all arguments of concat except for the argument 'objs' will be keyword-only\n",
      "  x = pd.concat(x[::order], 1)\n"
     ]
    }
   ],
   "source": [
    "# 2. GLM \n",
    "\n",
    "# Regress model\n",
    "logReg = sm.GLM(endog=df.defaultFac, exog=sm.add_constant(df.balance), \n",
    "                family=sm.families.Binomial()).fit()\n",
    "print(logReg.summary())"
   ]
  },
  {
   "cell_type": "markdown",
   "metadata": {},
   "source": [
    "#### Logit Regression\n",
    "\n",
    "* `endog` = endogenous variable = response = $y$\n",
    "* `exog` = exogenous variable(s) = features = $X$\n",
    "* Notice that a constant needs to be added manually with `sm.add_constant(X)`\n",
    "* No need to specify `family` (Logit is per default binomial)\n",
    " \n",
    "\n",
    "The full function details are to be found [here](http://www.statsmodels.org/dev/generated/statsmodels.discrete.discrete_model.Logit.html)"
   ]
  },
  {
   "cell_type": "code",
   "execution_count": 6,
   "metadata": {},
   "outputs": [
    {
     "name": "stdout",
     "output_type": "stream",
     "text": [
      "Optimization terminated successfully.\n",
      "         Current function value: 0.079823\n",
      "         Iterations 10\n",
      "                           Logit Regression Results                           \n",
      "==============================================================================\n",
      "Dep. Variable:             defaultFac   No. Observations:                10000\n",
      "Model:                          Logit   Df Residuals:                     9998\n",
      "Method:                           MLE   Df Model:                            1\n",
      "Date:                Mon, 21 Feb 2022   Pseudo R-squ.:                  0.4534\n",
      "Time:                        21:15:58   Log-Likelihood:                -798.23\n",
      "converged:                       True   LL-Null:                       -1460.3\n",
      "Covariance Type:            nonrobust   LLR p-value:                6.233e-290\n",
      "==============================================================================\n",
      "                 coef    std err          z      P>|z|      [0.025      0.975]\n",
      "------------------------------------------------------------------------------\n",
      "const        -10.6513      0.361    -29.491      0.000     -11.359      -9.943\n",
      "balance        0.0055      0.000     24.952      0.000       0.005       0.006\n",
      "==============================================================================\n",
      "\n",
      "Possibly complete quasi-separation: A fraction 0.13 of observations can be\n",
      "perfectly predicted. This might indicate that there is complete\n",
      "quasi-separation. In this case some parameters will not be identified.\n"
     ]
    },
    {
     "name": "stderr",
     "output_type": "stream",
     "text": [
      "C:\\Users\\Ben Zimmermann\\anaconda3\\lib\\site-packages\\statsmodels\\tsa\\tsatools.py:142: FutureWarning: In a future version of pandas all arguments of concat except for the argument 'objs' will be keyword-only\n",
      "  x = pd.concat(x[::order], 1)\n"
     ]
    }
   ],
   "source": [
    "# 3. Logit \n",
    "\n",
    "# Regress model\n",
    "logReg = sm.Logit(endog=df.defaultFac, exog=sm.add_constant(df.balance)).fit()\n",
    "print(logReg.summary())"
   ]
  },
  {
   "cell_type": "markdown",
   "metadata": {},
   "source": [
    "### Accessing Output\n",
    "\n",
    "Though the scope of information in the summaries differ slightly between the different approaches the function yield the same results. As in the case of linear regression, the model's output can be accessed through its different methods and attributes. For example the models parameters and p-values are easily accessed as shown below. "
   ]
  },
  {
   "cell_type": "code",
   "execution_count": 7,
   "metadata": {
    "scrolled": true
   },
   "outputs": [
    {
     "data": {
      "text/plain": [
       "const     -10.651331\n",
       "balance     0.005499\n",
       "dtype: float64"
      ]
     },
     "execution_count": 7,
     "metadata": {},
     "output_type": "execute_result"
    }
   ],
   "source": [
    "logReg.params"
   ]
  },
  {
   "cell_type": "code",
   "execution_count": 8,
   "metadata": {
    "scrolled": true
   },
   "outputs": [
    {
     "data": {
      "text/plain": [
       "const      3.723665e-191\n",
       "balance    2.010855e-137\n",
       "dtype: float64"
      ]
     },
     "execution_count": 8,
     "metadata": {},
     "output_type": "execute_result"
    }
   ],
   "source": [
    "logReg.pvalues"
   ]
  },
  {
   "cell_type": "markdown",
   "metadata": {},
   "source": [
    "### Hypothesis Testing\n",
    "\n",
    "The $z$-statistic in above summary and the corresponding p-values play the same role as the $t$-statistic in the linear regression output. For example, the $z$-statistic associated with $\\hat{\\beta}_1$ is equal to $\\hat{\\beta}_1 / SE(\\hat{\\beta}_1)$. You can check this by running `logReg.params[1] / logReg.bse[1]`. A large (absolute) $z$-value, and correspondingly a small p-value, provides evidence against the null hypothesis $H_0 : \\beta_1 = 0$. Notice that this null hypothesis implies that $p(X) = \\dfrac{e^{\\beta_0}}{(1 + e^{\\beta_0})}$. \n",
    "\n",
    "The main purpose of the intercept is to adjust the average fitted probabilities to the proportion of ones in the data. Beyond that it is not of interest.\n",
    "\n",
    "If we are interested in the coefficient's 99% CI (instead of 95% like in the summary) we can use the same code as in the linear regression case."
   ]
  },
  {
   "cell_type": "code",
   "execution_count": 9,
   "metadata": {
    "scrolled": true
   },
   "outputs": [
    {
     "data": {
      "text/html": [
       "<div>\n",
       "<style scoped>\n",
       "    .dataframe tbody tr th:only-of-type {\n",
       "        vertical-align: middle;\n",
       "    }\n",
       "\n",
       "    .dataframe tbody tr th {\n",
       "        vertical-align: top;\n",
       "    }\n",
       "\n",
       "    .dataframe thead th {\n",
       "        text-align: right;\n",
       "    }\n",
       "</style>\n",
       "<table border=\"1\" class=\"dataframe\">\n",
       "  <thead>\n",
       "    <tr style=\"text-align: right;\">\n",
       "      <th></th>\n",
       "      <th>0</th>\n",
       "      <th>1</th>\n",
       "    </tr>\n",
       "  </thead>\n",
       "  <tbody>\n",
       "    <tr>\n",
       "      <th>const</th>\n",
       "      <td>-11.581640</td>\n",
       "      <td>-9.721022</td>\n",
       "    </tr>\n",
       "    <tr>\n",
       "      <th>balance</th>\n",
       "      <td>0.004931</td>\n",
       "      <td>0.006067</td>\n",
       "    </tr>\n",
       "  </tbody>\n",
       "</table>\n",
       "</div>"
      ],
      "text/plain": [
       "                 0         1\n",
       "const   -11.581640 -9.721022\n",
       "balance   0.004931  0.006067"
      ]
     },
     "execution_count": 9,
     "metadata": {},
     "output_type": "execute_result"
    }
   ],
   "source": [
    "logReg.conf_int(alpha=0.01)"
   ]
  },
  {
   "cell_type": "markdown",
   "metadata": {},
   "source": [
    "### Making Predictions\n",
    "\n",
    "If we wish to make predictions of the default probability we can use the `.predict()` method. Given we leave the brackets empty, this method will calculate $p(X)$ on the basis of the previously used feature training sample. If we wish to get the probability of default for a balance of, let us say, USD 2'000 we can run the following line of code:"
   ]
  },
  {
   "cell_type": "code",
   "execution_count": 10,
   "metadata": {},
   "outputs": [
    {
     "data": {
      "text/plain": [
       "array([0.58576937])"
      ]
     },
     "execution_count": 10,
     "metadata": {},
     "output_type": "execute_result"
    }
   ],
   "source": [
    "# X must include 1 in first column for intercept\n",
    "logReg.predict([1, 2000])"
   ]
  },
  {
   "cell_type": "markdown",
   "metadata": {},
   "source": [
    "The vector $[1, 2000]$ in the above `.predict()` function corresponds to a row vector containing the $x$-values for which we wish to predict the probability of default. If we had $p$ features, this vector would obviously have lenght $p+1$ ($p$ features + 1 for intercept).\n",
    "\n",
    "For future reference, below code generates a confusion matrix. We will discuss confusion matrices in more detail in the chapter on $k$-Nearest Neighbor. The `threshold` parameter defines above what probability a new observation is labeled/predicted as 1 (default); if no value is given, the function reverts to its default settings which is `threshold=0.5`. "
   ]
  },
  {
   "cell_type": "code",
   "execution_count": 11,
   "metadata": {
    "scrolled": true
   },
   "outputs": [
    {
     "data": {
      "text/plain": [
       "array([[9625.,   42.],\n",
       "       [ 233.,  100.]])"
      ]
     },
     "execution_count": 11,
     "metadata": {},
     "output_type": "execute_result"
    }
   ],
   "source": [
    "# Confusion Matrix for LogRegression\n",
    "logReg.pred_table(threshold=0.5)"
   ]
  },
  {
   "cell_type": "markdown",
   "metadata": {},
   "source": [
    "### Plotting\n",
    "\n",
    "Above we regressed default on balance. Thus this can still be displayed in a 2d-figure. In order to do so we need to sort the data first. Once this is done, plotting follows the usual routine."
   ]
  },
  {
   "cell_type": "code",
   "execution_count": 12,
   "metadata": {},
   "outputs": [
    {
     "data": {
      "image/png": "[encoded data removed]",
      "text/plain": [
       "<Figure size 864x576 with 1 Axes>"
      ]
     },
     "metadata": {},
     "output_type": "display_data"
    }
   ],
   "source": [
    "# Create sorted resutls-df\n",
    "res = pd.DataFrame()\n",
    "res['balance'] = df.balance\n",
    "res['prob'] = logReg.predict()\n",
    "res = res.sort_values('balance')\n",
    "\n",
    "# Plot scatter & logReg\n",
    "plt.figure(figsize=(12, 8))\n",
    "plt.scatter(df.balance, df.defaultFac, marker='.')\n",
    "plt.plot(res.balance, res.prob, c='k')\n",
    "plt.axhline(y=0, color='gray', linestyle='dashed')\n",
    "plt.axhline(y=1, color='gray', linestyle='dashed')\n",
    "plt.ylabel('Probability of default', fontsize=12)\n",
    "plt.xlabel('Balance', fontsize=12);"
   ]
  },
  {
   "cell_type": "markdown",
   "metadata": {},
   "source": [
    "Here is an alternative way of plotting it. Notice that for the logistic function I do not use the data I trained it with but 'any possible' outcome. "
   ]
  },
  {
   "cell_type": "code",
   "execution_count": 13,
   "metadata": {},
   "outputs": [
    {
     "name": "stderr",
     "output_type": "stream",
     "text": [
      "C:\\Users\\Ben Zimmermann\\anaconda3\\lib\\site-packages\\statsmodels\\tsa\\tsatools.py:142: FutureWarning: In a future version of pandas all arguments of concat except for the argument 'objs' will be keyword-only\n",
      "  x = pd.concat(x[::order], 1)\n"
     ]
    },
    {
     "data": {
      "image/png": "[encoded data removed]",
      "text/plain": [
       "<Figure size 864x576 with 1 Axes>"
      ]
     },
     "metadata": {},
     "output_type": "display_data"
    }
   ],
   "source": [
    "# Create sorted resutls-df\n",
    "res = pd.DataFrame()\n",
    "res['balance'] = np.linspace(start=0, stop=5000, num=10000)\n",
    "res['prob'] = logReg.predict(sm.add_constant(res['balance']))\n",
    "\n",
    "# Plot scatter & logReg\n",
    "plt.figure(figsize=(12, 8))\n",
    "plt.scatter(df.balance, df.defaultFac, marker='.')\n",
    "plt.plot(res.balance, res.prob, c='k')\n",
    "plt.axhline(y=0, color='gray', linestyle='dashed')\n",
    "plt.axhline(y=1, color='gray', linestyle='dashed')\n",
    "plt.ylabel('Probability of default', fontsize=12)\n",
    "plt.xlabel('Balance', fontsize=12);"
   ]
  },
  {
   "cell_type": "markdown",
   "metadata": {},
   "source": [
    "### Multiple Logistic Regression\n",
    "\n",
    "Regressing 'default' on multiple features follows the same procedure as for simple logistic regression. As a case of use we regress 'default' on 'balance', a credit card holder's 'income' and the dummy variable 'studentFac' (1 if applicant is a student, 0 otherwise). "
   ]
  },
  {
   "cell_type": "code",
   "execution_count": 14,
   "metadata": {},
   "outputs": [
    {
     "name": "stdout",
     "output_type": "stream",
     "text": [
      "Optimization terminated successfully.\n",
      "         Current function value: 0.078577\n",
      "         Iterations 10\n",
      "==============================================================================\n",
      "                 coef    std err          z      P>|z|      [0.025      0.975]\n",
      "------------------------------------------------------------------------------\n",
      "const        -10.8690      0.492    -22.079      0.000     -11.834      -9.904\n",
      "balance        0.0057      0.000     24.737      0.000       0.005       0.006\n",
      "income         0.0030      0.008      0.370      0.712      -0.013       0.019\n",
      "studentFac    -0.6468      0.236     -2.738      0.006      -1.110      -0.184\n",
      "==============================================================================\n"
     ]
    },
    {
     "name": "stderr",
     "output_type": "stream",
     "text": [
      "C:\\Users\\Ben Zimmermann\\anaconda3\\lib\\site-packages\\statsmodels\\tsa\\tsatools.py:142: FutureWarning: In a future version of pandas all arguments of concat except for the argument 'objs' will be keyword-only\n",
      "  x = pd.concat(x[::order], 1)\n"
     ]
    }
   ],
   "source": [
    "# Assign features to matrix X and response to y\n",
    "X = sm.add_constant(df[['balance', 'income', 'studentFac']])\n",
    "X.income = X.income / 1000  # Income in 1'000 dollars\n",
    "y = df.defaultFac\n",
    "\n",
    "# Run Logistic Regression\n",
    "logReg = sm.Logit(endog=y, exog=X).fit()\n",
    "print(logReg.summary().tables[1])"
   ]
  },
  {
   "cell_type": "markdown",
   "metadata": {},
   "source": [
    "The p-value for `income` is surprisingly large, indicatign that there is no clear evidence of a real association between the probability of default and income. In a case study this certainly would need to be further examined. "
   ]
  },
  {
   "cell_type": "markdown",
   "metadata": {},
   "source": [
    "### Multiple Logistic Regression with Scikit-learn\n",
    "\n",
    "For reference we show below how logistic regression is run with Scikit-learn. Unfortunately, there is no summary output available in Scikit-learn like there is within the Statsmodels package. The main reason is that sklearn is not used for statistical inference but for predictive modelling/ML and the evaluation criteria are based on performance on previously unseen data. \n",
    "\n",
    "Notice that in order to have similar coefficients/results, the hyperparameter `C` has to be set to `C=1e9`. This parameter is a regularization parameter that refers to the L1/L2 penalty scheme implemented. For details refer to Scikit-learn's [user guide](http://scikit-learn.org/stable/modules/linear_model.html#logistic-regression), [this discussion on Stackoverflow](https://stackoverflow.com/questions/43431236/how-to-perform-an-unregularized-logistic-regression-using-scikit-learn) or chapter 6.2 in James et al. (2013)."
   ]
  },
  {
   "cell_type": "code",
   "execution_count": 15,
   "metadata": {},
   "outputs": [],
   "source": [
    "from sklearn.linear_model import LogisticRegression\n",
    "logReg = LogisticRegression(C=1e9, fit_intercept=False).fit(X, y)"
   ]
  },
  {
   "cell_type": "code",
   "execution_count": 16,
   "metadata": {},
   "outputs": [
    {
     "data": {
      "text/plain": [
       "array([[-1.08690136e+01,  5.73652683e-03,  3.03186192e-03,\n",
       "        -6.46798865e-01]])"
      ]
     },
     "execution_count": 16,
     "metadata": {},
     "output_type": "execute_result"
    }
   ],
   "source": [
    "logReg.coef_"
   ]
  },
  {
   "cell_type": "markdown",
   "metadata": {},
   "source": [
    "### Decision Boundary\n",
    "\n",
    "We've seen above how one can plot a logistic regression in the simple case with just one feature. If you regress a response on two features, it is still possible to create very meaningful plots. A good example is [this answer on stackoverflow](https://stackoverflow.com/questions/28256058/plotting-decision-boundary-of-logistic-regression) where the decision boundary is drawn and the color scheme follows the probability of the response. "
   ]
  },
  {
   "cell_type": "markdown",
   "metadata": {},
   "source": [
    "## Closing Comments\n",
    "In closing this chapter it should be mentioned that the preceding code sections are by no means a thorough analysis but a superficial digging into the topics. Yet the tools and measures necessary to understand the output are yet to be introduced. For this we refer to the chapter on linear discriminant analysis (LDA) and quadratic discriminant analysis (QDA) (and subsequent chapters) where many tools are introduced that are of significant help in analyzing an algorithm's output."
   ]
  },
  {
   "cell_type": "markdown",
   "metadata": {},
   "source": [
    "# Further Ressources\n",
    "\n",
    "\n",
    "In writing this notebook, many ressources were consulted. For internet ressources links are provided within the textflow above. Beyond these links, the following ressources were consulted and are recommended as further reading on the discussed topics:\n",
    "\n",
    "* Agresti, Alan, 2015, *Foundations of Linear and Generalized Linear Models* (John Wiley & Sons, Hoboken, NJ).\n",
    "* Bishop, Christopher M., 2006, *Pattern Recognition and Machine Learning* (Springer, New York, NY).\n",
    "* Czepiel, Scott A., 2002, Maximum Likelihood Estimation of Logistic Regression Models: Theory and Implementation from website, https://czep.net/stat/mlelr.pdf, 08/24/17.\n",
    "* Elkan, Charles, 2014, Maximum Likelihood, Logistic Regression, and Stochastic Gradient Training from website, http://cseweb.ucsd.edu/~elkan/250B/logreg.pdf, 08/24/17.\n",
    "* James, Gareth, Daniela Witten, Trevor Hastie, and Robert Tibshirani, 2013, *An Introduction to Statistical Learning: With Applications in R* (Springer Science & Business Media, New York, NY).\n",
    "* Shalizi, Cosma Rohilla, 2017, Advanced Data Analysis from an Elementary Point of View from website, http://www.stat.cmu.edu/~cshalizi/ADAfaEPoV/ADAfaEPoV.pdf, 08/24/17.\n"
   ]
  }
 ],
 "metadata": {
  "kernelspec": {
   "display_name": "Python 3 (ipykernel)",
   "language": "python",
   "name": "python3"
  },
  "language_info": {
   "codemirror_mode": {
    "name": "ipython",
    "version": 3
   },
   "file_extension": ".py",
   "mimetype": "text/x-python",
   "name": "python",
   "nbconvert_exporter": "python",
   "pygments_lexer": "ipython3",
   "version": "3.9.7"
  }
 },
 "nbformat": 4,
 "nbformat_minor": 4
}
